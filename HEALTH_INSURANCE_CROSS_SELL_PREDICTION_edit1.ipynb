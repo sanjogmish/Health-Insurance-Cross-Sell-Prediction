{
  "nbformat": 4,
  "nbformat_minor": 0,
  "metadata": {
    "colab": {
      "name": "HEALTH INSURANCE CROSS SELL PREDICTION_edit1.ipynb",
      "provenance": [],
      "collapsed_sections": [],
      "include_colab_link": true
    },
    "kernelspec": {
      "name": "python3",
      "display_name": "Python 3"
    },
    "language_info": {
      "name": "python"
    }
  },
  "cells": [
    {
      "cell_type": "markdown",
      "metadata": {
        "id": "view-in-github",
        "colab_type": "text"
      },
      "source": [
        "<a href=\"https://colab.research.google.com/github/sanjogmish/Health-Insurance-Cross-Sell-Prediction/blob/main/HEALTH_INSURANCE_CROSS_SELL_PREDICTION_edit1.ipynb\" target=\"_parent\"><img src=\"https://colab.research.google.com/assets/colab-badge.svg\" alt=\"Open In Colab\"/></a>"
      ]
    },
    {
      "cell_type": "markdown",
      "metadata": {
        "id": "LGcl5Bv9ed6u"
      },
      "source": [
        "# **Problem Statement**"
      ]
    },
    {
      "cell_type": "markdown",
      "metadata": {
        "id": "jJAmGx75jJk1"
      },
      "source": [
        "Our client is an Insurance company that has provided Health Insurance to its customers now they need your help in building a model to predict whether the policyholders (customers) from past year will also be interested in Vehicle Insurance provided by the company.\n",
        "\n",
        "An insurance policy is an arrangement by which a company undertakes to provide a guarantee of compensation for specified loss, damage, illness, or death in return for the payment of a specified premium. A premium is a sum of money that the customer needs to pay regularly to an insurance company for this guarantee.\n",
        "\n",
        "For example, you may pay a premium of Rs. 5000 each year for a health insurance cover of Rs. 200,000/- so that if, God forbid, you fall ill and need to be hospitalised in that year, the insurance provider company will bear the cost of hospitalisation etc. for upto Rs. 200,000. Now if you are wondering how can company bear such high hospitalisation cost when it charges a premium of only Rs. 5000/-, that is where the concept of probabilities comes in picture. For example, like you, there may be 100 customers who would be paying a premium of Rs. 5000 every year, but only a few of them (say 2-3) would get hospitalised that year and not everyone. This way everyone shares the risk of everyone else.\n",
        "\n",
        "Just like medical insurance, there is vehicle insurance where every year customer needs to pay a premium of certain amount to insurance provider company so that in case of unfortunate accident by the vehicle, the insurance provider company will provide a compensation (called ‘sum assured’) to the customer.\n",
        "\n",
        "Building a model to predict whether a customer would be interested in Vehicle Insurance is extremely helpful for the company because it can then accordingly plan its communication strategy to reach out to those customers and optimise its business model and revenue.\n",
        "\n",
        "Now, in order to predict, whether the customer would be interested in Vehicle insurance, you have information about demographics (gender, age, region code type), Vehicles (Vehicle Age, Damage), Policy (Premium, sourcing channel) etc."
      ]
    },
    {
      "cell_type": "markdown",
      "metadata": {
        "id": "AzGDqdC4fZ-b"
      },
      "source": [
        "# **Attribute Information**"
      ]
    },
    {
      "cell_type": "markdown",
      "metadata": {
        "id": "oEJxl68MjYbs"
      },
      "source": [
        "1. id :\tUnique ID for the customer\n",
        "\n",
        "2. Gender\t: Gender of the customer\n",
        "\n",
        "3. Age :\tAge of the customer\n",
        "\n",
        "4. Driving_License\t0 : Customer does not have DL, 1 : Customer already has DL\n",
        "\n",
        "5. Region_Code :\tUnique code for the region of the customer\n",
        "\n",
        "6. Previously_Insured\t: 1 : Customer already has Vehicle Insurance, 0 : Customer doesn't have Vehicle Insurance\n",
        "\n",
        "7. Vehicle_Age :\tAge of the Vehicle\n",
        "\n",
        "8. Vehicle_Damage\t :1 : Customer got his/her vehicle damaged in the past. 0 : Customer didn't get his/her vehicle damaged in the past.\n",
        "\n",
        "9. Annual_Premium\t: The amount customer needs to pay as premium in the year\n",
        "\n",
        "10. PolicySalesChannel :\tAnonymized Code for the channel of outreaching to the customer ie. Different Agents, Over Mail, Over Phone, In Person, etc.\n",
        "\n",
        "11. Vintage :\tNumber of Days, Customer has been associated with the company\n",
        "\n",
        "12. Response :\t1 : Customer is interested, 0 : Customer is not interested"
      ]
    },
    {
      "cell_type": "code",
      "metadata": {
        "id": "ltnYekgAysSG"
      },
      "source": [
        ""
      ],
      "execution_count": null,
      "outputs": []
    },
    {
      "cell_type": "code",
      "metadata": {
        "colab": {
          "base_uri": "https://localhost:8080/"
        },
        "id": "Bv7mzkf6ytEB",
        "outputId": "48a631d3-9a12-463f-aaea-a35d67483d4d"
      },
      "source": [
        "from google.colab import drive\n",
        "drive.mount('/content/drive')"
      ],
      "execution_count": 1,
      "outputs": [
        {
          "output_type": "stream",
          "name": "stdout",
          "text": [
            "Mounted at /content/drive\n"
          ]
        }
      ]
    },
    {
      "cell_type": "code",
      "metadata": {
        "id": "df5vvErPzarV"
      },
      "source": [
        "import pandas as pd"
      ],
      "execution_count": 2,
      "outputs": []
    },
    {
      "cell_type": "code",
      "metadata": {
        "id": "qkuYFNEMytw6"
      },
      "source": [
        "df = pd.read_csv('/content/drive/MyDrive/Almabetter/Modules/files/TRAIN-HEALTH INSURANCE CROSS SELL PREDICTION.csv')"
      ],
      "execution_count": 3,
      "outputs": []
    },
    {
      "cell_type": "code",
      "metadata": {
        "colab": {
          "base_uri": "https://localhost:8080/",
          "height": 417
        },
        "id": "dLLPUxG_zZqp",
        "outputId": "428b8ac8-61ee-4b3a-f1f1-e21861652457"
      },
      "source": [
        "df"
      ],
      "execution_count": 4,
      "outputs": [
        {
          "output_type": "execute_result",
          "data": {
            "text/html": [
              "<div>\n",
              "<style scoped>\n",
              "    .dataframe tbody tr th:only-of-type {\n",
              "        vertical-align: middle;\n",
              "    }\n",
              "\n",
              "    .dataframe tbody tr th {\n",
              "        vertical-align: top;\n",
              "    }\n",
              "\n",
              "    .dataframe thead th {\n",
              "        text-align: right;\n",
              "    }\n",
              "</style>\n",
              "<table border=\"1\" class=\"dataframe\">\n",
              "  <thead>\n",
              "    <tr style=\"text-align: right;\">\n",
              "      <th></th>\n",
              "      <th>id</th>\n",
              "      <th>Gender</th>\n",
              "      <th>Age</th>\n",
              "      <th>Driving_License</th>\n",
              "      <th>Region_Code</th>\n",
              "      <th>Previously_Insured</th>\n",
              "      <th>Vehicle_Age</th>\n",
              "      <th>Vehicle_Damage</th>\n",
              "      <th>Annual_Premium</th>\n",
              "      <th>Policy_Sales_Channel</th>\n",
              "      <th>Vintage</th>\n",
              "      <th>Response</th>\n",
              "    </tr>\n",
              "  </thead>\n",
              "  <tbody>\n",
              "    <tr>\n",
              "      <th>0</th>\n",
              "      <td>1</td>\n",
              "      <td>Male</td>\n",
              "      <td>44</td>\n",
              "      <td>1</td>\n",
              "      <td>28.0</td>\n",
              "      <td>0</td>\n",
              "      <td>&gt; 2 Years</td>\n",
              "      <td>Yes</td>\n",
              "      <td>40454.0</td>\n",
              "      <td>26.0</td>\n",
              "      <td>217</td>\n",
              "      <td>1</td>\n",
              "    </tr>\n",
              "    <tr>\n",
              "      <th>1</th>\n",
              "      <td>2</td>\n",
              "      <td>Male</td>\n",
              "      <td>76</td>\n",
              "      <td>1</td>\n",
              "      <td>3.0</td>\n",
              "      <td>0</td>\n",
              "      <td>1-2 Year</td>\n",
              "      <td>No</td>\n",
              "      <td>33536.0</td>\n",
              "      <td>26.0</td>\n",
              "      <td>183</td>\n",
              "      <td>0</td>\n",
              "    </tr>\n",
              "    <tr>\n",
              "      <th>2</th>\n",
              "      <td>3</td>\n",
              "      <td>Male</td>\n",
              "      <td>47</td>\n",
              "      <td>1</td>\n",
              "      <td>28.0</td>\n",
              "      <td>0</td>\n",
              "      <td>&gt; 2 Years</td>\n",
              "      <td>Yes</td>\n",
              "      <td>38294.0</td>\n",
              "      <td>26.0</td>\n",
              "      <td>27</td>\n",
              "      <td>1</td>\n",
              "    </tr>\n",
              "    <tr>\n",
              "      <th>3</th>\n",
              "      <td>4</td>\n",
              "      <td>Male</td>\n",
              "      <td>21</td>\n",
              "      <td>1</td>\n",
              "      <td>11.0</td>\n",
              "      <td>1</td>\n",
              "      <td>&lt; 1 Year</td>\n",
              "      <td>No</td>\n",
              "      <td>28619.0</td>\n",
              "      <td>152.0</td>\n",
              "      <td>203</td>\n",
              "      <td>0</td>\n",
              "    </tr>\n",
              "    <tr>\n",
              "      <th>4</th>\n",
              "      <td>5</td>\n",
              "      <td>Female</td>\n",
              "      <td>29</td>\n",
              "      <td>1</td>\n",
              "      <td>41.0</td>\n",
              "      <td>1</td>\n",
              "      <td>&lt; 1 Year</td>\n",
              "      <td>No</td>\n",
              "      <td>27496.0</td>\n",
              "      <td>152.0</td>\n",
              "      <td>39</td>\n",
              "      <td>0</td>\n",
              "    </tr>\n",
              "    <tr>\n",
              "      <th>...</th>\n",
              "      <td>...</td>\n",
              "      <td>...</td>\n",
              "      <td>...</td>\n",
              "      <td>...</td>\n",
              "      <td>...</td>\n",
              "      <td>...</td>\n",
              "      <td>...</td>\n",
              "      <td>...</td>\n",
              "      <td>...</td>\n",
              "      <td>...</td>\n",
              "      <td>...</td>\n",
              "      <td>...</td>\n",
              "    </tr>\n",
              "    <tr>\n",
              "      <th>381104</th>\n",
              "      <td>381105</td>\n",
              "      <td>Male</td>\n",
              "      <td>74</td>\n",
              "      <td>1</td>\n",
              "      <td>26.0</td>\n",
              "      <td>1</td>\n",
              "      <td>1-2 Year</td>\n",
              "      <td>No</td>\n",
              "      <td>30170.0</td>\n",
              "      <td>26.0</td>\n",
              "      <td>88</td>\n",
              "      <td>0</td>\n",
              "    </tr>\n",
              "    <tr>\n",
              "      <th>381105</th>\n",
              "      <td>381106</td>\n",
              "      <td>Male</td>\n",
              "      <td>30</td>\n",
              "      <td>1</td>\n",
              "      <td>37.0</td>\n",
              "      <td>1</td>\n",
              "      <td>&lt; 1 Year</td>\n",
              "      <td>No</td>\n",
              "      <td>40016.0</td>\n",
              "      <td>152.0</td>\n",
              "      <td>131</td>\n",
              "      <td>0</td>\n",
              "    </tr>\n",
              "    <tr>\n",
              "      <th>381106</th>\n",
              "      <td>381107</td>\n",
              "      <td>Male</td>\n",
              "      <td>21</td>\n",
              "      <td>1</td>\n",
              "      <td>30.0</td>\n",
              "      <td>1</td>\n",
              "      <td>&lt; 1 Year</td>\n",
              "      <td>No</td>\n",
              "      <td>35118.0</td>\n",
              "      <td>160.0</td>\n",
              "      <td>161</td>\n",
              "      <td>0</td>\n",
              "    </tr>\n",
              "    <tr>\n",
              "      <th>381107</th>\n",
              "      <td>381108</td>\n",
              "      <td>Female</td>\n",
              "      <td>68</td>\n",
              "      <td>1</td>\n",
              "      <td>14.0</td>\n",
              "      <td>0</td>\n",
              "      <td>&gt; 2 Years</td>\n",
              "      <td>Yes</td>\n",
              "      <td>44617.0</td>\n",
              "      <td>124.0</td>\n",
              "      <td>74</td>\n",
              "      <td>0</td>\n",
              "    </tr>\n",
              "    <tr>\n",
              "      <th>381108</th>\n",
              "      <td>381109</td>\n",
              "      <td>Male</td>\n",
              "      <td>46</td>\n",
              "      <td>1</td>\n",
              "      <td>29.0</td>\n",
              "      <td>0</td>\n",
              "      <td>1-2 Year</td>\n",
              "      <td>No</td>\n",
              "      <td>41777.0</td>\n",
              "      <td>26.0</td>\n",
              "      <td>237</td>\n",
              "      <td>0</td>\n",
              "    </tr>\n",
              "  </tbody>\n",
              "</table>\n",
              "<p>381109 rows × 12 columns</p>\n",
              "</div>"
            ],
            "text/plain": [
              "            id  Gender  Age  ...  Policy_Sales_Channel  Vintage  Response\n",
              "0            1    Male   44  ...                  26.0      217         1\n",
              "1            2    Male   76  ...                  26.0      183         0\n",
              "2            3    Male   47  ...                  26.0       27         1\n",
              "3            4    Male   21  ...                 152.0      203         0\n",
              "4            5  Female   29  ...                 152.0       39         0\n",
              "...        ...     ...  ...  ...                   ...      ...       ...\n",
              "381104  381105    Male   74  ...                  26.0       88         0\n",
              "381105  381106    Male   30  ...                 152.0      131         0\n",
              "381106  381107    Male   21  ...                 160.0      161         0\n",
              "381107  381108  Female   68  ...                 124.0       74         0\n",
              "381108  381109    Male   46  ...                  26.0      237         0\n",
              "\n",
              "[381109 rows x 12 columns]"
            ]
          },
          "metadata": {},
          "execution_count": 4
        }
      ]
    },
    {
      "cell_type": "code",
      "metadata": {
        "colab": {
          "base_uri": "https://localhost:8080/"
        },
        "id": "LqVJP2if0Z79",
        "outputId": "72048b37-b3c5-4261-bd3e-625f8079f764"
      },
      "source": [
        "len(df[df['Response']==1])/len(df[df['Response']==0])"
      ],
      "execution_count": 5,
      "outputs": [
        {
          "output_type": "execute_result",
          "data": {
            "text/plain": [
              "0.13968343206767964"
            ]
          },
          "metadata": {},
          "execution_count": 5
        }
      ]
    },
    {
      "cell_type": "code",
      "metadata": {
        "colab": {
          "base_uri": "https://localhost:8080/",
          "height": 172
        },
        "id": "iQuL6HLd1XKO",
        "outputId": "2b786d6d-2ffc-4161-a4d1-e6d9b3d6f4c4"
      },
      "source": [
        "df.groupby('Vehicle_Age').count()"
      ],
      "execution_count": 6,
      "outputs": [
        {
          "output_type": "execute_result",
          "data": {
            "text/html": [
              "<div>\n",
              "<style scoped>\n",
              "    .dataframe tbody tr th:only-of-type {\n",
              "        vertical-align: middle;\n",
              "    }\n",
              "\n",
              "    .dataframe tbody tr th {\n",
              "        vertical-align: top;\n",
              "    }\n",
              "\n",
              "    .dataframe thead th {\n",
              "        text-align: right;\n",
              "    }\n",
              "</style>\n",
              "<table border=\"1\" class=\"dataframe\">\n",
              "  <thead>\n",
              "    <tr style=\"text-align: right;\">\n",
              "      <th></th>\n",
              "      <th>id</th>\n",
              "      <th>Gender</th>\n",
              "      <th>Age</th>\n",
              "      <th>Driving_License</th>\n",
              "      <th>Region_Code</th>\n",
              "      <th>Previously_Insured</th>\n",
              "      <th>Vehicle_Damage</th>\n",
              "      <th>Annual_Premium</th>\n",
              "      <th>Policy_Sales_Channel</th>\n",
              "      <th>Vintage</th>\n",
              "      <th>Response</th>\n",
              "    </tr>\n",
              "    <tr>\n",
              "      <th>Vehicle_Age</th>\n",
              "      <th></th>\n",
              "      <th></th>\n",
              "      <th></th>\n",
              "      <th></th>\n",
              "      <th></th>\n",
              "      <th></th>\n",
              "      <th></th>\n",
              "      <th></th>\n",
              "      <th></th>\n",
              "      <th></th>\n",
              "      <th></th>\n",
              "    </tr>\n",
              "  </thead>\n",
              "  <tbody>\n",
              "    <tr>\n",
              "      <th>1-2 Year</th>\n",
              "      <td>200316</td>\n",
              "      <td>200316</td>\n",
              "      <td>200316</td>\n",
              "      <td>200316</td>\n",
              "      <td>200316</td>\n",
              "      <td>200316</td>\n",
              "      <td>200316</td>\n",
              "      <td>200316</td>\n",
              "      <td>200316</td>\n",
              "      <td>200316</td>\n",
              "      <td>200316</td>\n",
              "    </tr>\n",
              "    <tr>\n",
              "      <th>&lt; 1 Year</th>\n",
              "      <td>164786</td>\n",
              "      <td>164786</td>\n",
              "      <td>164786</td>\n",
              "      <td>164786</td>\n",
              "      <td>164786</td>\n",
              "      <td>164786</td>\n",
              "      <td>164786</td>\n",
              "      <td>164786</td>\n",
              "      <td>164786</td>\n",
              "      <td>164786</td>\n",
              "      <td>164786</td>\n",
              "    </tr>\n",
              "    <tr>\n",
              "      <th>&gt; 2 Years</th>\n",
              "      <td>16007</td>\n",
              "      <td>16007</td>\n",
              "      <td>16007</td>\n",
              "      <td>16007</td>\n",
              "      <td>16007</td>\n",
              "      <td>16007</td>\n",
              "      <td>16007</td>\n",
              "      <td>16007</td>\n",
              "      <td>16007</td>\n",
              "      <td>16007</td>\n",
              "      <td>16007</td>\n",
              "    </tr>\n",
              "  </tbody>\n",
              "</table>\n",
              "</div>"
            ],
            "text/plain": [
              "                 id  Gender     Age  ...  Policy_Sales_Channel  Vintage  Response\n",
              "Vehicle_Age                          ...                                         \n",
              "1-2 Year     200316  200316  200316  ...                200316   200316    200316\n",
              "< 1 Year     164786  164786  164786  ...                164786   164786    164786\n",
              "> 2 Years     16007   16007   16007  ...                 16007    16007     16007\n",
              "\n",
              "[3 rows x 11 columns]"
            ]
          },
          "metadata": {},
          "execution_count": 6
        }
      ]
    },
    {
      "cell_type": "code",
      "metadata": {
        "id": "qVF_lqBJ2C0q",
        "colab": {
          "base_uri": "https://localhost:8080/"
        },
        "outputId": "52c3b240-68e0-406e-af88-838e77a48de1"
      },
      "source": [
        "df.info()"
      ],
      "execution_count": 7,
      "outputs": [
        {
          "output_type": "stream",
          "name": "stdout",
          "text": [
            "<class 'pandas.core.frame.DataFrame'>\n",
            "RangeIndex: 381109 entries, 0 to 381108\n",
            "Data columns (total 12 columns):\n",
            " #   Column                Non-Null Count   Dtype  \n",
            "---  ------                --------------   -----  \n",
            " 0   id                    381109 non-null  int64  \n",
            " 1   Gender                381109 non-null  object \n",
            " 2   Age                   381109 non-null  int64  \n",
            " 3   Driving_License       381109 non-null  int64  \n",
            " 4   Region_Code           381109 non-null  float64\n",
            " 5   Previously_Insured    381109 non-null  int64  \n",
            " 6   Vehicle_Age           381109 non-null  object \n",
            " 7   Vehicle_Damage        381109 non-null  object \n",
            " 8   Annual_Premium        381109 non-null  float64\n",
            " 9   Policy_Sales_Channel  381109 non-null  float64\n",
            " 10  Vintage               381109 non-null  int64  \n",
            " 11  Response              381109 non-null  int64  \n",
            "dtypes: float64(3), int64(6), object(3)\n",
            "memory usage: 34.9+ MB\n"
          ]
        }
      ]
    },
    {
      "cell_type": "code",
      "metadata": {
        "colab": {
          "base_uri": "https://localhost:8080/",
          "height": 142
        },
        "id": "F0-D2vFEok4Y",
        "outputId": "2110cd85-86e8-4152-9799-33e020b0458d"
      },
      "source": [
        "df.groupby('Vehicle_Damage').count()"
      ],
      "execution_count": 8,
      "outputs": [
        {
          "output_type": "execute_result",
          "data": {
            "text/html": [
              "<div>\n",
              "<style scoped>\n",
              "    .dataframe tbody tr th:only-of-type {\n",
              "        vertical-align: middle;\n",
              "    }\n",
              "\n",
              "    .dataframe tbody tr th {\n",
              "        vertical-align: top;\n",
              "    }\n",
              "\n",
              "    .dataframe thead th {\n",
              "        text-align: right;\n",
              "    }\n",
              "</style>\n",
              "<table border=\"1\" class=\"dataframe\">\n",
              "  <thead>\n",
              "    <tr style=\"text-align: right;\">\n",
              "      <th></th>\n",
              "      <th>id</th>\n",
              "      <th>Gender</th>\n",
              "      <th>Age</th>\n",
              "      <th>Driving_License</th>\n",
              "      <th>Region_Code</th>\n",
              "      <th>Previously_Insured</th>\n",
              "      <th>Vehicle_Age</th>\n",
              "      <th>Annual_Premium</th>\n",
              "      <th>Policy_Sales_Channel</th>\n",
              "      <th>Vintage</th>\n",
              "      <th>Response</th>\n",
              "    </tr>\n",
              "    <tr>\n",
              "      <th>Vehicle_Damage</th>\n",
              "      <th></th>\n",
              "      <th></th>\n",
              "      <th></th>\n",
              "      <th></th>\n",
              "      <th></th>\n",
              "      <th></th>\n",
              "      <th></th>\n",
              "      <th></th>\n",
              "      <th></th>\n",
              "      <th></th>\n",
              "      <th></th>\n",
              "    </tr>\n",
              "  </thead>\n",
              "  <tbody>\n",
              "    <tr>\n",
              "      <th>No</th>\n",
              "      <td>188696</td>\n",
              "      <td>188696</td>\n",
              "      <td>188696</td>\n",
              "      <td>188696</td>\n",
              "      <td>188696</td>\n",
              "      <td>188696</td>\n",
              "      <td>188696</td>\n",
              "      <td>188696</td>\n",
              "      <td>188696</td>\n",
              "      <td>188696</td>\n",
              "      <td>188696</td>\n",
              "    </tr>\n",
              "    <tr>\n",
              "      <th>Yes</th>\n",
              "      <td>192413</td>\n",
              "      <td>192413</td>\n",
              "      <td>192413</td>\n",
              "      <td>192413</td>\n",
              "      <td>192413</td>\n",
              "      <td>192413</td>\n",
              "      <td>192413</td>\n",
              "      <td>192413</td>\n",
              "      <td>192413</td>\n",
              "      <td>192413</td>\n",
              "      <td>192413</td>\n",
              "    </tr>\n",
              "  </tbody>\n",
              "</table>\n",
              "</div>"
            ],
            "text/plain": [
              "                    id  Gender     Age  ...  Policy_Sales_Channel  Vintage  Response\n",
              "Vehicle_Damage                          ...                                         \n",
              "No              188696  188696  188696  ...                188696   188696    188696\n",
              "Yes             192413  192413  192413  ...                192413   192413    192413\n",
              "\n",
              "[2 rows x 11 columns]"
            ]
          },
          "metadata": {},
          "execution_count": 8
        }
      ]
    },
    {
      "cell_type": "code",
      "metadata": {
        "id": "KxpeqoHVup3Q"
      },
      "source": [
        "df_copy = df.copy()"
      ],
      "execution_count": 9,
      "outputs": []
    },
    {
      "cell_type": "code",
      "metadata": {
        "id": "09Kps89WvbqW"
      },
      "source": [
        "import numpy as np"
      ],
      "execution_count": 10,
      "outputs": []
    },
    {
      "cell_type": "code",
      "metadata": {
        "colab": {
          "base_uri": "https://localhost:8080/",
          "height": 203
        },
        "id": "bqPeBzlcuvys",
        "outputId": "c8a86128-1039-44b9-d47c-4774e106063c"
      },
      "source": [
        "df_copy['Gender'] = np.where(df_copy['Gender']=='Male',1,0)\n",
        "df_copy.head()"
      ],
      "execution_count": 11,
      "outputs": [
        {
          "output_type": "execute_result",
          "data": {
            "text/html": [
              "<div>\n",
              "<style scoped>\n",
              "    .dataframe tbody tr th:only-of-type {\n",
              "        vertical-align: middle;\n",
              "    }\n",
              "\n",
              "    .dataframe tbody tr th {\n",
              "        vertical-align: top;\n",
              "    }\n",
              "\n",
              "    .dataframe thead th {\n",
              "        text-align: right;\n",
              "    }\n",
              "</style>\n",
              "<table border=\"1\" class=\"dataframe\">\n",
              "  <thead>\n",
              "    <tr style=\"text-align: right;\">\n",
              "      <th></th>\n",
              "      <th>id</th>\n",
              "      <th>Gender</th>\n",
              "      <th>Age</th>\n",
              "      <th>Driving_License</th>\n",
              "      <th>Region_Code</th>\n",
              "      <th>Previously_Insured</th>\n",
              "      <th>Vehicle_Age</th>\n",
              "      <th>Vehicle_Damage</th>\n",
              "      <th>Annual_Premium</th>\n",
              "      <th>Policy_Sales_Channel</th>\n",
              "      <th>Vintage</th>\n",
              "      <th>Response</th>\n",
              "    </tr>\n",
              "  </thead>\n",
              "  <tbody>\n",
              "    <tr>\n",
              "      <th>0</th>\n",
              "      <td>1</td>\n",
              "      <td>1</td>\n",
              "      <td>44</td>\n",
              "      <td>1</td>\n",
              "      <td>28.0</td>\n",
              "      <td>0</td>\n",
              "      <td>&gt; 2 Years</td>\n",
              "      <td>Yes</td>\n",
              "      <td>40454.0</td>\n",
              "      <td>26.0</td>\n",
              "      <td>217</td>\n",
              "      <td>1</td>\n",
              "    </tr>\n",
              "    <tr>\n",
              "      <th>1</th>\n",
              "      <td>2</td>\n",
              "      <td>1</td>\n",
              "      <td>76</td>\n",
              "      <td>1</td>\n",
              "      <td>3.0</td>\n",
              "      <td>0</td>\n",
              "      <td>1-2 Year</td>\n",
              "      <td>No</td>\n",
              "      <td>33536.0</td>\n",
              "      <td>26.0</td>\n",
              "      <td>183</td>\n",
              "      <td>0</td>\n",
              "    </tr>\n",
              "    <tr>\n",
              "      <th>2</th>\n",
              "      <td>3</td>\n",
              "      <td>1</td>\n",
              "      <td>47</td>\n",
              "      <td>1</td>\n",
              "      <td>28.0</td>\n",
              "      <td>0</td>\n",
              "      <td>&gt; 2 Years</td>\n",
              "      <td>Yes</td>\n",
              "      <td>38294.0</td>\n",
              "      <td>26.0</td>\n",
              "      <td>27</td>\n",
              "      <td>1</td>\n",
              "    </tr>\n",
              "    <tr>\n",
              "      <th>3</th>\n",
              "      <td>4</td>\n",
              "      <td>1</td>\n",
              "      <td>21</td>\n",
              "      <td>1</td>\n",
              "      <td>11.0</td>\n",
              "      <td>1</td>\n",
              "      <td>&lt; 1 Year</td>\n",
              "      <td>No</td>\n",
              "      <td>28619.0</td>\n",
              "      <td>152.0</td>\n",
              "      <td>203</td>\n",
              "      <td>0</td>\n",
              "    </tr>\n",
              "    <tr>\n",
              "      <th>4</th>\n",
              "      <td>5</td>\n",
              "      <td>0</td>\n",
              "      <td>29</td>\n",
              "      <td>1</td>\n",
              "      <td>41.0</td>\n",
              "      <td>1</td>\n",
              "      <td>&lt; 1 Year</td>\n",
              "      <td>No</td>\n",
              "      <td>27496.0</td>\n",
              "      <td>152.0</td>\n",
              "      <td>39</td>\n",
              "      <td>0</td>\n",
              "    </tr>\n",
              "  </tbody>\n",
              "</table>\n",
              "</div>"
            ],
            "text/plain": [
              "   id  Gender  Age  ...  Policy_Sales_Channel  Vintage  Response\n",
              "0   1       1   44  ...                  26.0      217         1\n",
              "1   2       1   76  ...                  26.0      183         0\n",
              "2   3       1   47  ...                  26.0       27         1\n",
              "3   4       1   21  ...                 152.0      203         0\n",
              "4   5       0   29  ...                 152.0       39         0\n",
              "\n",
              "[5 rows x 12 columns]"
            ]
          },
          "metadata": {},
          "execution_count": 11
        }
      ]
    },
    {
      "cell_type": "code",
      "metadata": {
        "id": "DH4QxWHKyUkX"
      },
      "source": [
        "df_copy.drop(columns = ['id'],inplace = True)"
      ],
      "execution_count": 12,
      "outputs": []
    },
    {
      "cell_type": "code",
      "metadata": {
        "id": "iqplX_bI34U9"
      },
      "source": [
        "list_of_regions = list(set(df_copy['Region_Code'].values))"
      ],
      "execution_count": 13,
      "outputs": []
    },
    {
      "cell_type": "code",
      "metadata": {
        "id": "ypFTNB4VBDXE"
      },
      "source": [
        "list_of_in_category = list(df_copy.groupby('Region_Code')['Response'].mean().values)"
      ],
      "execution_count": 14,
      "outputs": []
    },
    {
      "cell_type": "code",
      "metadata": {
        "id": "M1Ip4FO9EKqq"
      },
      "source": [
        "overall_mean = df_copy['Response'].mean()"
      ],
      "execution_count": 15,
      "outputs": []
    },
    {
      "cell_type": "code",
      "metadata": {
        "id": "WIRlLlmvEp6K"
      },
      "source": [
        "frequency_of_regions = list(df_copy.groupby('Region_Code')['Gender'].count().values)"
      ],
      "execution_count": 16,
      "outputs": []
    },
    {
      "cell_type": "code",
      "metadata": {
        "id": "NMwRnHnX_iW6"
      },
      "source": [
        "encoded_list = list()\n",
        "m=2\n",
        "for i in range(0,53):\n",
        "   encoded_list.append((frequency_of_regions[i]/(frequency_of_regions[i] + m)) * list_of_in_category[i] + (1 - frequency_of_regions[i]/(frequency_of_regions[i] + m)) * overall_mean)"
      ],
      "execution_count": 17,
      "outputs": []
    },
    {
      "cell_type": "code",
      "metadata": {
        "id": "5vWHm5KLHNIi"
      },
      "source": [
        "dictionary_of_region_encoded = dict(zip(list_of_regions,encoded_list))"
      ],
      "execution_count": 18,
      "outputs": []
    },
    {
      "cell_type": "code",
      "metadata": {
        "id": "pusx_ZLRR42Q"
      },
      "source": [
        "for i in list_of_regions:\n",
        "    df_copy['Region_Code'] = np.where(df_copy['Region_Code']==i,dictionary_of_region_encoded.get(i),df_copy['Region_Code'])"
      ],
      "execution_count": 19,
      "outputs": []
    },
    {
      "cell_type": "code",
      "metadata": {
        "id": "EfnxfxyKUTDP"
      },
      "source": [
        "df_copy.rename(columns={'Region_Code':'Encoded_Region'},inplace=True)"
      ],
      "execution_count": 20,
      "outputs": []
    },
    {
      "cell_type": "code",
      "metadata": {
        "colab": {
          "base_uri": "https://localhost:8080/",
          "height": 417
        },
        "id": "iYCtGGsbiOr8",
        "outputId": "3ba3805a-2d6d-47f6-8b13-bd67fefbed08"
      },
      "source": [
        "df_copy"
      ],
      "execution_count": 21,
      "outputs": [
        {
          "output_type": "execute_result",
          "data": {
            "text/html": [
              "<div>\n",
              "<style scoped>\n",
              "    .dataframe tbody tr th:only-of-type {\n",
              "        vertical-align: middle;\n",
              "    }\n",
              "\n",
              "    .dataframe tbody tr th {\n",
              "        vertical-align: top;\n",
              "    }\n",
              "\n",
              "    .dataframe thead th {\n",
              "        text-align: right;\n",
              "    }\n",
              "</style>\n",
              "<table border=\"1\" class=\"dataframe\">\n",
              "  <thead>\n",
              "    <tr style=\"text-align: right;\">\n",
              "      <th></th>\n",
              "      <th>Gender</th>\n",
              "      <th>Age</th>\n",
              "      <th>Driving_License</th>\n",
              "      <th>Encoded_Region</th>\n",
              "      <th>Previously_Insured</th>\n",
              "      <th>Vehicle_Age</th>\n",
              "      <th>Vehicle_Damage</th>\n",
              "      <th>Annual_Premium</th>\n",
              "      <th>Policy_Sales_Channel</th>\n",
              "      <th>Vintage</th>\n",
              "      <th>Response</th>\n",
              "    </tr>\n",
              "  </thead>\n",
              "  <tbody>\n",
              "    <tr>\n",
              "      <th>0</th>\n",
              "      <td>1</td>\n",
              "      <td>44</td>\n",
              "      <td>1</td>\n",
              "      <td>0.187162</td>\n",
              "      <td>0</td>\n",
              "      <td>&gt; 2 Years</td>\n",
              "      <td>Yes</td>\n",
              "      <td>40454.0</td>\n",
              "      <td>26.0</td>\n",
              "      <td>217</td>\n",
              "      <td>1</td>\n",
              "    </tr>\n",
              "    <tr>\n",
              "      <th>1</th>\n",
              "      <td>1</td>\n",
              "      <td>76</td>\n",
              "      <td>1</td>\n",
              "      <td>0.127661</td>\n",
              "      <td>0</td>\n",
              "      <td>1-2 Year</td>\n",
              "      <td>No</td>\n",
              "      <td>33536.0</td>\n",
              "      <td>26.0</td>\n",
              "      <td>183</td>\n",
              "      <td>0</td>\n",
              "    </tr>\n",
              "    <tr>\n",
              "      <th>2</th>\n",
              "      <td>1</td>\n",
              "      <td>47</td>\n",
              "      <td>1</td>\n",
              "      <td>0.187162</td>\n",
              "      <td>0</td>\n",
              "      <td>&gt; 2 Years</td>\n",
              "      <td>Yes</td>\n",
              "      <td>38294.0</td>\n",
              "      <td>26.0</td>\n",
              "      <td>27</td>\n",
              "      <td>1</td>\n",
              "    </tr>\n",
              "    <tr>\n",
              "      <th>3</th>\n",
              "      <td>1</td>\n",
              "      <td>21</td>\n",
              "      <td>1</td>\n",
              "      <td>0.112762</td>\n",
              "      <td>1</td>\n",
              "      <td>&lt; 1 Year</td>\n",
              "      <td>No</td>\n",
              "      <td>28619.0</td>\n",
              "      <td>152.0</td>\n",
              "      <td>203</td>\n",
              "      <td>0</td>\n",
              "    </tr>\n",
              "    <tr>\n",
              "      <th>4</th>\n",
              "      <td>0</td>\n",
              "      <td>29</td>\n",
              "      <td>1</td>\n",
              "      <td>0.121776</td>\n",
              "      <td>1</td>\n",
              "      <td>&lt; 1 Year</td>\n",
              "      <td>No</td>\n",
              "      <td>27496.0</td>\n",
              "      <td>152.0</td>\n",
              "      <td>39</td>\n",
              "      <td>0</td>\n",
              "    </tr>\n",
              "    <tr>\n",
              "      <th>...</th>\n",
              "      <td>...</td>\n",
              "      <td>...</td>\n",
              "      <td>...</td>\n",
              "      <td>...</td>\n",
              "      <td>...</td>\n",
              "      <td>...</td>\n",
              "      <td>...</td>\n",
              "      <td>...</td>\n",
              "      <td>...</td>\n",
              "      <td>...</td>\n",
              "      <td>...</td>\n",
              "    </tr>\n",
              "    <tr>\n",
              "      <th>381104</th>\n",
              "      <td>1</td>\n",
              "      <td>74</td>\n",
              "      <td>1</td>\n",
              "      <td>0.072323</td>\n",
              "      <td>1</td>\n",
              "      <td>1-2 Year</td>\n",
              "      <td>No</td>\n",
              "      <td>30170.0</td>\n",
              "      <td>26.0</td>\n",
              "      <td>88</td>\n",
              "      <td>0</td>\n",
              "    </tr>\n",
              "    <tr>\n",
              "      <th>381105</th>\n",
              "      <td>1</td>\n",
              "      <td>30</td>\n",
              "      <td>1</td>\n",
              "      <td>0.079274</td>\n",
              "      <td>1</td>\n",
              "      <td>&lt; 1 Year</td>\n",
              "      <td>No</td>\n",
              "      <td>40016.0</td>\n",
              "      <td>152.0</td>\n",
              "      <td>131</td>\n",
              "      <td>0</td>\n",
              "    </tr>\n",
              "    <tr>\n",
              "      <th>381106</th>\n",
              "      <td>1</td>\n",
              "      <td>21</td>\n",
              "      <td>1</td>\n",
              "      <td>0.073833</td>\n",
              "      <td>1</td>\n",
              "      <td>&lt; 1 Year</td>\n",
              "      <td>No</td>\n",
              "      <td>35118.0</td>\n",
              "      <td>160.0</td>\n",
              "      <td>161</td>\n",
              "      <td>0</td>\n",
              "    </tr>\n",
              "    <tr>\n",
              "      <th>381107</th>\n",
              "      <td>0</td>\n",
              "      <td>68</td>\n",
              "      <td>1</td>\n",
              "      <td>0.090223</td>\n",
              "      <td>0</td>\n",
              "      <td>&gt; 2 Years</td>\n",
              "      <td>Yes</td>\n",
              "      <td>44617.0</td>\n",
              "      <td>124.0</td>\n",
              "      <td>74</td>\n",
              "      <td>0</td>\n",
              "    </tr>\n",
              "    <tr>\n",
              "      <th>381108</th>\n",
              "      <td>1</td>\n",
              "      <td>46</td>\n",
              "      <td>1</td>\n",
              "      <td>0.123362</td>\n",
              "      <td>0</td>\n",
              "      <td>1-2 Year</td>\n",
              "      <td>No</td>\n",
              "      <td>41777.0</td>\n",
              "      <td>26.0</td>\n",
              "      <td>237</td>\n",
              "      <td>0</td>\n",
              "    </tr>\n",
              "  </tbody>\n",
              "</table>\n",
              "<p>381109 rows × 11 columns</p>\n",
              "</div>"
            ],
            "text/plain": [
              "        Gender  Age  Driving_License  ...  Policy_Sales_Channel  Vintage Response\n",
              "0            1   44                1  ...                  26.0      217        1\n",
              "1            1   76                1  ...                  26.0      183        0\n",
              "2            1   47                1  ...                  26.0       27        1\n",
              "3            1   21                1  ...                 152.0      203        0\n",
              "4            0   29                1  ...                 152.0       39        0\n",
              "...        ...  ...              ...  ...                   ...      ...      ...\n",
              "381104       1   74                1  ...                  26.0       88        0\n",
              "381105       1   30                1  ...                 152.0      131        0\n",
              "381106       1   21                1  ...                 160.0      161        0\n",
              "381107       0   68                1  ...                 124.0       74        0\n",
              "381108       1   46                1  ...                  26.0      237        0\n",
              "\n",
              "[381109 rows x 11 columns]"
            ]
          },
          "metadata": {},
          "execution_count": 21
        }
      ]
    },
    {
      "cell_type": "code",
      "metadata": {
        "id": "6SpW1bSjWLf3"
      },
      "source": [
        "df_copy['> 2 Years'] = np.where(df_copy['Vehicle_Age']=='> 2 Years',1,0)\n",
        "df_copy['1-2 Year'] = np.where(df_copy['Vehicle_Age']=='1-2 Year',1,0)\n",
        "df_copy['< 1 Year'] = np.where(df_copy['Vehicle_Age']=='< 1 Year',1,0)"
      ],
      "execution_count": 22,
      "outputs": []
    },
    {
      "cell_type": "code",
      "metadata": {
        "colab": {
          "base_uri": "https://localhost:8080/",
          "height": 434
        },
        "id": "thXs0FEIWyRe",
        "outputId": "bfa6b3c8-4425-4efb-82a7-59db840e54ff"
      },
      "source": [
        "df_copy"
      ],
      "execution_count": 23,
      "outputs": [
        {
          "output_type": "execute_result",
          "data": {
            "text/html": [
              "<div>\n",
              "<style scoped>\n",
              "    .dataframe tbody tr th:only-of-type {\n",
              "        vertical-align: middle;\n",
              "    }\n",
              "\n",
              "    .dataframe tbody tr th {\n",
              "        vertical-align: top;\n",
              "    }\n",
              "\n",
              "    .dataframe thead th {\n",
              "        text-align: right;\n",
              "    }\n",
              "</style>\n",
              "<table border=\"1\" class=\"dataframe\">\n",
              "  <thead>\n",
              "    <tr style=\"text-align: right;\">\n",
              "      <th></th>\n",
              "      <th>Gender</th>\n",
              "      <th>Age</th>\n",
              "      <th>Driving_License</th>\n",
              "      <th>Encoded_Region</th>\n",
              "      <th>Previously_Insured</th>\n",
              "      <th>Vehicle_Age</th>\n",
              "      <th>Vehicle_Damage</th>\n",
              "      <th>Annual_Premium</th>\n",
              "      <th>Policy_Sales_Channel</th>\n",
              "      <th>Vintage</th>\n",
              "      <th>Response</th>\n",
              "      <th>&gt; 2 Years</th>\n",
              "      <th>1-2 Year</th>\n",
              "      <th>&lt; 1 Year</th>\n",
              "    </tr>\n",
              "  </thead>\n",
              "  <tbody>\n",
              "    <tr>\n",
              "      <th>0</th>\n",
              "      <td>1</td>\n",
              "      <td>44</td>\n",
              "      <td>1</td>\n",
              "      <td>0.187162</td>\n",
              "      <td>0</td>\n",
              "      <td>&gt; 2 Years</td>\n",
              "      <td>Yes</td>\n",
              "      <td>40454.0</td>\n",
              "      <td>26.0</td>\n",
              "      <td>217</td>\n",
              "      <td>1</td>\n",
              "      <td>1</td>\n",
              "      <td>0</td>\n",
              "      <td>0</td>\n",
              "    </tr>\n",
              "    <tr>\n",
              "      <th>1</th>\n",
              "      <td>1</td>\n",
              "      <td>76</td>\n",
              "      <td>1</td>\n",
              "      <td>0.127661</td>\n",
              "      <td>0</td>\n",
              "      <td>1-2 Year</td>\n",
              "      <td>No</td>\n",
              "      <td>33536.0</td>\n",
              "      <td>26.0</td>\n",
              "      <td>183</td>\n",
              "      <td>0</td>\n",
              "      <td>0</td>\n",
              "      <td>1</td>\n",
              "      <td>0</td>\n",
              "    </tr>\n",
              "    <tr>\n",
              "      <th>2</th>\n",
              "      <td>1</td>\n",
              "      <td>47</td>\n",
              "      <td>1</td>\n",
              "      <td>0.187162</td>\n",
              "      <td>0</td>\n",
              "      <td>&gt; 2 Years</td>\n",
              "      <td>Yes</td>\n",
              "      <td>38294.0</td>\n",
              "      <td>26.0</td>\n",
              "      <td>27</td>\n",
              "      <td>1</td>\n",
              "      <td>1</td>\n",
              "      <td>0</td>\n",
              "      <td>0</td>\n",
              "    </tr>\n",
              "    <tr>\n",
              "      <th>3</th>\n",
              "      <td>1</td>\n",
              "      <td>21</td>\n",
              "      <td>1</td>\n",
              "      <td>0.112762</td>\n",
              "      <td>1</td>\n",
              "      <td>&lt; 1 Year</td>\n",
              "      <td>No</td>\n",
              "      <td>28619.0</td>\n",
              "      <td>152.0</td>\n",
              "      <td>203</td>\n",
              "      <td>0</td>\n",
              "      <td>0</td>\n",
              "      <td>0</td>\n",
              "      <td>1</td>\n",
              "    </tr>\n",
              "    <tr>\n",
              "      <th>4</th>\n",
              "      <td>0</td>\n",
              "      <td>29</td>\n",
              "      <td>1</td>\n",
              "      <td>0.121776</td>\n",
              "      <td>1</td>\n",
              "      <td>&lt; 1 Year</td>\n",
              "      <td>No</td>\n",
              "      <td>27496.0</td>\n",
              "      <td>152.0</td>\n",
              "      <td>39</td>\n",
              "      <td>0</td>\n",
              "      <td>0</td>\n",
              "      <td>0</td>\n",
              "      <td>1</td>\n",
              "    </tr>\n",
              "    <tr>\n",
              "      <th>...</th>\n",
              "      <td>...</td>\n",
              "      <td>...</td>\n",
              "      <td>...</td>\n",
              "      <td>...</td>\n",
              "      <td>...</td>\n",
              "      <td>...</td>\n",
              "      <td>...</td>\n",
              "      <td>...</td>\n",
              "      <td>...</td>\n",
              "      <td>...</td>\n",
              "      <td>...</td>\n",
              "      <td>...</td>\n",
              "      <td>...</td>\n",
              "      <td>...</td>\n",
              "    </tr>\n",
              "    <tr>\n",
              "      <th>381104</th>\n",
              "      <td>1</td>\n",
              "      <td>74</td>\n",
              "      <td>1</td>\n",
              "      <td>0.072323</td>\n",
              "      <td>1</td>\n",
              "      <td>1-2 Year</td>\n",
              "      <td>No</td>\n",
              "      <td>30170.0</td>\n",
              "      <td>26.0</td>\n",
              "      <td>88</td>\n",
              "      <td>0</td>\n",
              "      <td>0</td>\n",
              "      <td>1</td>\n",
              "      <td>0</td>\n",
              "    </tr>\n",
              "    <tr>\n",
              "      <th>381105</th>\n",
              "      <td>1</td>\n",
              "      <td>30</td>\n",
              "      <td>1</td>\n",
              "      <td>0.079274</td>\n",
              "      <td>1</td>\n",
              "      <td>&lt; 1 Year</td>\n",
              "      <td>No</td>\n",
              "      <td>40016.0</td>\n",
              "      <td>152.0</td>\n",
              "      <td>131</td>\n",
              "      <td>0</td>\n",
              "      <td>0</td>\n",
              "      <td>0</td>\n",
              "      <td>1</td>\n",
              "    </tr>\n",
              "    <tr>\n",
              "      <th>381106</th>\n",
              "      <td>1</td>\n",
              "      <td>21</td>\n",
              "      <td>1</td>\n",
              "      <td>0.073833</td>\n",
              "      <td>1</td>\n",
              "      <td>&lt; 1 Year</td>\n",
              "      <td>No</td>\n",
              "      <td>35118.0</td>\n",
              "      <td>160.0</td>\n",
              "      <td>161</td>\n",
              "      <td>0</td>\n",
              "      <td>0</td>\n",
              "      <td>0</td>\n",
              "      <td>1</td>\n",
              "    </tr>\n",
              "    <tr>\n",
              "      <th>381107</th>\n",
              "      <td>0</td>\n",
              "      <td>68</td>\n",
              "      <td>1</td>\n",
              "      <td>0.090223</td>\n",
              "      <td>0</td>\n",
              "      <td>&gt; 2 Years</td>\n",
              "      <td>Yes</td>\n",
              "      <td>44617.0</td>\n",
              "      <td>124.0</td>\n",
              "      <td>74</td>\n",
              "      <td>0</td>\n",
              "      <td>1</td>\n",
              "      <td>0</td>\n",
              "      <td>0</td>\n",
              "    </tr>\n",
              "    <tr>\n",
              "      <th>381108</th>\n",
              "      <td>1</td>\n",
              "      <td>46</td>\n",
              "      <td>1</td>\n",
              "      <td>0.123362</td>\n",
              "      <td>0</td>\n",
              "      <td>1-2 Year</td>\n",
              "      <td>No</td>\n",
              "      <td>41777.0</td>\n",
              "      <td>26.0</td>\n",
              "      <td>237</td>\n",
              "      <td>0</td>\n",
              "      <td>0</td>\n",
              "      <td>1</td>\n",
              "      <td>0</td>\n",
              "    </tr>\n",
              "  </tbody>\n",
              "</table>\n",
              "<p>381109 rows × 14 columns</p>\n",
              "</div>"
            ],
            "text/plain": [
              "        Gender  Age  Driving_License  ...  > 2 Years  1-2 Year < 1 Year\n",
              "0            1   44                1  ...          1         0        0\n",
              "1            1   76                1  ...          0         1        0\n",
              "2            1   47                1  ...          1         0        0\n",
              "3            1   21                1  ...          0         0        1\n",
              "4            0   29                1  ...          0         0        1\n",
              "...        ...  ...              ...  ...        ...       ...      ...\n",
              "381104       1   74                1  ...          0         1        0\n",
              "381105       1   30                1  ...          0         0        1\n",
              "381106       1   21                1  ...          0         0        1\n",
              "381107       0   68                1  ...          1         0        0\n",
              "381108       1   46                1  ...          0         1        0\n",
              "\n",
              "[381109 rows x 14 columns]"
            ]
          },
          "metadata": {},
          "execution_count": 23
        }
      ]
    },
    {
      "cell_type": "code",
      "metadata": {
        "id": "RfIkv03SYm33"
      },
      "source": [
        "df_copy['Vehicle_Damage'] = df_copy['Vehicle_Damage'].apply(lambda x:1 if x=='Yes' else 0)"
      ],
      "execution_count": 24,
      "outputs": []
    },
    {
      "cell_type": "code",
      "metadata": {
        "id": "w_GAOpmphRDl"
      },
      "source": [
        "df_copy.drop('Vehicle_Age',axis=1,inplace=True)"
      ],
      "execution_count": 25,
      "outputs": []
    },
    {
      "cell_type": "code",
      "metadata": {
        "colab": {
          "base_uri": "https://localhost:8080/",
          "height": 417
        },
        "id": "z0Fy7QUoYofu",
        "outputId": "9c490ee5-0e39-4017-d32c-7804a68c5eb7"
      },
      "source": [
        "df_copy"
      ],
      "execution_count": 26,
      "outputs": [
        {
          "output_type": "execute_result",
          "data": {
            "text/html": [
              "<div>\n",
              "<style scoped>\n",
              "    .dataframe tbody tr th:only-of-type {\n",
              "        vertical-align: middle;\n",
              "    }\n",
              "\n",
              "    .dataframe tbody tr th {\n",
              "        vertical-align: top;\n",
              "    }\n",
              "\n",
              "    .dataframe thead th {\n",
              "        text-align: right;\n",
              "    }\n",
              "</style>\n",
              "<table border=\"1\" class=\"dataframe\">\n",
              "  <thead>\n",
              "    <tr style=\"text-align: right;\">\n",
              "      <th></th>\n",
              "      <th>Gender</th>\n",
              "      <th>Age</th>\n",
              "      <th>Driving_License</th>\n",
              "      <th>Encoded_Region</th>\n",
              "      <th>Previously_Insured</th>\n",
              "      <th>Vehicle_Damage</th>\n",
              "      <th>Annual_Premium</th>\n",
              "      <th>Policy_Sales_Channel</th>\n",
              "      <th>Vintage</th>\n",
              "      <th>Response</th>\n",
              "      <th>&gt; 2 Years</th>\n",
              "      <th>1-2 Year</th>\n",
              "      <th>&lt; 1 Year</th>\n",
              "    </tr>\n",
              "  </thead>\n",
              "  <tbody>\n",
              "    <tr>\n",
              "      <th>0</th>\n",
              "      <td>1</td>\n",
              "      <td>44</td>\n",
              "      <td>1</td>\n",
              "      <td>0.187162</td>\n",
              "      <td>0</td>\n",
              "      <td>1</td>\n",
              "      <td>40454.0</td>\n",
              "      <td>26.0</td>\n",
              "      <td>217</td>\n",
              "      <td>1</td>\n",
              "      <td>1</td>\n",
              "      <td>0</td>\n",
              "      <td>0</td>\n",
              "    </tr>\n",
              "    <tr>\n",
              "      <th>1</th>\n",
              "      <td>1</td>\n",
              "      <td>76</td>\n",
              "      <td>1</td>\n",
              "      <td>0.127661</td>\n",
              "      <td>0</td>\n",
              "      <td>0</td>\n",
              "      <td>33536.0</td>\n",
              "      <td>26.0</td>\n",
              "      <td>183</td>\n",
              "      <td>0</td>\n",
              "      <td>0</td>\n",
              "      <td>1</td>\n",
              "      <td>0</td>\n",
              "    </tr>\n",
              "    <tr>\n",
              "      <th>2</th>\n",
              "      <td>1</td>\n",
              "      <td>47</td>\n",
              "      <td>1</td>\n",
              "      <td>0.187162</td>\n",
              "      <td>0</td>\n",
              "      <td>1</td>\n",
              "      <td>38294.0</td>\n",
              "      <td>26.0</td>\n",
              "      <td>27</td>\n",
              "      <td>1</td>\n",
              "      <td>1</td>\n",
              "      <td>0</td>\n",
              "      <td>0</td>\n",
              "    </tr>\n",
              "    <tr>\n",
              "      <th>3</th>\n",
              "      <td>1</td>\n",
              "      <td>21</td>\n",
              "      <td>1</td>\n",
              "      <td>0.112762</td>\n",
              "      <td>1</td>\n",
              "      <td>0</td>\n",
              "      <td>28619.0</td>\n",
              "      <td>152.0</td>\n",
              "      <td>203</td>\n",
              "      <td>0</td>\n",
              "      <td>0</td>\n",
              "      <td>0</td>\n",
              "      <td>1</td>\n",
              "    </tr>\n",
              "    <tr>\n",
              "      <th>4</th>\n",
              "      <td>0</td>\n",
              "      <td>29</td>\n",
              "      <td>1</td>\n",
              "      <td>0.121776</td>\n",
              "      <td>1</td>\n",
              "      <td>0</td>\n",
              "      <td>27496.0</td>\n",
              "      <td>152.0</td>\n",
              "      <td>39</td>\n",
              "      <td>0</td>\n",
              "      <td>0</td>\n",
              "      <td>0</td>\n",
              "      <td>1</td>\n",
              "    </tr>\n",
              "    <tr>\n",
              "      <th>...</th>\n",
              "      <td>...</td>\n",
              "      <td>...</td>\n",
              "      <td>...</td>\n",
              "      <td>...</td>\n",
              "      <td>...</td>\n",
              "      <td>...</td>\n",
              "      <td>...</td>\n",
              "      <td>...</td>\n",
              "      <td>...</td>\n",
              "      <td>...</td>\n",
              "      <td>...</td>\n",
              "      <td>...</td>\n",
              "      <td>...</td>\n",
              "    </tr>\n",
              "    <tr>\n",
              "      <th>381104</th>\n",
              "      <td>1</td>\n",
              "      <td>74</td>\n",
              "      <td>1</td>\n",
              "      <td>0.072323</td>\n",
              "      <td>1</td>\n",
              "      <td>0</td>\n",
              "      <td>30170.0</td>\n",
              "      <td>26.0</td>\n",
              "      <td>88</td>\n",
              "      <td>0</td>\n",
              "      <td>0</td>\n",
              "      <td>1</td>\n",
              "      <td>0</td>\n",
              "    </tr>\n",
              "    <tr>\n",
              "      <th>381105</th>\n",
              "      <td>1</td>\n",
              "      <td>30</td>\n",
              "      <td>1</td>\n",
              "      <td>0.079274</td>\n",
              "      <td>1</td>\n",
              "      <td>0</td>\n",
              "      <td>40016.0</td>\n",
              "      <td>152.0</td>\n",
              "      <td>131</td>\n",
              "      <td>0</td>\n",
              "      <td>0</td>\n",
              "      <td>0</td>\n",
              "      <td>1</td>\n",
              "    </tr>\n",
              "    <tr>\n",
              "      <th>381106</th>\n",
              "      <td>1</td>\n",
              "      <td>21</td>\n",
              "      <td>1</td>\n",
              "      <td>0.073833</td>\n",
              "      <td>1</td>\n",
              "      <td>0</td>\n",
              "      <td>35118.0</td>\n",
              "      <td>160.0</td>\n",
              "      <td>161</td>\n",
              "      <td>0</td>\n",
              "      <td>0</td>\n",
              "      <td>0</td>\n",
              "      <td>1</td>\n",
              "    </tr>\n",
              "    <tr>\n",
              "      <th>381107</th>\n",
              "      <td>0</td>\n",
              "      <td>68</td>\n",
              "      <td>1</td>\n",
              "      <td>0.090223</td>\n",
              "      <td>0</td>\n",
              "      <td>1</td>\n",
              "      <td>44617.0</td>\n",
              "      <td>124.0</td>\n",
              "      <td>74</td>\n",
              "      <td>0</td>\n",
              "      <td>1</td>\n",
              "      <td>0</td>\n",
              "      <td>0</td>\n",
              "    </tr>\n",
              "    <tr>\n",
              "      <th>381108</th>\n",
              "      <td>1</td>\n",
              "      <td>46</td>\n",
              "      <td>1</td>\n",
              "      <td>0.123362</td>\n",
              "      <td>0</td>\n",
              "      <td>0</td>\n",
              "      <td>41777.0</td>\n",
              "      <td>26.0</td>\n",
              "      <td>237</td>\n",
              "      <td>0</td>\n",
              "      <td>0</td>\n",
              "      <td>1</td>\n",
              "      <td>0</td>\n",
              "    </tr>\n",
              "  </tbody>\n",
              "</table>\n",
              "<p>381109 rows × 13 columns</p>\n",
              "</div>"
            ],
            "text/plain": [
              "        Gender  Age  Driving_License  ...  > 2 Years  1-2 Year  < 1 Year\n",
              "0            1   44                1  ...          1         0         0\n",
              "1            1   76                1  ...          0         1         0\n",
              "2            1   47                1  ...          1         0         0\n",
              "3            1   21                1  ...          0         0         1\n",
              "4            0   29                1  ...          0         0         1\n",
              "...        ...  ...              ...  ...        ...       ...       ...\n",
              "381104       1   74                1  ...          0         1         0\n",
              "381105       1   30                1  ...          0         0         1\n",
              "381106       1   21                1  ...          0         0         1\n",
              "381107       0   68                1  ...          1         0         0\n",
              "381108       1   46                1  ...          0         1         0\n",
              "\n",
              "[381109 rows x 13 columns]"
            ]
          },
          "metadata": {},
          "execution_count": 26
        }
      ]
    },
    {
      "cell_type": "code",
      "metadata": {
        "id": "JMqRUec9Yxmd"
      },
      "source": [
        "list_of_channels = list(set(df_copy['Policy_Sales_Channel'].values))\n",
        "list_of_in_category_channels = list(df_copy.groupby('Policy_Sales_Channel')['Response'].mean().values)\n",
        "frequency_of_channels = list(df_copy.groupby('Policy_Sales_Channel')['Gender'].count().values)\n",
        "encoded_list_channels = list()\n",
        "for i in range(0,155):\n",
        "   encoded_list_channels.append((frequency_of_channels[i]/(frequency_of_channels[i] + m)) * list_of_in_category_channels[i] + (1 - frequency_of_channels[i]/(frequency_of_channels[i] + m)) * overall_mean)"
      ],
      "execution_count": 27,
      "outputs": []
    },
    {
      "cell_type": "code",
      "metadata": {
        "id": "iIjl8DHRc_SF"
      },
      "source": [
        "dictionary_of_encoded_channels = dict(zip(list_of_channels,encoded_list_channels))\n",
        "for i in list_of_channels:\n",
        "    df_copy['Policy_Sales_Channel'] = np.where(df_copy['Policy_Sales_Channel']==i,dictionary_of_encoded_channels.get(i),df_copy['Policy_Sales_Channel'])"
      ],
      "execution_count": 28,
      "outputs": []
    },
    {
      "cell_type": "code",
      "metadata": {
        "id": "jwlM8JvWgngd"
      },
      "source": [
        "df_copy.rename(columns={'Policy_Sales_Channel':'Encoded_Policy_Channel'},inplace=True)"
      ],
      "execution_count": 29,
      "outputs": []
    },
    {
      "cell_type": "code",
      "metadata": {
        "colab": {
          "base_uri": "https://localhost:8080/",
          "height": 417
        },
        "id": "awL2eBj6hbak",
        "outputId": "7536b354-cde4-4fe0-fb30-f30d7581dfd4"
      },
      "source": [
        "df_copy"
      ],
      "execution_count": 30,
      "outputs": [
        {
          "output_type": "execute_result",
          "data": {
            "text/html": [
              "<div>\n",
              "<style scoped>\n",
              "    .dataframe tbody tr th:only-of-type {\n",
              "        vertical-align: middle;\n",
              "    }\n",
              "\n",
              "    .dataframe tbody tr th {\n",
              "        vertical-align: top;\n",
              "    }\n",
              "\n",
              "    .dataframe thead th {\n",
              "        text-align: right;\n",
              "    }\n",
              "</style>\n",
              "<table border=\"1\" class=\"dataframe\">\n",
              "  <thead>\n",
              "    <tr style=\"text-align: right;\">\n",
              "      <th></th>\n",
              "      <th>Gender</th>\n",
              "      <th>Age</th>\n",
              "      <th>Driving_License</th>\n",
              "      <th>Encoded_Region</th>\n",
              "      <th>Previously_Insured</th>\n",
              "      <th>Vehicle_Damage</th>\n",
              "      <th>Annual_Premium</th>\n",
              "      <th>Encoded_Policy_Channel</th>\n",
              "      <th>Vintage</th>\n",
              "      <th>Response</th>\n",
              "      <th>&gt; 2 Years</th>\n",
              "      <th>1-2 Year</th>\n",
              "      <th>&lt; 1 Year</th>\n",
              "    </tr>\n",
              "  </thead>\n",
              "  <tbody>\n",
              "    <tr>\n",
              "      <th>0</th>\n",
              "      <td>1</td>\n",
              "      <td>44</td>\n",
              "      <td>1</td>\n",
              "      <td>0.187162</td>\n",
              "      <td>0</td>\n",
              "      <td>1</td>\n",
              "      <td>40454.0</td>\n",
              "      <td>0.199383</td>\n",
              "      <td>217</td>\n",
              "      <td>1</td>\n",
              "      <td>1</td>\n",
              "      <td>0</td>\n",
              "      <td>0</td>\n",
              "    </tr>\n",
              "    <tr>\n",
              "      <th>1</th>\n",
              "      <td>1</td>\n",
              "      <td>76</td>\n",
              "      <td>1</td>\n",
              "      <td>0.127661</td>\n",
              "      <td>0</td>\n",
              "      <td>0</td>\n",
              "      <td>33536.0</td>\n",
              "      <td>0.199383</td>\n",
              "      <td>183</td>\n",
              "      <td>0</td>\n",
              "      <td>0</td>\n",
              "      <td>1</td>\n",
              "      <td>0</td>\n",
              "    </tr>\n",
              "    <tr>\n",
              "      <th>2</th>\n",
              "      <td>1</td>\n",
              "      <td>47</td>\n",
              "      <td>1</td>\n",
              "      <td>0.187162</td>\n",
              "      <td>0</td>\n",
              "      <td>1</td>\n",
              "      <td>38294.0</td>\n",
              "      <td>0.199383</td>\n",
              "      <td>27</td>\n",
              "      <td>1</td>\n",
              "      <td>1</td>\n",
              "      <td>0</td>\n",
              "      <td>0</td>\n",
              "    </tr>\n",
              "    <tr>\n",
              "      <th>3</th>\n",
              "      <td>1</td>\n",
              "      <td>21</td>\n",
              "      <td>1</td>\n",
              "      <td>0.112762</td>\n",
              "      <td>1</td>\n",
              "      <td>0</td>\n",
              "      <td>28619.0</td>\n",
              "      <td>0.028625</td>\n",
              "      <td>203</td>\n",
              "      <td>0</td>\n",
              "      <td>0</td>\n",
              "      <td>0</td>\n",
              "      <td>1</td>\n",
              "    </tr>\n",
              "    <tr>\n",
              "      <th>4</th>\n",
              "      <td>0</td>\n",
              "      <td>29</td>\n",
              "      <td>1</td>\n",
              "      <td>0.121776</td>\n",
              "      <td>1</td>\n",
              "      <td>0</td>\n",
              "      <td>27496.0</td>\n",
              "      <td>0.028625</td>\n",
              "      <td>39</td>\n",
              "      <td>0</td>\n",
              "      <td>0</td>\n",
              "      <td>0</td>\n",
              "      <td>1</td>\n",
              "    </tr>\n",
              "    <tr>\n",
              "      <th>...</th>\n",
              "      <td>...</td>\n",
              "      <td>...</td>\n",
              "      <td>...</td>\n",
              "      <td>...</td>\n",
              "      <td>...</td>\n",
              "      <td>...</td>\n",
              "      <td>...</td>\n",
              "      <td>...</td>\n",
              "      <td>...</td>\n",
              "      <td>...</td>\n",
              "      <td>...</td>\n",
              "      <td>...</td>\n",
              "      <td>...</td>\n",
              "    </tr>\n",
              "    <tr>\n",
              "      <th>381104</th>\n",
              "      <td>1</td>\n",
              "      <td>74</td>\n",
              "      <td>1</td>\n",
              "      <td>0.072323</td>\n",
              "      <td>1</td>\n",
              "      <td>0</td>\n",
              "      <td>30170.0</td>\n",
              "      <td>0.199383</td>\n",
              "      <td>88</td>\n",
              "      <td>0</td>\n",
              "      <td>0</td>\n",
              "      <td>1</td>\n",
              "      <td>0</td>\n",
              "    </tr>\n",
              "    <tr>\n",
              "      <th>381105</th>\n",
              "      <td>1</td>\n",
              "      <td>30</td>\n",
              "      <td>1</td>\n",
              "      <td>0.079274</td>\n",
              "      <td>1</td>\n",
              "      <td>0</td>\n",
              "      <td>40016.0</td>\n",
              "      <td>0.028625</td>\n",
              "      <td>131</td>\n",
              "      <td>0</td>\n",
              "      <td>0</td>\n",
              "      <td>0</td>\n",
              "      <td>1</td>\n",
              "    </tr>\n",
              "    <tr>\n",
              "      <th>381106</th>\n",
              "      <td>1</td>\n",
              "      <td>21</td>\n",
              "      <td>1</td>\n",
              "      <td>0.073833</td>\n",
              "      <td>1</td>\n",
              "      <td>0</td>\n",
              "      <td>35118.0</td>\n",
              "      <td>0.021819</td>\n",
              "      <td>161</td>\n",
              "      <td>0</td>\n",
              "      <td>0</td>\n",
              "      <td>0</td>\n",
              "      <td>1</td>\n",
              "    </tr>\n",
              "    <tr>\n",
              "      <th>381107</th>\n",
              "      <td>0</td>\n",
              "      <td>68</td>\n",
              "      <td>1</td>\n",
              "      <td>0.090223</td>\n",
              "      <td>0</td>\n",
              "      <td>1</td>\n",
              "      <td>44617.0</td>\n",
              "      <td>0.189146</td>\n",
              "      <td>74</td>\n",
              "      <td>0</td>\n",
              "      <td>1</td>\n",
              "      <td>0</td>\n",
              "      <td>0</td>\n",
              "    </tr>\n",
              "    <tr>\n",
              "      <th>381108</th>\n",
              "      <td>1</td>\n",
              "      <td>46</td>\n",
              "      <td>1</td>\n",
              "      <td>0.123362</td>\n",
              "      <td>0</td>\n",
              "      <td>0</td>\n",
              "      <td>41777.0</td>\n",
              "      <td>0.199383</td>\n",
              "      <td>237</td>\n",
              "      <td>0</td>\n",
              "      <td>0</td>\n",
              "      <td>1</td>\n",
              "      <td>0</td>\n",
              "    </tr>\n",
              "  </tbody>\n",
              "</table>\n",
              "<p>381109 rows × 13 columns</p>\n",
              "</div>"
            ],
            "text/plain": [
              "        Gender  Age  Driving_License  ...  > 2 Years  1-2 Year  < 1 Year\n",
              "0            1   44                1  ...          1         0         0\n",
              "1            1   76                1  ...          0         1         0\n",
              "2            1   47                1  ...          1         0         0\n",
              "3            1   21                1  ...          0         0         1\n",
              "4            0   29                1  ...          0         0         1\n",
              "...        ...  ...              ...  ...        ...       ...       ...\n",
              "381104       1   74                1  ...          0         1         0\n",
              "381105       1   30                1  ...          0         0         1\n",
              "381106       1   21                1  ...          0         0         1\n",
              "381107       0   68                1  ...          1         0         0\n",
              "381108       1   46                1  ...          0         1         0\n",
              "\n",
              "[381109 rows x 13 columns]"
            ]
          },
          "metadata": {},
          "execution_count": 30
        }
      ]
    },
    {
      "cell_type": "markdown",
      "metadata": {
        "id": "xb_UASfAuQMx"
      },
      "source": [
        "# OUTLIERS REMOVAL"
      ]
    },
    {
      "cell_type": "markdown",
      "metadata": {
        "id": "-_c0D0IGuUCv"
      },
      "source": [
        "## FIRST WE WILL REMOVE OUTLIERS FROM INDIVIDUAL FEATURE SPACE WHICH INCLUDES 'AGE' , 'ANNUAL_PREMIUM' AND 'VINTAGE'"
      ]
    },
    {
      "cell_type": "code",
      "metadata": {
        "id": "dayvTZRkpErD"
      },
      "source": [
        "import matplotlib.pyplot as plt"
      ],
      "execution_count": 31,
      "outputs": []
    },
    {
      "cell_type": "code",
      "metadata": {
        "id": "iCsqTzCWpgcZ",
        "colab": {
          "base_uri": "https://localhost:8080/",
          "height": 298
        },
        "outputId": "ec08097a-6221-44ce-fea4-abbab05b643b"
      },
      "source": [
        "df_copy['Age'].plot(kind=\"box\")\n",
        "plt.title(\"BOX PLOT FOR 'AGE'\")"
      ],
      "execution_count": 32,
      "outputs": [
        {
          "output_type": "execute_result",
          "data": {
            "text/plain": [
              "Text(0.5, 1.0, \"BOX PLOT FOR 'AGE'\")"
            ]
          },
          "metadata": {},
          "execution_count": 32
        },
        {
          "output_type": "display_data",
          "data": {
            "image/png": "[encoded data removed]",
            "text/plain": [
              "<Figure size 432x288 with 1 Axes>"
            ]
          },
          "metadata": {
            "needs_background": "light"
          }
        }
      ]
    },
    {
      "cell_type": "code",
      "metadata": {
        "colab": {
          "base_uri": "https://localhost:8080/",
          "height": 350
        },
        "id": "rGoaDAnBpDQH",
        "outputId": "163dc9f4-2a20-49d7-9c6e-880815bc3dca"
      },
      "source": [
        "import seaborn as sns\n",
        "sns.distplot(df_copy['Age'],hist=True)"
      ],
      "execution_count": 33,
      "outputs": [
        {
          "output_type": "stream",
          "name": "stderr",
          "text": [
            "/usr/local/lib/python3.7/dist-packages/seaborn/distributions.py:2619: FutureWarning: `distplot` is a deprecated function and will be removed in a future version. Please adapt your code to use either `displot` (a figure-level function with similar flexibility) or `histplot` (an axes-level function for histograms).\n",
            "  warnings.warn(msg, FutureWarning)\n"
          ]
        },
        {
          "output_type": "execute_result",
          "data": {
            "text/plain": [
              "<matplotlib.axes._subplots.AxesSubplot at 0x7f275ebc1cd0>"
            ]
          },
          "metadata": {},
          "execution_count": 33
        },
        {
          "output_type": "display_data",
          "data": {
            "image/png": "[encoded data removed]",
            "text/plain": [
              "<Figure size 432x288 with 1 Axes>"
            ]
          },
          "metadata": {
            "needs_background": "light"
          }
        }
      ]
    },
    {
      "cell_type": "code",
      "metadata": {
        "colab": {
          "base_uri": "https://localhost:8080/",
          "height": 299
        },
        "id": "0t--yzmNpt28",
        "outputId": "ee91dc23-c21e-4f39-8163-3bd389ffa2ef"
      },
      "source": [
        "df_copy['Annual_Premium'].plot(kind=\"box\")\n",
        "plt.title(\"BOX PLOT FOR 'Annual_Premium'\")"
      ],
      "execution_count": 34,
      "outputs": [
        {
          "output_type": "execute_result",
          "data": {
            "text/plain": [
              "Text(0.5, 1.0, \"BOX PLOT FOR 'Annual_Premium'\")"
            ]
          },
          "metadata": {},
          "execution_count": 34
        },
        {
          "output_type": "display_data",
          "data": {
            "image/png": "[encoded data removed]",
            "text/plain": [
              "<Figure size 432x288 with 1 Axes>"
            ]
          },
          "metadata": {
            "needs_background": "light"
          }
        }
      ]
    },
    {
      "cell_type": "code",
      "metadata": {
        "colab": {
          "base_uri": "https://localhost:8080/",
          "height": 362
        },
        "id": "PbfJtexhqH4q",
        "outputId": "fe703d7e-f523-41a7-b89c-aecc04a4457e"
      },
      "source": [
        "import seaborn as sns\n",
        "sns.distplot(df_copy['Annual_Premium'],hist=True)"
      ],
      "execution_count": 35,
      "outputs": [
        {
          "output_type": "stream",
          "name": "stderr",
          "text": [
            "/usr/local/lib/python3.7/dist-packages/seaborn/distributions.py:2619: FutureWarning: `distplot` is a deprecated function and will be removed in a future version. Please adapt your code to use either `displot` (a figure-level function with similar flexibility) or `histplot` (an axes-level function for histograms).\n",
            "  warnings.warn(msg, FutureWarning)\n"
          ]
        },
        {
          "output_type": "execute_result",
          "data": {
            "text/plain": [
              "<matplotlib.axes._subplots.AxesSubplot at 0x7f2753ac4a90>"
            ]
          },
          "metadata": {},
          "execution_count": 35
        },
        {
          "output_type": "display_data",
          "data": {
            "image/png": "[encoded data removed]",
            "text/plain": [
              "<Figure size 432x288 with 1 Axes>"
            ]
          },
          "metadata": {
            "needs_background": "light"
          }
        }
      ]
    },
    {
      "cell_type": "code",
      "metadata": {
        "colab": {
          "base_uri": "https://localhost:8080/"
        },
        "id": "UQYx6UTgqLOF",
        "outputId": "430fe3f7-61a7-479f-b36d-c740469f5c54"
      },
      "source": [
        "df_copy['Annual_Premium'].describe()"
      ],
      "execution_count": 36,
      "outputs": [
        {
          "output_type": "execute_result",
          "data": {
            "text/plain": [
              "count    381109.000000\n",
              "mean      30564.389581\n",
              "std       17213.155057\n",
              "min        2630.000000\n",
              "25%       24405.000000\n",
              "50%       31669.000000\n",
              "75%       39400.000000\n",
              "max      540165.000000\n",
              "Name: Annual_Premium, dtype: float64"
            ]
          },
          "metadata": {},
          "execution_count": 36
        }
      ]
    },
    {
      "cell_type": "code",
      "metadata": {
        "colab": {
          "base_uri": "https://localhost:8080/"
        },
        "id": "6m8YikYerKUy",
        "outputId": "bf99d994-bc61-4a66-9429-0cbc164d9173"
      },
      "source": [
        "df_copy.loc[df_copy['Annual_Premium']>61892,'Annual_Premium'].count()"
      ],
      "execution_count": 37,
      "outputs": [
        {
          "output_type": "execute_result",
          "data": {
            "text/plain": [
              "10320"
            ]
          },
          "metadata": {},
          "execution_count": 37
        }
      ]
    },
    {
      "cell_type": "code",
      "metadata": {
        "colab": {
          "base_uri": "https://localhost:8080/",
          "height": 298
        },
        "id": "ttZsk2x0qc3y",
        "outputId": "c2f9f981-e4c5-40b3-c178-96ffddb9f78a"
      },
      "source": [
        "df_copy['Vintage'].plot(kind=\"box\")\n",
        "plt.title(\"BOX PLOT FOR 'Vintage'\")"
      ],
      "execution_count": 38,
      "outputs": [
        {
          "output_type": "execute_result",
          "data": {
            "text/plain": [
              "Text(0.5, 1.0, \"BOX PLOT FOR 'Vintage'\")"
            ]
          },
          "metadata": {},
          "execution_count": 38
        },
        {
          "output_type": "display_data",
          "data": {
            "image/png": "[encoded data removed]",
            "text/plain": [
              "<Figure size 432x288 with 1 Axes>"
            ]
          },
          "metadata": {
            "needs_background": "light"
          }
        }
      ]
    },
    {
      "cell_type": "markdown",
      "metadata": {
        "id": "rhH8_cdNzq09"
      },
      "source": [
        "ONLY 'ANNUAL PREMIUM' CONTAINS OUTLIERS. ALSO SINCE 'VINTAGE', 'AGE' AND 'ANNUAL PREMIUM' ARE TO BE SCALED; USING LOG TRANSFORM TO BOTH COLUMNS WILL HELP TO REMOVE OUTLIERS FROM 'ANNUAL PREMIUM' AND ALSO THE DATASET CAN USED FOR MODELLING IN LOGISTIC."
      ]
    },
    {
      "cell_type": "code",
      "metadata": {
        "id": "eqxN3KqKtjyf"
      },
      "source": [
        "df_copy['Age'] = np.log(df_copy['Age'])\n",
        "df_copy['Annual_Premium'] = np.log(df_copy['Annual_Premium'])\n",
        "df_copy['Vintage'] = np.log(df_copy['Vintage'])"
      ],
      "execution_count": 39,
      "outputs": []
    },
    {
      "cell_type": "code",
      "metadata": {
        "colab": {
          "base_uri": "https://localhost:8080/",
          "height": 417
        },
        "id": "8TOeBJg20-hl",
        "outputId": "6ee843be-d0fa-4540-efaa-d04b7e1f1b84"
      },
      "source": [
        "df_copy"
      ],
      "execution_count": 40,
      "outputs": [
        {
          "output_type": "execute_result",
          "data": {
            "text/html": [
              "<div>\n",
              "<style scoped>\n",
              "    .dataframe tbody tr th:only-of-type {\n",
              "        vertical-align: middle;\n",
              "    }\n",
              "\n",
              "    .dataframe tbody tr th {\n",
              "        vertical-align: top;\n",
              "    }\n",
              "\n",
              "    .dataframe thead th {\n",
              "        text-align: right;\n",
              "    }\n",
              "</style>\n",
              "<table border=\"1\" class=\"dataframe\">\n",
              "  <thead>\n",
              "    <tr style=\"text-align: right;\">\n",
              "      <th></th>\n",
              "      <th>Gender</th>\n",
              "      <th>Age</th>\n",
              "      <th>Driving_License</th>\n",
              "      <th>Encoded_Region</th>\n",
              "      <th>Previously_Insured</th>\n",
              "      <th>Vehicle_Damage</th>\n",
              "      <th>Annual_Premium</th>\n",
              "      <th>Encoded_Policy_Channel</th>\n",
              "      <th>Vintage</th>\n",
              "      <th>Response</th>\n",
              "      <th>&gt; 2 Years</th>\n",
              "      <th>1-2 Year</th>\n",
              "      <th>&lt; 1 Year</th>\n",
              "    </tr>\n",
              "  </thead>\n",
              "  <tbody>\n",
              "    <tr>\n",
              "      <th>0</th>\n",
              "      <td>1</td>\n",
              "      <td>3.784190</td>\n",
              "      <td>1</td>\n",
              "      <td>0.187162</td>\n",
              "      <td>0</td>\n",
              "      <td>1</td>\n",
              "      <td>10.607921</td>\n",
              "      <td>0.199383</td>\n",
              "      <td>5.379897</td>\n",
              "      <td>1</td>\n",
              "      <td>1</td>\n",
              "      <td>0</td>\n",
              "      <td>0</td>\n",
              "    </tr>\n",
              "    <tr>\n",
              "      <th>1</th>\n",
              "      <td>1</td>\n",
              "      <td>4.330733</td>\n",
              "      <td>1</td>\n",
              "      <td>0.127661</td>\n",
              "      <td>0</td>\n",
              "      <td>0</td>\n",
              "      <td>10.420375</td>\n",
              "      <td>0.199383</td>\n",
              "      <td>5.209486</td>\n",
              "      <td>0</td>\n",
              "      <td>0</td>\n",
              "      <td>1</td>\n",
              "      <td>0</td>\n",
              "    </tr>\n",
              "    <tr>\n",
              "      <th>2</th>\n",
              "      <td>1</td>\n",
              "      <td>3.850148</td>\n",
              "      <td>1</td>\n",
              "      <td>0.187162</td>\n",
              "      <td>0</td>\n",
              "      <td>1</td>\n",
              "      <td>10.553049</td>\n",
              "      <td>0.199383</td>\n",
              "      <td>3.295837</td>\n",
              "      <td>1</td>\n",
              "      <td>1</td>\n",
              "      <td>0</td>\n",
              "      <td>0</td>\n",
              "    </tr>\n",
              "    <tr>\n",
              "      <th>3</th>\n",
              "      <td>1</td>\n",
              "      <td>3.044522</td>\n",
              "      <td>1</td>\n",
              "      <td>0.112762</td>\n",
              "      <td>1</td>\n",
              "      <td>0</td>\n",
              "      <td>10.261826</td>\n",
              "      <td>0.028625</td>\n",
              "      <td>5.313206</td>\n",
              "      <td>0</td>\n",
              "      <td>0</td>\n",
              "      <td>0</td>\n",
              "      <td>1</td>\n",
              "    </tr>\n",
              "    <tr>\n",
              "      <th>4</th>\n",
              "      <td>0</td>\n",
              "      <td>3.367296</td>\n",
              "      <td>1</td>\n",
              "      <td>0.121776</td>\n",
              "      <td>1</td>\n",
              "      <td>0</td>\n",
              "      <td>10.221796</td>\n",
              "      <td>0.028625</td>\n",
              "      <td>3.663562</td>\n",
              "      <td>0</td>\n",
              "      <td>0</td>\n",
              "      <td>0</td>\n",
              "      <td>1</td>\n",
              "    </tr>\n",
              "    <tr>\n",
              "      <th>...</th>\n",
              "      <td>...</td>\n",
              "      <td>...</td>\n",
              "      <td>...</td>\n",
              "      <td>...</td>\n",
              "      <td>...</td>\n",
              "      <td>...</td>\n",
              "      <td>...</td>\n",
              "      <td>...</td>\n",
              "      <td>...</td>\n",
              "      <td>...</td>\n",
              "      <td>...</td>\n",
              "      <td>...</td>\n",
              "      <td>...</td>\n",
              "    </tr>\n",
              "    <tr>\n",
              "      <th>381104</th>\n",
              "      <td>1</td>\n",
              "      <td>4.304065</td>\n",
              "      <td>1</td>\n",
              "      <td>0.072323</td>\n",
              "      <td>1</td>\n",
              "      <td>0</td>\n",
              "      <td>10.314603</td>\n",
              "      <td>0.199383</td>\n",
              "      <td>4.477337</td>\n",
              "      <td>0</td>\n",
              "      <td>0</td>\n",
              "      <td>1</td>\n",
              "      <td>0</td>\n",
              "    </tr>\n",
              "    <tr>\n",
              "      <th>381105</th>\n",
              "      <td>1</td>\n",
              "      <td>3.401197</td>\n",
              "      <td>1</td>\n",
              "      <td>0.079274</td>\n",
              "      <td>1</td>\n",
              "      <td>0</td>\n",
              "      <td>10.597035</td>\n",
              "      <td>0.028625</td>\n",
              "      <td>4.875197</td>\n",
              "      <td>0</td>\n",
              "      <td>0</td>\n",
              "      <td>0</td>\n",
              "      <td>1</td>\n",
              "    </tr>\n",
              "    <tr>\n",
              "      <th>381106</th>\n",
              "      <td>1</td>\n",
              "      <td>3.044522</td>\n",
              "      <td>1</td>\n",
              "      <td>0.073833</td>\n",
              "      <td>1</td>\n",
              "      <td>0</td>\n",
              "      <td>10.466469</td>\n",
              "      <td>0.021819</td>\n",
              "      <td>5.081404</td>\n",
              "      <td>0</td>\n",
              "      <td>0</td>\n",
              "      <td>0</td>\n",
              "      <td>1</td>\n",
              "    </tr>\n",
              "    <tr>\n",
              "      <th>381107</th>\n",
              "      <td>0</td>\n",
              "      <td>4.219508</td>\n",
              "      <td>1</td>\n",
              "      <td>0.090223</td>\n",
              "      <td>0</td>\n",
              "      <td>1</td>\n",
              "      <td>10.705870</td>\n",
              "      <td>0.189146</td>\n",
              "      <td>4.304065</td>\n",
              "      <td>0</td>\n",
              "      <td>1</td>\n",
              "      <td>0</td>\n",
              "      <td>0</td>\n",
              "    </tr>\n",
              "    <tr>\n",
              "      <th>381108</th>\n",
              "      <td>1</td>\n",
              "      <td>3.828641</td>\n",
              "      <td>1</td>\n",
              "      <td>0.123362</td>\n",
              "      <td>0</td>\n",
              "      <td>0</td>\n",
              "      <td>10.640101</td>\n",
              "      <td>0.199383</td>\n",
              "      <td>5.468060</td>\n",
              "      <td>0</td>\n",
              "      <td>0</td>\n",
              "      <td>1</td>\n",
              "      <td>0</td>\n",
              "    </tr>\n",
              "  </tbody>\n",
              "</table>\n",
              "<p>381109 rows × 13 columns</p>\n",
              "</div>"
            ],
            "text/plain": [
              "        Gender       Age  Driving_License  ...  > 2 Years  1-2 Year  < 1 Year\n",
              "0            1  3.784190                1  ...          1         0         0\n",
              "1            1  4.330733                1  ...          0         1         0\n",
              "2            1  3.850148                1  ...          1         0         0\n",
              "3            1  3.044522                1  ...          0         0         1\n",
              "4            0  3.367296                1  ...          0         0         1\n",
              "...        ...       ...              ...  ...        ...       ...       ...\n",
              "381104       1  4.304065                1  ...          0         1         0\n",
              "381105       1  3.401197                1  ...          0         0         1\n",
              "381106       1  3.044522                1  ...          0         0         1\n",
              "381107       0  4.219508                1  ...          1         0         0\n",
              "381108       1  3.828641                1  ...          0         1         0\n",
              "\n",
              "[381109 rows x 13 columns]"
            ]
          },
          "metadata": {},
          "execution_count": 40
        }
      ]
    },
    {
      "cell_type": "code",
      "metadata": {
        "id": "bB5p9Ihi9om6"
      },
      "source": [
        "features = list()\n",
        "for i in df_copy.columns:\n",
        "  if i=='Response':\n",
        "    pass\n",
        "  else:\n",
        "    features.append(i)"
      ],
      "execution_count": 41,
      "outputs": []
    },
    {
      "cell_type": "code",
      "metadata": {
        "id": "k8XHNJ1Orjah"
      },
      "source": [
        "from sklearn.preprocessing import MinMaxScaler\n",
        "scaler = MinMaxScaler()"
      ],
      "execution_count": 42,
      "outputs": []
    },
    {
      "cell_type": "code",
      "metadata": {
        "id": "FPnGFdIUDAuK"
      },
      "source": [
        "X = df_copy[features].values\n",
        "y = df_copy['Response'].values"
      ],
      "execution_count": 43,
      "outputs": []
    },
    {
      "cell_type": "code",
      "metadata": {
        "colab": {
          "base_uri": "https://localhost:8080/"
        },
        "id": "eqo9CHjy2hDG",
        "outputId": "31bc6faf-09aa-41ce-de8f-7568aa4a708a"
      },
      "source": [
        "from sklearn.model_selection import train_test_split \n",
        "X_train, X_test, y_train, y_test = train_test_split( X,y , test_size = 0.2, random_state = 0) \n",
        "print(X_train.shape)\n",
        "print(X_test.shape)"
      ],
      "execution_count": 44,
      "outputs": [
        {
          "output_type": "stream",
          "name": "stdout",
          "text": [
            "(304887, 12)\n",
            "(76222, 12)\n"
          ]
        }
      ]
    },
    {
      "cell_type": "code",
      "metadata": {
        "colab": {
          "base_uri": "https://localhost:8080/"
        },
        "id": "vtmVJ-NtBO96",
        "outputId": "03b2c0b9-7ea9-4886-ebb1-bdf0fad64bf0"
      },
      "source": [
        "from imblearn.over_sampling import SMOTE\n",
        "\n",
        "smote = SMOTE()\n",
        "\n",
        "X_smote, y_smote = smote.fit_resample(X_train, y_train)\n",
        "\n",
        "print('Original dataset shape', len(y_train))\n",
        "print('Resampled dataset shape', len(y_smote))"
      ],
      "execution_count": 45,
      "outputs": [
        {
          "output_type": "stream",
          "name": "stderr",
          "text": [
            "/usr/local/lib/python3.7/dist-packages/sklearn/externals/six.py:31: FutureWarning: The module is deprecated in version 0.21 and will be removed in version 0.23 since we've dropped support for Python 2.7. Please rely on the official version of six (https://pypi.org/project/six/).\n",
            "  \"(https://pypi.org/project/six/).\", FutureWarning)\n",
            "/usr/local/lib/python3.7/dist-packages/sklearn/utils/deprecation.py:144: FutureWarning: The sklearn.neighbors.base module is  deprecated in version 0.22 and will be removed in version 0.24. The corresponding classes / functions should instead be imported from sklearn.neighbors. Anything that cannot be imported from sklearn.neighbors is now part of the private API.\n",
            "  warnings.warn(message, FutureWarning)\n",
            "/usr/local/lib/python3.7/dist-packages/sklearn/utils/deprecation.py:87: FutureWarning: Function safe_indexing is deprecated; safe_indexing is deprecated in version 0.22 and will be removed in version 0.24.\n",
            "  warnings.warn(msg, category=FutureWarning)\n"
          ]
        },
        {
          "output_type": "stream",
          "name": "stdout",
          "text": [
            "Original dataset shape 304887\n",
            "Resampled dataset shape 535106\n"
          ]
        }
      ]
    },
    {
      "cell_type": "code",
      "metadata": {
        "id": "7sT8S8xntC2Q"
      },
      "source": [
        "X_smote[:,[1,6,8]] = scaler.fit_transform(X_smote[:,[1,6,8]])"
      ],
      "execution_count": 46,
      "outputs": []
    },
    {
      "cell_type": "code",
      "metadata": {
        "colab": {
          "base_uri": "https://localhost:8080/"
        },
        "id": "IqDh45SQtzz-",
        "outputId": "0888b159-5c13-486a-ef16-5d2733e2ca39"
      },
      "source": [
        "X_smote"
      ],
      "execution_count": 47,
      "outputs": [
        {
          "output_type": "execute_result",
          "data": {
            "text/plain": [
              "array([[0.        , 0.03372004, 1.        , ..., 0.        , 0.        ,\n",
              "        1.        ],\n",
              "       [0.        , 0.1542198 , 1.        , ..., 0.        , 0.        ,\n",
              "        1.        ],\n",
              "       [1.        , 0.69914136, 1.        , ..., 0.        , 1.        ,\n",
              "        0.        ],\n",
              "       ...,\n",
              "       [1.        , 0.69145608, 1.        , ..., 0.        , 1.        ,\n",
              "        0.        ],\n",
              "       [1.        , 0.55835201, 1.        , ..., 0.        , 1.        ,\n",
              "        0.        ],\n",
              "       [0.        , 0.28382197, 1.        , ..., 0.        , 1.        ,\n",
              "        0.        ]])"
            ]
          },
          "metadata": {},
          "execution_count": 47
        }
      ]
    },
    {
      "cell_type": "code",
      "metadata": {
        "id": "VBWgao8vt6-x"
      },
      "source": [
        "X_smote[:,[1,6,8]] = scaler.transform(X_smote[:,[1,6,8]])"
      ],
      "execution_count": 48,
      "outputs": []
    },
    {
      "cell_type": "code",
      "metadata": {
        "colab": {
          "base_uri": "https://localhost:8080/"
        },
        "id": "vNFdBHJBuQXM",
        "outputId": "5a98b926-6c59-4f36-d31c-33868ab371ce"
      },
      "source": [
        "X_smote"
      ],
      "execution_count": 49,
      "outputs": [
        {
          "output_type": "execute_result",
          "data": {
            "text/plain": [
              "array([[ 0.        , -2.04711685,  1.        , ...,  0.        ,\n",
              "         0.        ,  1.        ],\n",
              "       [ 0.        , -1.96383661,  1.        , ...,  0.        ,\n",
              "         0.        ,  1.        ],\n",
              "       [ 1.        , -1.5872284 ,  1.        , ...,  0.        ,\n",
              "         1.        ,  0.        ],\n",
              "       ...,\n",
              "       [ 1.        , -1.59253989,  1.        , ...,  0.        ,\n",
              "         1.        ,  0.        ],\n",
              "       [ 1.        , -1.68453127,  1.        , ...,  0.        ,\n",
              "         1.        ,  0.        ],\n",
              "       [ 0.        , -1.87426548,  1.        , ...,  0.        ,\n",
              "         1.        ,  0.        ]])"
            ]
          },
          "metadata": {},
          "execution_count": 49
        }
      ]
    },
    {
      "cell_type": "code",
      "metadata": {
        "colab": {
          "base_uri": "https://localhost:8080/"
        },
        "id": "eg7dRy0Q2y1T",
        "outputId": "2f06a1c3-9628-4064-c7f1-97c5c4e15515"
      },
      "source": [
        "from sklearn.linear_model import LogisticRegression\n",
        "clf = LogisticRegression(fit_intercept=True, max_iter=10000)\n",
        "clf.fit(X_smote, y_smote)"
      ],
      "execution_count": 50,
      "outputs": [
        {
          "output_type": "execute_result",
          "data": {
            "text/plain": [
              "LogisticRegression(C=1.0, class_weight=None, dual=False, fit_intercept=True,\n",
              "                   intercept_scaling=1, l1_ratio=None, max_iter=10000,\n",
              "                   multi_class='auto', n_jobs=None, penalty='l2',\n",
              "                   random_state=None, solver='lbfgs', tol=0.0001, verbose=0,\n",
              "                   warm_start=False)"
            ]
          },
          "metadata": {},
          "execution_count": 50
        }
      ]
    },
    {
      "cell_type": "code",
      "metadata": {
        "id": "KPY8Sdrs3BiU"
      },
      "source": [
        "train_class_preds = clf.predict(X_smote)\n",
        "test_class_preds = clf.predict(X_test)"
      ],
      "execution_count": 51,
      "outputs": []
    },
    {
      "cell_type": "code",
      "metadata": {
        "id": "8Z7ab8Hm5MRF",
        "colab": {
          "base_uri": "https://localhost:8080/"
        },
        "outputId": "c60e3c42-aba7-44c3-84da-4f5e950a0371"
      },
      "source": [
        "from sklearn.metrics import accuracy_score, confusion_matrix\n",
        "train_accuracy = accuracy_score(train_class_preds,y_smote)\n",
        "test_accuracy = accuracy_score(test_class_preds,y_test)\n",
        "\n",
        "print(\"The accuracy on train data is \", train_accuracy)\n",
        "print(\"The accuracy on test data is \", test_accuracy)"
      ],
      "execution_count": 52,
      "outputs": [
        {
          "output_type": "stream",
          "name": "stdout",
          "text": [
            "The accuracy on train data is  0.7922542449533363\n",
            "The accuracy on test data is  0.17888536118181103\n"
          ]
        }
      ]
    },
    {
      "cell_type": "code",
      "metadata": {
        "id": "S8kYKQnA7gGQ"
      },
      "source": [
        "from sklearn import metrics"
      ],
      "execution_count": 53,
      "outputs": []
    },
    {
      "cell_type": "code",
      "metadata": {
        "id": "-IafD5Lu5VhM",
        "colab": {
          "base_uri": "https://localhost:8080/"
        },
        "outputId": "9d7d01f0-e44e-4e9f-8b6e-9bb8e21bb334"
      },
      "source": [
        "print(metrics.classification_report(y_test,test_class_preds))"
      ],
      "execution_count": 54,
      "outputs": [
        {
          "output_type": "stream",
          "name": "stdout",
          "text": [
            "              precision    recall  f1-score   support\n",
            "\n",
            "           0       1.00      0.06      0.12     66846\n",
            "           1       0.13      1.00      0.23      9376\n",
            "\n",
            "    accuracy                           0.18     76222\n",
            "   macro avg       0.56      0.53      0.18     76222\n",
            "weighted avg       0.89      0.18      0.13     76222\n",
            "\n"
          ]
        }
      ]
    },
    {
      "cell_type": "code",
      "metadata": {
        "id": "ubdrnxLZ7b4r"
      },
      "source": [
        "# pd.set_option('display.max_rows', 10)\n",
        "# df.groupby(['Region_Code','Response'])['id'].count()"
      ],
      "execution_count": 55,
      "outputs": []
    },
    {
      "cell_type": "markdown",
      "metadata": {
        "id": "jkM4MA1wmldI"
      },
      "source": [
        "# **START FROM HERE**"
      ]
    },
    {
      "cell_type": "code",
      "metadata": {
        "id": "Xp1_x8Im3W82"
      },
      "source": [
        "df_copy2 = df.copy()"
      ],
      "execution_count": 56,
      "outputs": []
    },
    {
      "cell_type": "code",
      "metadata": {
        "id": "-KMbaQHKhyQ3"
      },
      "source": [
        "df_copy2['Gender'] = np.where(df_copy2['Gender']=='Male',1,0)\n",
        "df_copy2.drop(columns = ['id'],inplace = True)"
      ],
      "execution_count": 57,
      "outputs": []
    },
    {
      "cell_type": "code",
      "metadata": {
        "id": "gqs8-VgoiBNN"
      },
      "source": [
        "df_copy2['> 2 Years'] = np.where(df_copy2['Vehicle_Age']=='> 2 Years',1,0)\n",
        "df_copy2['1-2 Year'] = np.where(df_copy2['Vehicle_Age']=='1-2 Year',1,0)\n",
        "df_copy2['< 1 Year'] = np.where(df_copy2['Vehicle_Age']=='< 1 Year',1,0)"
      ],
      "execution_count": 58,
      "outputs": []
    },
    {
      "cell_type": "code",
      "metadata": {
        "id": "bYIO5r1wiln6"
      },
      "source": [
        "df_copy2.drop('Vehicle_Age',axis=1,inplace=True)\n",
        "df_copy2['Vehicle_Damage'] = df_copy2['Vehicle_Damage'].apply(lambda x:1 if x=='Yes' else 0)"
      ],
      "execution_count": 59,
      "outputs": []
    },
    {
      "cell_type": "code",
      "metadata": {
        "id": "L8ZmhLBQi0Da"
      },
      "source": [
        "df_copy2['Age'] = np.log(df_copy2['Age'])\n",
        "df_copy2['Annual_Premium'] = np.log(df_copy2['Annual_Premium'])\n",
        "df_copy2['Vintage'] = np.log(df_copy2['Vintage'])"
      ],
      "execution_count": 60,
      "outputs": []
    },
    {
      "cell_type": "code",
      "metadata": {
        "colab": {
          "base_uri": "https://localhost:8080/"
        },
        "id": "hPuA-bUFj811",
        "outputId": "034a2cdd-c960-4713-a34e-587c2045637d"
      },
      "source": [
        "features"
      ],
      "execution_count": 61,
      "outputs": [
        {
          "output_type": "execute_result",
          "data": {
            "text/plain": [
              "['Gender',\n",
              " 'Age',\n",
              " 'Driving_License',\n",
              " 'Encoded_Region',\n",
              " 'Previously_Insured',\n",
              " 'Vehicle_Damage',\n",
              " 'Annual_Premium',\n",
              " 'Encoded_Policy_Channel',\n",
              " 'Vintage',\n",
              " '> 2 Years',\n",
              " '1-2 Year',\n",
              " '< 1 Year']"
            ]
          },
          "metadata": {},
          "execution_count": 61
        }
      ]
    },
    {
      "cell_type": "code",
      "metadata": {
        "id": "VTk3KdnykzYe"
      },
      "source": [
        "features2 = list()\n",
        "for i in df_copy2.columns:\n",
        "  if i=='Response':\n",
        "    pass\n",
        "  else:\n",
        "    features2.append(i)"
      ],
      "execution_count": 62,
      "outputs": []
    },
    {
      "cell_type": "code",
      "metadata": {
        "colab": {
          "base_uri": "https://localhost:8080/"
        },
        "id": "cRHvxIGxlP39",
        "outputId": "472619d0-df6a-4461-c333-af5e3c2df8d0"
      },
      "source": [
        "features2"
      ],
      "execution_count": 63,
      "outputs": [
        {
          "output_type": "execute_result",
          "data": {
            "text/plain": [
              "['Gender',\n",
              " 'Age',\n",
              " 'Driving_License',\n",
              " 'Region_Code',\n",
              " 'Previously_Insured',\n",
              " 'Vehicle_Damage',\n",
              " 'Annual_Premium',\n",
              " 'Policy_Sales_Channel',\n",
              " 'Vintage',\n",
              " '> 2 Years',\n",
              " '1-2 Year',\n",
              " '< 1 Year']"
            ]
          },
          "metadata": {},
          "execution_count": 63
        }
      ]
    },
    {
      "cell_type": "code",
      "metadata": {
        "colab": {
          "base_uri": "https://localhost:8080/",
          "height": 417
        },
        "id": "cChmrmnSCf6c",
        "outputId": "d36d61c5-a087-4efe-bc1b-7b4da93c65d0"
      },
      "source": [
        "df_copy2"
      ],
      "execution_count": 64,
      "outputs": [
        {
          "output_type": "execute_result",
          "data": {
            "text/html": [
              "<div>\n",
              "<style scoped>\n",
              "    .dataframe tbody tr th:only-of-type {\n",
              "        vertical-align: middle;\n",
              "    }\n",
              "\n",
              "    .dataframe tbody tr th {\n",
              "        vertical-align: top;\n",
              "    }\n",
              "\n",
              "    .dataframe thead th {\n",
              "        text-align: right;\n",
              "    }\n",
              "</style>\n",
              "<table border=\"1\" class=\"dataframe\">\n",
              "  <thead>\n",
              "    <tr style=\"text-align: right;\">\n",
              "      <th></th>\n",
              "      <th>Gender</th>\n",
              "      <th>Age</th>\n",
              "      <th>Driving_License</th>\n",
              "      <th>Region_Code</th>\n",
              "      <th>Previously_Insured</th>\n",
              "      <th>Vehicle_Damage</th>\n",
              "      <th>Annual_Premium</th>\n",
              "      <th>Policy_Sales_Channel</th>\n",
              "      <th>Vintage</th>\n",
              "      <th>Response</th>\n",
              "      <th>&gt; 2 Years</th>\n",
              "      <th>1-2 Year</th>\n",
              "      <th>&lt; 1 Year</th>\n",
              "    </tr>\n",
              "  </thead>\n",
              "  <tbody>\n",
              "    <tr>\n",
              "      <th>0</th>\n",
              "      <td>1</td>\n",
              "      <td>3.784190</td>\n",
              "      <td>1</td>\n",
              "      <td>28.0</td>\n",
              "      <td>0</td>\n",
              "      <td>1</td>\n",
              "      <td>10.607921</td>\n",
              "      <td>26.0</td>\n",
              "      <td>5.379897</td>\n",
              "      <td>1</td>\n",
              "      <td>1</td>\n",
              "      <td>0</td>\n",
              "      <td>0</td>\n",
              "    </tr>\n",
              "    <tr>\n",
              "      <th>1</th>\n",
              "      <td>1</td>\n",
              "      <td>4.330733</td>\n",
              "      <td>1</td>\n",
              "      <td>3.0</td>\n",
              "      <td>0</td>\n",
              "      <td>0</td>\n",
              "      <td>10.420375</td>\n",
              "      <td>26.0</td>\n",
              "      <td>5.209486</td>\n",
              "      <td>0</td>\n",
              "      <td>0</td>\n",
              "      <td>1</td>\n",
              "      <td>0</td>\n",
              "    </tr>\n",
              "    <tr>\n",
              "      <th>2</th>\n",
              "      <td>1</td>\n",
              "      <td>3.850148</td>\n",
              "      <td>1</td>\n",
              "      <td>28.0</td>\n",
              "      <td>0</td>\n",
              "      <td>1</td>\n",
              "      <td>10.553049</td>\n",
              "      <td>26.0</td>\n",
              "      <td>3.295837</td>\n",
              "      <td>1</td>\n",
              "      <td>1</td>\n",
              "      <td>0</td>\n",
              "      <td>0</td>\n",
              "    </tr>\n",
              "    <tr>\n",
              "      <th>3</th>\n",
              "      <td>1</td>\n",
              "      <td>3.044522</td>\n",
              "      <td>1</td>\n",
              "      <td>11.0</td>\n",
              "      <td>1</td>\n",
              "      <td>0</td>\n",
              "      <td>10.261826</td>\n",
              "      <td>152.0</td>\n",
              "      <td>5.313206</td>\n",
              "      <td>0</td>\n",
              "      <td>0</td>\n",
              "      <td>0</td>\n",
              "      <td>1</td>\n",
              "    </tr>\n",
              "    <tr>\n",
              "      <th>4</th>\n",
              "      <td>0</td>\n",
              "      <td>3.367296</td>\n",
              "      <td>1</td>\n",
              "      <td>41.0</td>\n",
              "      <td>1</td>\n",
              "      <td>0</td>\n",
              "      <td>10.221796</td>\n",
              "      <td>152.0</td>\n",
              "      <td>3.663562</td>\n",
              "      <td>0</td>\n",
              "      <td>0</td>\n",
              "      <td>0</td>\n",
              "      <td>1</td>\n",
              "    </tr>\n",
              "    <tr>\n",
              "      <th>...</th>\n",
              "      <td>...</td>\n",
              "      <td>...</td>\n",
              "      <td>...</td>\n",
              "      <td>...</td>\n",
              "      <td>...</td>\n",
              "      <td>...</td>\n",
              "      <td>...</td>\n",
              "      <td>...</td>\n",
              "      <td>...</td>\n",
              "      <td>...</td>\n",
              "      <td>...</td>\n",
              "      <td>...</td>\n",
              "      <td>...</td>\n",
              "    </tr>\n",
              "    <tr>\n",
              "      <th>381104</th>\n",
              "      <td>1</td>\n",
              "      <td>4.304065</td>\n",
              "      <td>1</td>\n",
              "      <td>26.0</td>\n",
              "      <td>1</td>\n",
              "      <td>0</td>\n",
              "      <td>10.314603</td>\n",
              "      <td>26.0</td>\n",
              "      <td>4.477337</td>\n",
              "      <td>0</td>\n",
              "      <td>0</td>\n",
              "      <td>1</td>\n",
              "      <td>0</td>\n",
              "    </tr>\n",
              "    <tr>\n",
              "      <th>381105</th>\n",
              "      <td>1</td>\n",
              "      <td>3.401197</td>\n",
              "      <td>1</td>\n",
              "      <td>37.0</td>\n",
              "      <td>1</td>\n",
              "      <td>0</td>\n",
              "      <td>10.597035</td>\n",
              "      <td>152.0</td>\n",
              "      <td>4.875197</td>\n",
              "      <td>0</td>\n",
              "      <td>0</td>\n",
              "      <td>0</td>\n",
              "      <td>1</td>\n",
              "    </tr>\n",
              "    <tr>\n",
              "      <th>381106</th>\n",
              "      <td>1</td>\n",
              "      <td>3.044522</td>\n",
              "      <td>1</td>\n",
              "      <td>30.0</td>\n",
              "      <td>1</td>\n",
              "      <td>0</td>\n",
              "      <td>10.466469</td>\n",
              "      <td>160.0</td>\n",
              "      <td>5.081404</td>\n",
              "      <td>0</td>\n",
              "      <td>0</td>\n",
              "      <td>0</td>\n",
              "      <td>1</td>\n",
              "    </tr>\n",
              "    <tr>\n",
              "      <th>381107</th>\n",
              "      <td>0</td>\n",
              "      <td>4.219508</td>\n",
              "      <td>1</td>\n",
              "      <td>14.0</td>\n",
              "      <td>0</td>\n",
              "      <td>1</td>\n",
              "      <td>10.705870</td>\n",
              "      <td>124.0</td>\n",
              "      <td>4.304065</td>\n",
              "      <td>0</td>\n",
              "      <td>1</td>\n",
              "      <td>0</td>\n",
              "      <td>0</td>\n",
              "    </tr>\n",
              "    <tr>\n",
              "      <th>381108</th>\n",
              "      <td>1</td>\n",
              "      <td>3.828641</td>\n",
              "      <td>1</td>\n",
              "      <td>29.0</td>\n",
              "      <td>0</td>\n",
              "      <td>0</td>\n",
              "      <td>10.640101</td>\n",
              "      <td>26.0</td>\n",
              "      <td>5.468060</td>\n",
              "      <td>0</td>\n",
              "      <td>0</td>\n",
              "      <td>1</td>\n",
              "      <td>0</td>\n",
              "    </tr>\n",
              "  </tbody>\n",
              "</table>\n",
              "<p>381109 rows × 13 columns</p>\n",
              "</div>"
            ],
            "text/plain": [
              "        Gender       Age  Driving_License  ...  > 2 Years  1-2 Year  < 1 Year\n",
              "0            1  3.784190                1  ...          1         0         0\n",
              "1            1  4.330733                1  ...          0         1         0\n",
              "2            1  3.850148                1  ...          1         0         0\n",
              "3            1  3.044522                1  ...          0         0         1\n",
              "4            0  3.367296                1  ...          0         0         1\n",
              "...        ...       ...              ...  ...        ...       ...       ...\n",
              "381104       1  4.304065                1  ...          0         1         0\n",
              "381105       1  3.401197                1  ...          0         0         1\n",
              "381106       1  3.044522                1  ...          0         0         1\n",
              "381107       0  4.219508                1  ...          1         0         0\n",
              "381108       1  3.828641                1  ...          0         1         0\n",
              "\n",
              "[381109 rows x 13 columns]"
            ]
          },
          "metadata": {},
          "execution_count": 64
        }
      ]
    },
    {
      "cell_type": "code",
      "metadata": {
        "id": "PNUJwHctjHTt"
      },
      "source": [
        "X1 = df_copy2[features2]\n",
        "y1 = df_copy2['Response']\n",
        "from sklearn.model_selection import train_test_split \n",
        "X_train, X_test, y_train, y_test = train_test_split( X1,y1 , test_size = 0.2, random_state = 5)"
      ],
      "execution_count": 65,
      "outputs": []
    },
    {
      "cell_type": "code",
      "metadata": {
        "colab": {
          "base_uri": "https://localhost:8080/",
          "height": 417
        },
        "id": "bkW_QPmsEjVs",
        "outputId": "cb8e517b-6bdf-4fb7-faf6-8dd657832ec8"
      },
      "source": [
        "X_train"
      ],
      "execution_count": 66,
      "outputs": [
        {
          "output_type": "execute_result",
          "data": {
            "text/html": [
              "<div>\n",
              "<style scoped>\n",
              "    .dataframe tbody tr th:only-of-type {\n",
              "        vertical-align: middle;\n",
              "    }\n",
              "\n",
              "    .dataframe tbody tr th {\n",
              "        vertical-align: top;\n",
              "    }\n",
              "\n",
              "    .dataframe thead th {\n",
              "        text-align: right;\n",
              "    }\n",
              "</style>\n",
              "<table border=\"1\" class=\"dataframe\">\n",
              "  <thead>\n",
              "    <tr style=\"text-align: right;\">\n",
              "      <th></th>\n",
              "      <th>Gender</th>\n",
              "      <th>Age</th>\n",
              "      <th>Driving_License</th>\n",
              "      <th>Region_Code</th>\n",
              "      <th>Previously_Insured</th>\n",
              "      <th>Vehicle_Damage</th>\n",
              "      <th>Annual_Premium</th>\n",
              "      <th>Policy_Sales_Channel</th>\n",
              "      <th>Vintage</th>\n",
              "      <th>&gt; 2 Years</th>\n",
              "      <th>1-2 Year</th>\n",
              "      <th>&lt; 1 Year</th>\n",
              "    </tr>\n",
              "  </thead>\n",
              "  <tbody>\n",
              "    <tr>\n",
              "      <th>74161</th>\n",
              "      <td>1</td>\n",
              "      <td>3.951244</td>\n",
              "      <td>1</td>\n",
              "      <td>44.0</td>\n",
              "      <td>1</td>\n",
              "      <td>0</td>\n",
              "      <td>10.614229</td>\n",
              "      <td>26.0</td>\n",
              "      <td>5.123964</td>\n",
              "      <td>0</td>\n",
              "      <td>1</td>\n",
              "      <td>0</td>\n",
              "    </tr>\n",
              "    <tr>\n",
              "      <th>107315</th>\n",
              "      <td>1</td>\n",
              "      <td>3.433987</td>\n",
              "      <td>1</td>\n",
              "      <td>37.0</td>\n",
              "      <td>0</td>\n",
              "      <td>1</td>\n",
              "      <td>10.443833</td>\n",
              "      <td>152.0</td>\n",
              "      <td>5.605802</td>\n",
              "      <td>0</td>\n",
              "      <td>0</td>\n",
              "      <td>1</td>\n",
              "    </tr>\n",
              "    <tr>\n",
              "      <th>140508</th>\n",
              "      <td>0</td>\n",
              "      <td>3.135494</td>\n",
              "      <td>1</td>\n",
              "      <td>44.0</td>\n",
              "      <td>1</td>\n",
              "      <td>0</td>\n",
              "      <td>10.576764</td>\n",
              "      <td>152.0</td>\n",
              "      <td>5.123964</td>\n",
              "      <td>0</td>\n",
              "      <td>0</td>\n",
              "      <td>1</td>\n",
              "    </tr>\n",
              "    <tr>\n",
              "      <th>167354</th>\n",
              "      <td>1</td>\n",
              "      <td>3.931826</td>\n",
              "      <td>1</td>\n",
              "      <td>28.0</td>\n",
              "      <td>0</td>\n",
              "      <td>1</td>\n",
              "      <td>10.562768</td>\n",
              "      <td>124.0</td>\n",
              "      <td>4.007333</td>\n",
              "      <td>0</td>\n",
              "      <td>1</td>\n",
              "      <td>0</td>\n",
              "    </tr>\n",
              "    <tr>\n",
              "      <th>257640</th>\n",
              "      <td>0</td>\n",
              "      <td>3.178054</td>\n",
              "      <td>1</td>\n",
              "      <td>10.0</td>\n",
              "      <td>1</td>\n",
              "      <td>0</td>\n",
              "      <td>10.353575</td>\n",
              "      <td>152.0</td>\n",
              "      <td>5.010635</td>\n",
              "      <td>0</td>\n",
              "      <td>0</td>\n",
              "      <td>1</td>\n",
              "    </tr>\n",
              "    <tr>\n",
              "      <th>...</th>\n",
              "      <td>...</td>\n",
              "      <td>...</td>\n",
              "      <td>...</td>\n",
              "      <td>...</td>\n",
              "      <td>...</td>\n",
              "      <td>...</td>\n",
              "      <td>...</td>\n",
              "      <td>...</td>\n",
              "      <td>...</td>\n",
              "      <td>...</td>\n",
              "      <td>...</td>\n",
              "      <td>...</td>\n",
              "    </tr>\n",
              "    <tr>\n",
              "      <th>232422</th>\n",
              "      <td>0</td>\n",
              "      <td>3.688879</td>\n",
              "      <td>1</td>\n",
              "      <td>8.0</td>\n",
              "      <td>0</td>\n",
              "      <td>1</td>\n",
              "      <td>10.969525</td>\n",
              "      <td>124.0</td>\n",
              "      <td>4.828314</td>\n",
              "      <td>0</td>\n",
              "      <td>1</td>\n",
              "      <td>0</td>\n",
              "    </tr>\n",
              "    <tr>\n",
              "      <th>124605</th>\n",
              "      <td>1</td>\n",
              "      <td>3.637586</td>\n",
              "      <td>1</td>\n",
              "      <td>23.0</td>\n",
              "      <td>0</td>\n",
              "      <td>1</td>\n",
              "      <td>10.262804</td>\n",
              "      <td>124.0</td>\n",
              "      <td>4.653960</td>\n",
              "      <td>0</td>\n",
              "      <td>1</td>\n",
              "      <td>0</td>\n",
              "    </tr>\n",
              "    <tr>\n",
              "      <th>20463</th>\n",
              "      <td>0</td>\n",
              "      <td>3.178054</td>\n",
              "      <td>1</td>\n",
              "      <td>3.0</td>\n",
              "      <td>1</td>\n",
              "      <td>0</td>\n",
              "      <td>10.522450</td>\n",
              "      <td>152.0</td>\n",
              "      <td>5.068904</td>\n",
              "      <td>0</td>\n",
              "      <td>0</td>\n",
              "      <td>1</td>\n",
              "    </tr>\n",
              "    <tr>\n",
              "      <th>18638</th>\n",
              "      <td>1</td>\n",
              "      <td>3.891820</td>\n",
              "      <td>1</td>\n",
              "      <td>28.0</td>\n",
              "      <td>0</td>\n",
              "      <td>1</td>\n",
              "      <td>10.676439</td>\n",
              "      <td>26.0</td>\n",
              "      <td>4.955827</td>\n",
              "      <td>1</td>\n",
              "      <td>0</td>\n",
              "      <td>0</td>\n",
              "    </tr>\n",
              "    <tr>\n",
              "      <th>297827</th>\n",
              "      <td>1</td>\n",
              "      <td>3.737670</td>\n",
              "      <td>1</td>\n",
              "      <td>28.0</td>\n",
              "      <td>0</td>\n",
              "      <td>1</td>\n",
              "      <td>10.485033</td>\n",
              "      <td>52.0</td>\n",
              "      <td>4.709530</td>\n",
              "      <td>0</td>\n",
              "      <td>1</td>\n",
              "      <td>0</td>\n",
              "    </tr>\n",
              "  </tbody>\n",
              "</table>\n",
              "<p>304887 rows × 12 columns</p>\n",
              "</div>"
            ],
            "text/plain": [
              "        Gender       Age  Driving_License  ...  > 2 Years  1-2 Year  < 1 Year\n",
              "74161        1  3.951244                1  ...          0         1         0\n",
              "107315       1  3.433987                1  ...          0         0         1\n",
              "140508       0  3.135494                1  ...          0         0         1\n",
              "167354       1  3.931826                1  ...          0         1         0\n",
              "257640       0  3.178054                1  ...          0         0         1\n",
              "...        ...       ...              ...  ...        ...       ...       ...\n",
              "232422       0  3.688879                1  ...          0         1         0\n",
              "124605       1  3.637586                1  ...          0         1         0\n",
              "20463        0  3.178054                1  ...          0         0         1\n",
              "18638        1  3.891820                1  ...          1         0         0\n",
              "297827       1  3.737670                1  ...          0         1         0\n",
              "\n",
              "[304887 rows x 12 columns]"
            ]
          },
          "metadata": {},
          "execution_count": 66
        }
      ]
    },
    {
      "cell_type": "code",
      "metadata": {
        "colab": {
          "base_uri": "https://localhost:8080/"
        },
        "id": "gZI5HfzcCrgN",
        "outputId": "551a8f89-4c0b-420e-d603-1dd508cef038"
      },
      "source": [
        "pip install category_encoders"
      ],
      "execution_count": 67,
      "outputs": [
        {
          "output_type": "stream",
          "name": "stdout",
          "text": [
            "Collecting category_encoders\n",
            "  Downloading category_encoders-2.3.0-py2.py3-none-any.whl (82 kB)\n",
            "\u001b[?25l\r\u001b[K     |████                            | 10 kB 24.1 MB/s eta 0:00:01\r\u001b[K     |████████                        | 20 kB 8.1 MB/s eta 0:00:01\r\u001b[K     |████████████                    | 30 kB 5.5 MB/s eta 0:00:01\r\u001b[K     |████████████████                | 40 kB 5.1 MB/s eta 0:00:01\r\u001b[K     |████████████████████            | 51 kB 2.6 MB/s eta 0:00:01\r\u001b[K     |████████████████████████        | 61 kB 2.8 MB/s eta 0:00:01\r\u001b[K     |████████████████████████████    | 71 kB 2.8 MB/s eta 0:00:01\r\u001b[K     |███████████████████████████████▉| 81 kB 3.1 MB/s eta 0:00:01\r\u001b[K     |████████████████████████████████| 82 kB 294 kB/s \n",
            "\u001b[?25hRequirement already satisfied: patsy>=0.5.1 in /usr/local/lib/python3.7/dist-packages (from category_encoders) (0.5.2)\n",
            "Requirement already satisfied: scikit-learn>=0.20.0 in /usr/local/lib/python3.7/dist-packages (from category_encoders) (0.22.2.post1)\n",
            "Requirement already satisfied: statsmodels>=0.9.0 in /usr/local/lib/python3.7/dist-packages (from category_encoders) (0.10.2)\n",
            "Requirement already satisfied: numpy>=1.14.0 in /usr/local/lib/python3.7/dist-packages (from category_encoders) (1.19.5)\n",
            "Requirement already satisfied: scipy>=1.0.0 in /usr/local/lib/python3.7/dist-packages (from category_encoders) (1.4.1)\n",
            "Requirement already satisfied: pandas>=0.21.1 in /usr/local/lib/python3.7/dist-packages (from category_encoders) (1.1.5)\n",
            "Requirement already satisfied: python-dateutil>=2.7.3 in /usr/local/lib/python3.7/dist-packages (from pandas>=0.21.1->category_encoders) (2.8.2)\n",
            "Requirement already satisfied: pytz>=2017.2 in /usr/local/lib/python3.7/dist-packages (from pandas>=0.21.1->category_encoders) (2018.9)\n",
            "Requirement already satisfied: six in /usr/local/lib/python3.7/dist-packages (from patsy>=0.5.1->category_encoders) (1.15.0)\n",
            "Requirement already satisfied: joblib>=0.11 in /usr/local/lib/python3.7/dist-packages (from scikit-learn>=0.20.0->category_encoders) (1.1.0)\n",
            "Installing collected packages: category-encoders\n",
            "Successfully installed category-encoders-2.3.0\n"
          ]
        }
      ]
    },
    {
      "cell_type": "code",
      "metadata": {
        "colab": {
          "base_uri": "https://localhost:8080/"
        },
        "id": "Wklo-hLjktua",
        "outputId": "1bd6679b-7eee-42ef-d631-b64502f50dff"
      },
      "source": [
        "import category_encoders as ce\n",
        "encoder=ce.TargetEncoder(cols=['Region_Code','Policy_Sales_Channel'])\n",
        "encoded_values_array = encoder.fit_transform(X_train[['Region_Code','Policy_Sales_Channel']],y_train).values"
      ],
      "execution_count": 68,
      "outputs": [
        {
          "output_type": "stream",
          "name": "stderr",
          "text": [
            "/usr/local/lib/python3.7/dist-packages/statsmodels/tools/_testing.py:19: FutureWarning: pandas.util.testing is deprecated. Use the functions in the public API at pandas.testing instead.\n",
            "  import pandas.util.testing as tm\n"
          ]
        }
      ]
    },
    {
      "cell_type": "code",
      "metadata": {
        "colab": {
          "base_uri": "https://localhost:8080/"
        },
        "id": "FhKndi1hCmXK",
        "outputId": "fa2a8630-1c63-4aeb-8a08-49df44f9fa4b"
      },
      "source": [
        "X_train['Region_Code'] = encoded_values_array[:,0]\n",
        "X_train['Policy_Sales_Channel'] = encoded_values_array[:,1]"
      ],
      "execution_count": 69,
      "outputs": [
        {
          "output_type": "stream",
          "name": "stderr",
          "text": [
            "/usr/local/lib/python3.7/dist-packages/ipykernel_launcher.py:1: SettingWithCopyWarning: \n",
            "A value is trying to be set on a copy of a slice from a DataFrame.\n",
            "Try using .loc[row_indexer,col_indexer] = value instead\n",
            "\n",
            "See the caveats in the documentation: https://pandas.pydata.org/pandas-docs/stable/user_guide/indexing.html#returning-a-view-versus-a-copy\n",
            "  \"\"\"Entry point for launching an IPython kernel.\n",
            "/usr/local/lib/python3.7/dist-packages/ipykernel_launcher.py:2: SettingWithCopyWarning: \n",
            "A value is trying to be set on a copy of a slice from a DataFrame.\n",
            "Try using .loc[row_indexer,col_indexer] = value instead\n",
            "\n",
            "See the caveats in the documentation: https://pandas.pydata.org/pandas-docs/stable/user_guide/indexing.html#returning-a-view-versus-a-copy\n",
            "  \n"
          ]
        }
      ]
    },
    {
      "cell_type": "code",
      "metadata": {
        "colab": {
          "base_uri": "https://localhost:8080/",
          "height": 417
        },
        "id": "tiIp0ifuDC9a",
        "outputId": "84294c03-4866-4901-e912-6bc83526d7b4"
      },
      "source": [
        "X_train"
      ],
      "execution_count": 70,
      "outputs": [
        {
          "output_type": "execute_result",
          "data": {
            "text/html": [
              "<div>\n",
              "<style scoped>\n",
              "    .dataframe tbody tr th:only-of-type {\n",
              "        vertical-align: middle;\n",
              "    }\n",
              "\n",
              "    .dataframe tbody tr th {\n",
              "        vertical-align: top;\n",
              "    }\n",
              "\n",
              "    .dataframe thead th {\n",
              "        text-align: right;\n",
              "    }\n",
              "</style>\n",
              "<table border=\"1\" class=\"dataframe\">\n",
              "  <thead>\n",
              "    <tr style=\"text-align: right;\">\n",
              "      <th></th>\n",
              "      <th>Gender</th>\n",
              "      <th>Age</th>\n",
              "      <th>Driving_License</th>\n",
              "      <th>Region_Code</th>\n",
              "      <th>Previously_Insured</th>\n",
              "      <th>Vehicle_Damage</th>\n",
              "      <th>Annual_Premium</th>\n",
              "      <th>Policy_Sales_Channel</th>\n",
              "      <th>Vintage</th>\n",
              "      <th>&gt; 2 Years</th>\n",
              "      <th>1-2 Year</th>\n",
              "      <th>&lt; 1 Year</th>\n",
              "    </tr>\n",
              "  </thead>\n",
              "  <tbody>\n",
              "    <tr>\n",
              "      <th>74161</th>\n",
              "      <td>1</td>\n",
              "      <td>3.951244</td>\n",
              "      <td>1</td>\n",
              "      <td>0.040000</td>\n",
              "      <td>1</td>\n",
              "      <td>0</td>\n",
              "      <td>10.614229</td>\n",
              "      <td>0.199483</td>\n",
              "      <td>5.123964</td>\n",
              "      <td>0</td>\n",
              "      <td>1</td>\n",
              "      <td>0</td>\n",
              "    </tr>\n",
              "    <tr>\n",
              "      <th>107315</th>\n",
              "      <td>1</td>\n",
              "      <td>3.433987</td>\n",
              "      <td>1</td>\n",
              "      <td>0.079150</td>\n",
              "      <td>0</td>\n",
              "      <td>1</td>\n",
              "      <td>10.443833</td>\n",
              "      <td>0.028254</td>\n",
              "      <td>5.605802</td>\n",
              "      <td>0</td>\n",
              "      <td>0</td>\n",
              "      <td>1</td>\n",
              "    </tr>\n",
              "    <tr>\n",
              "      <th>140508</th>\n",
              "      <td>0</td>\n",
              "      <td>3.135494</td>\n",
              "      <td>1</td>\n",
              "      <td>0.040000</td>\n",
              "      <td>1</td>\n",
              "      <td>0</td>\n",
              "      <td>10.576764</td>\n",
              "      <td>0.028254</td>\n",
              "      <td>5.123964</td>\n",
              "      <td>0</td>\n",
              "      <td>0</td>\n",
              "      <td>1</td>\n",
              "    </tr>\n",
              "    <tr>\n",
              "      <th>167354</th>\n",
              "      <td>1</td>\n",
              "      <td>3.931826</td>\n",
              "      <td>1</td>\n",
              "      <td>0.187724</td>\n",
              "      <td>0</td>\n",
              "      <td>1</td>\n",
              "      <td>10.562768</td>\n",
              "      <td>0.190246</td>\n",
              "      <td>4.007333</td>\n",
              "      <td>0</td>\n",
              "      <td>1</td>\n",
              "      <td>0</td>\n",
              "    </tr>\n",
              "    <tr>\n",
              "      <th>257640</th>\n",
              "      <td>0</td>\n",
              "      <td>3.178054</td>\n",
              "      <td>1</td>\n",
              "      <td>0.059212</td>\n",
              "      <td>1</td>\n",
              "      <td>0</td>\n",
              "      <td>10.353575</td>\n",
              "      <td>0.028254</td>\n",
              "      <td>5.010635</td>\n",
              "      <td>0</td>\n",
              "      <td>0</td>\n",
              "      <td>1</td>\n",
              "    </tr>\n",
              "    <tr>\n",
              "      <th>...</th>\n",
              "      <td>...</td>\n",
              "      <td>...</td>\n",
              "      <td>...</td>\n",
              "      <td>...</td>\n",
              "      <td>...</td>\n",
              "      <td>...</td>\n",
              "      <td>...</td>\n",
              "      <td>...</td>\n",
              "      <td>...</td>\n",
              "      <td>...</td>\n",
              "      <td>...</td>\n",
              "      <td>...</td>\n",
              "    </tr>\n",
              "    <tr>\n",
              "      <th>232422</th>\n",
              "      <td>0</td>\n",
              "      <td>3.688879</td>\n",
              "      <td>1</td>\n",
              "      <td>0.097508</td>\n",
              "      <td>0</td>\n",
              "      <td>1</td>\n",
              "      <td>10.969525</td>\n",
              "      <td>0.190246</td>\n",
              "      <td>4.828314</td>\n",
              "      <td>0</td>\n",
              "      <td>1</td>\n",
              "      <td>0</td>\n",
              "    </tr>\n",
              "    <tr>\n",
              "      <th>124605</th>\n",
              "      <td>1</td>\n",
              "      <td>3.637586</td>\n",
              "      <td>1</td>\n",
              "      <td>0.149084</td>\n",
              "      <td>0</td>\n",
              "      <td>1</td>\n",
              "      <td>10.262804</td>\n",
              "      <td>0.190246</td>\n",
              "      <td>4.653960</td>\n",
              "      <td>0</td>\n",
              "      <td>1</td>\n",
              "      <td>0</td>\n",
              "    </tr>\n",
              "    <tr>\n",
              "      <th>20463</th>\n",
              "      <td>0</td>\n",
              "      <td>3.178054</td>\n",
              "      <td>1</td>\n",
              "      <td>0.131711</td>\n",
              "      <td>1</td>\n",
              "      <td>0</td>\n",
              "      <td>10.522450</td>\n",
              "      <td>0.028254</td>\n",
              "      <td>5.068904</td>\n",
              "      <td>0</td>\n",
              "      <td>0</td>\n",
              "      <td>1</td>\n",
              "    </tr>\n",
              "    <tr>\n",
              "      <th>18638</th>\n",
              "      <td>1</td>\n",
              "      <td>3.891820</td>\n",
              "      <td>1</td>\n",
              "      <td>0.187724</td>\n",
              "      <td>0</td>\n",
              "      <td>1</td>\n",
              "      <td>10.676439</td>\n",
              "      <td>0.199483</td>\n",
              "      <td>4.955827</td>\n",
              "      <td>1</td>\n",
              "      <td>0</td>\n",
              "      <td>0</td>\n",
              "    </tr>\n",
              "    <tr>\n",
              "      <th>297827</th>\n",
              "      <td>1</td>\n",
              "      <td>3.737670</td>\n",
              "      <td>1</td>\n",
              "      <td>0.187724</td>\n",
              "      <td>0</td>\n",
              "      <td>1</td>\n",
              "      <td>10.485033</td>\n",
              "      <td>0.106888</td>\n",
              "      <td>4.709530</td>\n",
              "      <td>0</td>\n",
              "      <td>1</td>\n",
              "      <td>0</td>\n",
              "    </tr>\n",
              "  </tbody>\n",
              "</table>\n",
              "<p>304887 rows × 12 columns</p>\n",
              "</div>"
            ],
            "text/plain": [
              "        Gender       Age  Driving_License  ...  > 2 Years  1-2 Year  < 1 Year\n",
              "74161        1  3.951244                1  ...          0         1         0\n",
              "107315       1  3.433987                1  ...          0         0         1\n",
              "140508       0  3.135494                1  ...          0         0         1\n",
              "167354       1  3.931826                1  ...          0         1         0\n",
              "257640       0  3.178054                1  ...          0         0         1\n",
              "...        ...       ...              ...  ...        ...       ...       ...\n",
              "232422       0  3.688879                1  ...          0         1         0\n",
              "124605       1  3.637586                1  ...          0         1         0\n",
              "20463        0  3.178054                1  ...          0         0         1\n",
              "18638        1  3.891820                1  ...          1         0         0\n",
              "297827       1  3.737670                1  ...          0         1         0\n",
              "\n",
              "[304887 rows x 12 columns]"
            ]
          },
          "metadata": {},
          "execution_count": 70
        }
      ]
    },
    {
      "cell_type": "code",
      "metadata": {
        "colab": {
          "base_uri": "https://localhost:8080/"
        },
        "id": "ktjOaU8pEchs",
        "outputId": "416ee995-0f76-4112-e0f4-4dd7e835dcdd"
      },
      "source": [
        "encoded_values_array_test = encoder.transform(X_test[['Region_Code','Policy_Sales_Channel']],y_test).values\n",
        "X_test['Region_Code'] = encoded_values_array_test[:,0]\n",
        "X_test['Policy_Sales_Channel'] = encoded_values_array_test[:,1]"
      ],
      "execution_count": 71,
      "outputs": [
        {
          "output_type": "stream",
          "name": "stderr",
          "text": [
            "/usr/local/lib/python3.7/dist-packages/ipykernel_launcher.py:2: SettingWithCopyWarning: \n",
            "A value is trying to be set on a copy of a slice from a DataFrame.\n",
            "Try using .loc[row_indexer,col_indexer] = value instead\n",
            "\n",
            "See the caveats in the documentation: https://pandas.pydata.org/pandas-docs/stable/user_guide/indexing.html#returning-a-view-versus-a-copy\n",
            "  \n",
            "/usr/local/lib/python3.7/dist-packages/ipykernel_launcher.py:3: SettingWithCopyWarning: \n",
            "A value is trying to be set on a copy of a slice from a DataFrame.\n",
            "Try using .loc[row_indexer,col_indexer] = value instead\n",
            "\n",
            "See the caveats in the documentation: https://pandas.pydata.org/pandas-docs/stable/user_guide/indexing.html#returning-a-view-versus-a-copy\n",
            "  This is separate from the ipykernel package so we can avoid doing imports until\n"
          ]
        }
      ]
    },
    {
      "cell_type": "code",
      "metadata": {
        "colab": {
          "base_uri": "https://localhost:8080/",
          "height": 417
        },
        "id": "IPcWdRcBGtwI",
        "outputId": "f08d1a05-517b-4ada-dc4f-015640dd0e05"
      },
      "source": [
        "X_test"
      ],
      "execution_count": 72,
      "outputs": [
        {
          "output_type": "execute_result",
          "data": {
            "text/html": [
              "<div>\n",
              "<style scoped>\n",
              "    .dataframe tbody tr th:only-of-type {\n",
              "        vertical-align: middle;\n",
              "    }\n",
              "\n",
              "    .dataframe tbody tr th {\n",
              "        vertical-align: top;\n",
              "    }\n",
              "\n",
              "    .dataframe thead th {\n",
              "        text-align: right;\n",
              "    }\n",
              "</style>\n",
              "<table border=\"1\" class=\"dataframe\">\n",
              "  <thead>\n",
              "    <tr style=\"text-align: right;\">\n",
              "      <th></th>\n",
              "      <th>Gender</th>\n",
              "      <th>Age</th>\n",
              "      <th>Driving_License</th>\n",
              "      <th>Region_Code</th>\n",
              "      <th>Previously_Insured</th>\n",
              "      <th>Vehicle_Damage</th>\n",
              "      <th>Annual_Premium</th>\n",
              "      <th>Policy_Sales_Channel</th>\n",
              "      <th>Vintage</th>\n",
              "      <th>&gt; 2 Years</th>\n",
              "      <th>1-2 Year</th>\n",
              "      <th>&lt; 1 Year</th>\n",
              "    </tr>\n",
              "  </thead>\n",
              "  <tbody>\n",
              "    <tr>\n",
              "      <th>56814</th>\n",
              "      <td>1</td>\n",
              "      <td>3.091042</td>\n",
              "      <td>1</td>\n",
              "      <td>0.072634</td>\n",
              "      <td>0</td>\n",
              "      <td>1</td>\n",
              "      <td>10.569983</td>\n",
              "      <td>0.028254</td>\n",
              "      <td>5.594711</td>\n",
              "      <td>0</td>\n",
              "      <td>0</td>\n",
              "      <td>1</td>\n",
              "    </tr>\n",
              "    <tr>\n",
              "      <th>168832</th>\n",
              "      <td>1</td>\n",
              "      <td>3.737670</td>\n",
              "      <td>1</td>\n",
              "      <td>0.131711</td>\n",
              "      <td>1</td>\n",
              "      <td>0</td>\n",
              "      <td>10.639479</td>\n",
              "      <td>0.199483</td>\n",
              "      <td>5.472271</td>\n",
              "      <td>0</td>\n",
              "      <td>1</td>\n",
              "      <td>0</td>\n",
              "    </tr>\n",
              "    <tr>\n",
              "      <th>4864</th>\n",
              "      <td>1</td>\n",
              "      <td>3.663562</td>\n",
              "      <td>1</td>\n",
              "      <td>0.187724</td>\n",
              "      <td>0</td>\n",
              "      <td>1</td>\n",
              "      <td>10.666464</td>\n",
              "      <td>0.106888</td>\n",
              "      <td>3.850148</td>\n",
              "      <td>0</td>\n",
              "      <td>1</td>\n",
              "      <td>0</td>\n",
              "    </tr>\n",
              "    <tr>\n",
              "      <th>255045</th>\n",
              "      <td>1</td>\n",
              "      <td>3.988984</td>\n",
              "      <td>1</td>\n",
              "      <td>0.079795</td>\n",
              "      <td>0</td>\n",
              "      <td>0</td>\n",
              "      <td>10.426262</td>\n",
              "      <td>0.199483</td>\n",
              "      <td>4.672829</td>\n",
              "      <td>0</td>\n",
              "      <td>1</td>\n",
              "      <td>0</td>\n",
              "    </tr>\n",
              "    <tr>\n",
              "      <th>159217</th>\n",
              "      <td>1</td>\n",
              "      <td>4.234107</td>\n",
              "      <td>1</td>\n",
              "      <td>0.187724</td>\n",
              "      <td>1</td>\n",
              "      <td>0</td>\n",
              "      <td>10.807037</td>\n",
              "      <td>0.174984</td>\n",
              "      <td>5.375278</td>\n",
              "      <td>0</td>\n",
              "      <td>1</td>\n",
              "      <td>0</td>\n",
              "    </tr>\n",
              "    <tr>\n",
              "      <th>...</th>\n",
              "      <td>...</td>\n",
              "      <td>...</td>\n",
              "      <td>...</td>\n",
              "      <td>...</td>\n",
              "      <td>...</td>\n",
              "      <td>...</td>\n",
              "      <td>...</td>\n",
              "      <td>...</td>\n",
              "      <td>...</td>\n",
              "      <td>...</td>\n",
              "      <td>...</td>\n",
              "      <td>...</td>\n",
              "    </tr>\n",
              "    <tr>\n",
              "      <th>358703</th>\n",
              "      <td>0</td>\n",
              "      <td>3.784190</td>\n",
              "      <td>1</td>\n",
              "      <td>0.187724</td>\n",
              "      <td>0</td>\n",
              "      <td>0</td>\n",
              "      <td>10.474975</td>\n",
              "      <td>0.174984</td>\n",
              "      <td>5.693732</td>\n",
              "      <td>0</td>\n",
              "      <td>1</td>\n",
              "      <td>0</td>\n",
              "    </tr>\n",
              "    <tr>\n",
              "      <th>190421</th>\n",
              "      <td>1</td>\n",
              "      <td>4.077537</td>\n",
              "      <td>1</td>\n",
              "      <td>0.187724</td>\n",
              "      <td>0</td>\n",
              "      <td>1</td>\n",
              "      <td>10.856187</td>\n",
              "      <td>0.146325</td>\n",
              "      <td>5.624018</td>\n",
              "      <td>1</td>\n",
              "      <td>0</td>\n",
              "      <td>0</td>\n",
              "    </tr>\n",
              "    <tr>\n",
              "      <th>182771</th>\n",
              "      <td>0</td>\n",
              "      <td>4.248495</td>\n",
              "      <td>1</td>\n",
              "      <td>0.187724</td>\n",
              "      <td>0</td>\n",
              "      <td>1</td>\n",
              "      <td>7.874739</td>\n",
              "      <td>0.218226</td>\n",
              "      <td>5.017280</td>\n",
              "      <td>1</td>\n",
              "      <td>0</td>\n",
              "      <td>0</td>\n",
              "    </tr>\n",
              "    <tr>\n",
              "      <th>47733</th>\n",
              "      <td>1</td>\n",
              "      <td>4.094345</td>\n",
              "      <td>1</td>\n",
              "      <td>0.192142</td>\n",
              "      <td>0</td>\n",
              "      <td>1</td>\n",
              "      <td>7.874739</td>\n",
              "      <td>0.190246</td>\n",
              "      <td>5.455321</td>\n",
              "      <td>0</td>\n",
              "      <td>1</td>\n",
              "      <td>0</td>\n",
              "    </tr>\n",
              "    <tr>\n",
              "      <th>75153</th>\n",
              "      <td>1</td>\n",
              "      <td>3.295837</td>\n",
              "      <td>1</td>\n",
              "      <td>0.125659</td>\n",
              "      <td>1</td>\n",
              "      <td>0</td>\n",
              "      <td>7.874739</td>\n",
              "      <td>0.028254</td>\n",
              "      <td>4.406719</td>\n",
              "      <td>0</td>\n",
              "      <td>0</td>\n",
              "      <td>1</td>\n",
              "    </tr>\n",
              "  </tbody>\n",
              "</table>\n",
              "<p>76222 rows × 12 columns</p>\n",
              "</div>"
            ],
            "text/plain": [
              "        Gender       Age  Driving_License  ...  > 2 Years  1-2 Year  < 1 Year\n",
              "56814        1  3.091042                1  ...          0         0         1\n",
              "168832       1  3.737670                1  ...          0         1         0\n",
              "4864         1  3.663562                1  ...          0         1         0\n",
              "255045       1  3.988984                1  ...          0         1         0\n",
              "159217       1  4.234107                1  ...          0         1         0\n",
              "...        ...       ...              ...  ...        ...       ...       ...\n",
              "358703       0  3.784190                1  ...          0         1         0\n",
              "190421       1  4.077537                1  ...          1         0         0\n",
              "182771       0  4.248495                1  ...          1         0         0\n",
              "47733        1  4.094345                1  ...          0         1         0\n",
              "75153        1  3.295837                1  ...          0         0         1\n",
              "\n",
              "[76222 rows x 12 columns]"
            ]
          },
          "metadata": {},
          "execution_count": 72
        }
      ]
    },
    {
      "cell_type": "code",
      "metadata": {
        "colab": {
          "base_uri": "https://localhost:8080/"
        },
        "id": "f6zSpKcOGvyH",
        "outputId": "4d2e9613-5ab3-437f-e282-f33f610e7369"
      },
      "source": [
        "from imblearn.over_sampling import SMOTE\n",
        "\n",
        "smote = SMOTE(random_state=8)\n",
        "\n",
        "X_smote, y_smote = smote.fit_resample(X_train.values, y_train.values)\n",
        "\n",
        "print('Original dataset shape', len(y_train))\n",
        "print('Resampled dataset shape', len(y_smote))\n"
      ],
      "execution_count": 73,
      "outputs": [
        {
          "output_type": "stream",
          "name": "stderr",
          "text": [
            "/usr/local/lib/python3.7/dist-packages/sklearn/utils/deprecation.py:87: FutureWarning: Function safe_indexing is deprecated; safe_indexing is deprecated in version 0.22 and will be removed in version 0.24.\n",
            "  warnings.warn(msg, category=FutureWarning)\n"
          ]
        },
        {
          "output_type": "stream",
          "name": "stdout",
          "text": [
            "Original dataset shape 304887\n",
            "Resampled dataset shape 534854\n"
          ]
        }
      ]
    },
    {
      "cell_type": "code",
      "metadata": {
        "id": "RBZgWWB3IvgX"
      },
      "source": [
        "from sklearn.preprocessing import MinMaxScaler\n",
        "scaler2 = MinMaxScaler()\n",
        "X_smote[:,[1,6,8]] = scaler2.fit_transform(X_smote[:,[1,6,8]])"
      ],
      "execution_count": 74,
      "outputs": []
    },
    {
      "cell_type": "code",
      "metadata": {
        "colab": {
          "base_uri": "https://localhost:8080/"
        },
        "id": "VEsUxLWHKby6",
        "outputId": "cb492d07-0fcd-4b88-ecf4-bb1624a58b2c"
      },
      "source": [
        "X_smote"
      ],
      "execution_count": 75,
      "outputs": [
        {
          "output_type": "execute_result",
          "data": {
            "text/plain": [
              "array([[1.        , 0.6603766 , 1.        , ..., 0.        , 1.        ,\n",
              "        0.        ],\n",
              "       [1.        , 0.30288837, 1.        , ..., 0.        , 0.        ,\n",
              "        1.        ],\n",
              "       [0.        , 0.09659279, 1.        , ..., 0.        , 0.        ,\n",
              "        1.        ],\n",
              "       ...,\n",
              "       [0.        , 0.48405158, 1.        , ..., 0.        , 1.        ,\n",
              "        0.        ],\n",
              "       [1.        , 0.44438963, 1.        , ..., 0.        , 1.        ,\n",
              "        0.        ],\n",
              "       [0.        , 0.48149285, 1.        , ..., 0.        , 1.        ,\n",
              "        0.        ]])"
            ]
          },
          "metadata": {},
          "execution_count": 75
        }
      ]
    },
    {
      "cell_type": "code",
      "metadata": {
        "colab": {
          "base_uri": "https://localhost:8080/"
        },
        "id": "2L1jPLcYKdpz",
        "outputId": "2763822d-baf9-48bb-c74e-049ab4b71d1e"
      },
      "source": [
        "X_test[['Age','Annual_Premium','Vintage']] = scaler2.transform(X_test[['Age','Annual_Premium','Vintage']])"
      ],
      "execution_count": 76,
      "outputs": [
        {
          "output_type": "stream",
          "name": "stderr",
          "text": [
            "/usr/local/lib/python3.7/dist-packages/ipykernel_launcher.py:1: SettingWithCopyWarning: \n",
            "A value is trying to be set on a copy of a slice from a DataFrame.\n",
            "Try using .loc[row_indexer,col_indexer] = value instead\n",
            "\n",
            "See the caveats in the documentation: https://pandas.pydata.org/pandas-docs/stable/user_guide/indexing.html#returning-a-view-versus-a-copy\n",
            "  \"\"\"Entry point for launching an IPython kernel.\n",
            "/usr/local/lib/python3.7/dist-packages/pandas/core/indexing.py:1734: SettingWithCopyWarning: \n",
            "A value is trying to be set on a copy of a slice from a DataFrame.\n",
            "Try using .loc[row_indexer,col_indexer] = value instead\n",
            "\n",
            "See the caveats in the documentation: https://pandas.pydata.org/pandas-docs/stable/user_guide/indexing.html#returning-a-view-versus-a-copy\n",
            "  isetter(loc, value[:, i].tolist())\n"
          ]
        }
      ]
    },
    {
      "cell_type": "code",
      "metadata": {
        "colab": {
          "base_uri": "https://localhost:8080/",
          "height": 417
        },
        "id": "zYiqyXG1K5jR",
        "outputId": "54d7dc6b-09b3-4abf-e62c-901f3d4958ca"
      },
      "source": [
        "X_test"
      ],
      "execution_count": 77,
      "outputs": [
        {
          "output_type": "execute_result",
          "data": {
            "text/html": [
              "<div>\n",
              "<style scoped>\n",
              "    .dataframe tbody tr th:only-of-type {\n",
              "        vertical-align: middle;\n",
              "    }\n",
              "\n",
              "    .dataframe tbody tr th {\n",
              "        vertical-align: top;\n",
              "    }\n",
              "\n",
              "    .dataframe thead th {\n",
              "        text-align: right;\n",
              "    }\n",
              "</style>\n",
              "<table border=\"1\" class=\"dataframe\">\n",
              "  <thead>\n",
              "    <tr style=\"text-align: right;\">\n",
              "      <th></th>\n",
              "      <th>Gender</th>\n",
              "      <th>Age</th>\n",
              "      <th>Driving_License</th>\n",
              "      <th>Region_Code</th>\n",
              "      <th>Previously_Insured</th>\n",
              "      <th>Vehicle_Damage</th>\n",
              "      <th>Annual_Premium</th>\n",
              "      <th>Policy_Sales_Channel</th>\n",
              "      <th>Vintage</th>\n",
              "      <th>&gt; 2 Years</th>\n",
              "      <th>1-2 Year</th>\n",
              "      <th>&lt; 1 Year</th>\n",
              "    </tr>\n",
              "  </thead>\n",
              "  <tbody>\n",
              "    <tr>\n",
              "      <th>56814</th>\n",
              "      <td>1</td>\n",
              "      <td>0.065871</td>\n",
              "      <td>1</td>\n",
              "      <td>0.072634</td>\n",
              "      <td>0</td>\n",
              "      <td>1</td>\n",
              "      <td>0.506159</td>\n",
              "      <td>0.028254</td>\n",
              "      <td>0.968883</td>\n",
              "      <td>0</td>\n",
              "      <td>0</td>\n",
              "      <td>1</td>\n",
              "    </tr>\n",
              "    <tr>\n",
              "      <th>168832</th>\n",
              "      <td>1</td>\n",
              "      <td>0.512770</td>\n",
              "      <td>1</td>\n",
              "      <td>0.131711</td>\n",
              "      <td>1</td>\n",
              "      <td>0</td>\n",
              "      <td>0.519211</td>\n",
              "      <td>0.199483</td>\n",
              "      <td>0.932848</td>\n",
              "      <td>0</td>\n",
              "      <td>1</td>\n",
              "      <td>0</td>\n",
              "    </tr>\n",
              "    <tr>\n",
              "      <th>4864</th>\n",
              "      <td>1</td>\n",
              "      <td>0.461553</td>\n",
              "      <td>1</td>\n",
              "      <td>0.187724</td>\n",
              "      <td>0</td>\n",
              "      <td>1</td>\n",
              "      <td>0.524278</td>\n",
              "      <td>0.106888</td>\n",
              "      <td>0.455452</td>\n",
              "      <td>0</td>\n",
              "      <td>1</td>\n",
              "      <td>0</td>\n",
              "    </tr>\n",
              "    <tr>\n",
              "      <th>255045</th>\n",
              "      <td>1</td>\n",
              "      <td>0.686460</td>\n",
              "      <td>1</td>\n",
              "      <td>0.079795</td>\n",
              "      <td>0</td>\n",
              "      <td>0</td>\n",
              "      <td>0.479169</td>\n",
              "      <td>0.199483</td>\n",
              "      <td>0.697570</td>\n",
              "      <td>0</td>\n",
              "      <td>1</td>\n",
              "      <td>0</td>\n",
              "    </tr>\n",
              "    <tr>\n",
              "      <th>159217</th>\n",
              "      <td>1</td>\n",
              "      <td>0.855870</td>\n",
              "      <td>1</td>\n",
              "      <td>0.187724</td>\n",
              "      <td>1</td>\n",
              "      <td>0</td>\n",
              "      <td>0.550678</td>\n",
              "      <td>0.174984</td>\n",
              "      <td>0.904303</td>\n",
              "      <td>0</td>\n",
              "      <td>1</td>\n",
              "      <td>0</td>\n",
              "    </tr>\n",
              "    <tr>\n",
              "      <th>...</th>\n",
              "      <td>...</td>\n",
              "      <td>...</td>\n",
              "      <td>...</td>\n",
              "      <td>...</td>\n",
              "      <td>...</td>\n",
              "      <td>...</td>\n",
              "      <td>...</td>\n",
              "      <td>...</td>\n",
              "      <td>...</td>\n",
              "      <td>...</td>\n",
              "      <td>...</td>\n",
              "      <td>...</td>\n",
              "    </tr>\n",
              "    <tr>\n",
              "      <th>358703</th>\n",
              "      <td>0</td>\n",
              "      <td>0.544922</td>\n",
              "      <td>1</td>\n",
              "      <td>0.187724</td>\n",
              "      <td>0</td>\n",
              "      <td>0</td>\n",
              "      <td>0.488317</td>\n",
              "      <td>0.174984</td>\n",
              "      <td>0.998025</td>\n",
              "      <td>0</td>\n",
              "      <td>1</td>\n",
              "      <td>0</td>\n",
              "    </tr>\n",
              "    <tr>\n",
              "      <th>190421</th>\n",
              "      <td>1</td>\n",
              "      <td>0.747661</td>\n",
              "      <td>1</td>\n",
              "      <td>0.187724</td>\n",
              "      <td>0</td>\n",
              "      <td>1</td>\n",
              "      <td>0.559908</td>\n",
              "      <td>0.146325</td>\n",
              "      <td>0.977508</td>\n",
              "      <td>1</td>\n",
              "      <td>0</td>\n",
              "      <td>0</td>\n",
              "    </tr>\n",
              "    <tr>\n",
              "      <th>182771</th>\n",
              "      <td>0</td>\n",
              "      <td>0.865814</td>\n",
              "      <td>1</td>\n",
              "      <td>0.187724</td>\n",
              "      <td>0</td>\n",
              "      <td>1</td>\n",
              "      <td>0.000000</td>\n",
              "      <td>0.218226</td>\n",
              "      <td>0.798943</td>\n",
              "      <td>1</td>\n",
              "      <td>0</td>\n",
              "      <td>0</td>\n",
              "    </tr>\n",
              "    <tr>\n",
              "      <th>47733</th>\n",
              "      <td>1</td>\n",
              "      <td>0.759277</td>\n",
              "      <td>1</td>\n",
              "      <td>0.192142</td>\n",
              "      <td>0</td>\n",
              "      <td>1</td>\n",
              "      <td>0.000000</td>\n",
              "      <td>0.190246</td>\n",
              "      <td>0.927860</td>\n",
              "      <td>0</td>\n",
              "      <td>1</td>\n",
              "      <td>0</td>\n",
              "    </tr>\n",
              "    <tr>\n",
              "      <th>75153</th>\n",
              "      <td>1</td>\n",
              "      <td>0.207409</td>\n",
              "      <td>1</td>\n",
              "      <td>0.125659</td>\n",
              "      <td>1</td>\n",
              "      <td>0</td>\n",
              "      <td>0.000000</td>\n",
              "      <td>0.028254</td>\n",
              "      <td>0.619253</td>\n",
              "      <td>0</td>\n",
              "      <td>0</td>\n",
              "      <td>1</td>\n",
              "    </tr>\n",
              "  </tbody>\n",
              "</table>\n",
              "<p>76222 rows × 12 columns</p>\n",
              "</div>"
            ],
            "text/plain": [
              "        Gender       Age  Driving_License  ...  > 2 Years  1-2 Year  < 1 Year\n",
              "56814        1  0.065871                1  ...          0         0         1\n",
              "168832       1  0.512770                1  ...          0         1         0\n",
              "4864         1  0.461553                1  ...          0         1         0\n",
              "255045       1  0.686460                1  ...          0         1         0\n",
              "159217       1  0.855870                1  ...          0         1         0\n",
              "...        ...       ...              ...  ...        ...       ...       ...\n",
              "358703       0  0.544922                1  ...          0         1         0\n",
              "190421       1  0.747661                1  ...          1         0         0\n",
              "182771       0  0.865814                1  ...          1         0         0\n",
              "47733        1  0.759277                1  ...          0         1         0\n",
              "75153        1  0.207409                1  ...          0         0         1\n",
              "\n",
              "[76222 rows x 12 columns]"
            ]
          },
          "metadata": {},
          "execution_count": 77
        }
      ]
    },
    {
      "cell_type": "code",
      "metadata": {
        "colab": {
          "base_uri": "https://localhost:8080/"
        },
        "id": "2jw3rKMbLLiu",
        "outputId": "e23637d2-8978-41de-f297-997d37678d2a"
      },
      "source": [
        "from sklearn.linear_model import LogisticRegression\n",
        "clf = LogisticRegression(fit_intercept=True, max_iter=10000)\n",
        "clf.fit(X_smote, y_smote)\n",
        "\n",
        "train_class_preds = clf.predict(X_smote)\n",
        "test_class_preds = clf.predict(X_test.values)\n",
        "\n",
        "from sklearn.metrics import accuracy_score, confusion_matrix\n",
        "train_accuracy = accuracy_score(train_class_preds,y_smote)\n",
        "test_accuracy = accuracy_score(test_class_preds,y_test.values)\n",
        "\n",
        "print(\"The accuracy on train data is \", train_accuracy)\n",
        "print(\"The accuracy on test data is \", test_accuracy)\n",
        "\n",
        "print(metrics.classification_report(y_test.values,test_class_preds))"
      ],
      "execution_count": 78,
      "outputs": [
        {
          "output_type": "stream",
          "name": "stdout",
          "text": [
            "The accuracy on train data is  0.7925190799732263\n",
            "The accuracy on test data is  0.6927396289785102\n",
            "              precision    recall  f1-score   support\n",
            "\n",
            "           0       0.98      0.66      0.79     66972\n",
            "           1       0.27      0.92      0.42      9250\n",
            "\n",
            "    accuracy                           0.69     76222\n",
            "   macro avg       0.63      0.79      0.61     76222\n",
            "weighted avg       0.90      0.69      0.75     76222\n",
            "\n"
          ]
        }
      ]
    },
    {
      "cell_type": "code",
      "metadata": {
        "colab": {
          "base_uri": "https://localhost:8080/"
        },
        "id": "gL-R6q33PM4j",
        "outputId": "2c2b946d-1ae9-471b-f1ce-d21e1d624972"
      },
      "source": [
        "# Test set\n",
        "from sklearn.metrics import roc_auc_score\n",
        "roc_auc_score(y_test.values,test_class_preds)"
      ],
      "execution_count": 79,
      "outputs": [
        {
          "output_type": "execute_result",
          "data": {
            "text/plain": [
              "0.7889051527786521"
            ]
          },
          "metadata": {},
          "execution_count": 79
        }
      ]
    },
    {
      "cell_type": "code",
      "metadata": {
        "colab": {
          "base_uri": "https://localhost:8080/"
        },
        "id": "qk0fKvKZTR-9",
        "outputId": "33cb4580-2157-4f97-cf44-983ace4c27b2"
      },
      "source": [
        "# Train set\n",
        "from sklearn.metrics import roc_auc_score\n",
        "roc_auc_score(y_smote,train_class_preds)"
      ],
      "execution_count": 80,
      "outputs": [
        {
          "output_type": "execute_result",
          "data": {
            "text/plain": [
              "0.7925190799732265"
            ]
          },
          "metadata": {},
          "execution_count": 80
        }
      ]
    },
    {
      "cell_type": "code",
      "metadata": {
        "colab": {
          "base_uri": "https://localhost:8080/"
        },
        "id": "BkVMexTdTmmE",
        "outputId": "7689178f-cf3c-49b0-a184-7cab332a0313"
      },
      "source": [
        "# RANDOM FOREST\n",
        "from sklearn.ensemble import RandomForestClassifier\n",
        "from sklearn.model_selection import GridSearchCV\n",
        "\n",
        "classifier = RandomForestClassifier() \n",
        "grid_values = {'n_estimators':[100, 110,  120], 'max_depth':[5, 6, 7]}\n",
        "classifier = GridSearchCV(classifier, param_grid = grid_values, scoring = 'roc_auc', cv=5)\n",
        "\n",
        "# Fit the object to train dataset\n",
        "classifier.fit(X_smote, y_smote)"
      ],
      "execution_count": 81,
      "outputs": [
        {
          "output_type": "execute_result",
          "data": {
            "text/plain": [
              "GridSearchCV(cv=5, error_score=nan,\n",
              "             estimator=RandomForestClassifier(bootstrap=True, ccp_alpha=0.0,\n",
              "                                              class_weight=None,\n",
              "                                              criterion='gini', max_depth=None,\n",
              "                                              max_features='auto',\n",
              "                                              max_leaf_nodes=None,\n",
              "                                              max_samples=None,\n",
              "                                              min_impurity_decrease=0.0,\n",
              "                                              min_impurity_split=None,\n",
              "                                              min_samples_leaf=1,\n",
              "                                              min_samples_split=2,\n",
              "                                              min_weight_fraction_leaf=0.0,\n",
              "                                              n_estimators=100, n_jobs=None,\n",
              "                                              oob_score=False,\n",
              "                                              random_state=None, verbose=0,\n",
              "                                              warm_start=False),\n",
              "             iid='deprecated', n_jobs=None,\n",
              "             param_grid={'max_depth': [5, 6, 7],\n",
              "                         'n_estimators': [100, 110, 120]},\n",
              "             pre_dispatch='2*n_jobs', refit=True, return_train_score=False,\n",
              "             scoring='roc_auc', verbose=0)"
            ]
          },
          "metadata": {},
          "execution_count": 81
        }
      ]
    },
    {
      "cell_type": "code",
      "metadata": {
        "id": "ksvBUWENY6DM"
      },
      "source": [
        "train_preds =  classifier.predict(X_smote)\n",
        "test_preds  = classifier.predict(X_test.values)"
      ],
      "execution_count": 82,
      "outputs": []
    },
    {
      "cell_type": "code",
      "metadata": {
        "colab": {
          "base_uri": "https://localhost:8080/"
        },
        "id": "W_flLkSMdy9E",
        "outputId": "4cd51675-5f86-4953-9e51-66b11d1b5294"
      },
      "source": [
        "# Calculate roc_auc score on train set\n",
        "roc_auc_score(y_smote,train_preds)"
      ],
      "execution_count": 83,
      "outputs": [
        {
          "output_type": "execute_result",
          "data": {
            "text/plain": [
              "0.810667957984796"
            ]
          },
          "metadata": {},
          "execution_count": 83
        }
      ]
    },
    {
      "cell_type": "code",
      "metadata": {
        "colab": {
          "base_uri": "https://localhost:8080/"
        },
        "id": "wF_mk8gGeBcI",
        "outputId": "5bce256c-0ea0-472d-a883-a525c879b545"
      },
      "source": [
        "# Calculate roc_auc score on test set\n",
        "roc_auc_score(y_test.values,test_preds)"
      ],
      "execution_count": 84,
      "outputs": [
        {
          "output_type": "execute_result",
          "data": {
            "text/plain": [
              "0.7937162557648133"
            ]
          },
          "metadata": {},
          "execution_count": 84
        }
      ]
    },
    {
      "cell_type": "code",
      "metadata": {
        "colab": {
          "base_uri": "https://localhost:8080/"
        },
        "id": "VK67wCHXf1kr",
        "outputId": "0b8fb132-598d-47bd-9aa0-4476cd772ca0"
      },
      "source": [
        "print(metrics.classification_report(y_test.values,test_preds))"
      ],
      "execution_count": 87,
      "outputs": [
        {
          "output_type": "stream",
          "name": "stdout",
          "text": [
            "              precision    recall  f1-score   support\n",
            "\n",
            "           0       0.98      0.66      0.79     66972\n",
            "           1       0.27      0.93      0.42      9250\n",
            "\n",
            "    accuracy                           0.69     76222\n",
            "   macro avg       0.63      0.79      0.61     76222\n",
            "weighted avg       0.90      0.69      0.75     76222\n",
            "\n"
          ]
        }
      ]
    },
    {
      "cell_type": "code",
      "metadata": {
        "id": "SCqEClC3iLLx"
      },
      "source": [
        "X_smote_df = pd.DataFrame(X_smote, columns=features2)"
      ],
      "execution_count": 90,
      "outputs": []
    },
    {
      "cell_type": "code",
      "metadata": {
        "colab": {
          "base_uri": "https://localhost:8080/",
          "height": 417
        },
        "id": "rgSili2Zj4tw",
        "outputId": "3f98c953-e972-409b-b18d-16b7ee807711"
      },
      "source": [
        "X_smote_df"
      ],
      "execution_count": 91,
      "outputs": [
        {
          "output_type": "execute_result",
          "data": {
            "text/html": [
              "<div>\n",
              "<style scoped>\n",
              "    .dataframe tbody tr th:only-of-type {\n",
              "        vertical-align: middle;\n",
              "    }\n",
              "\n",
              "    .dataframe tbody tr th {\n",
              "        vertical-align: top;\n",
              "    }\n",
              "\n",
              "    .dataframe thead th {\n",
              "        text-align: right;\n",
              "    }\n",
              "</style>\n",
              "<table border=\"1\" class=\"dataframe\">\n",
              "  <thead>\n",
              "    <tr style=\"text-align: right;\">\n",
              "      <th></th>\n",
              "      <th>Gender</th>\n",
              "      <th>Age</th>\n",
              "      <th>Driving_License</th>\n",
              "      <th>Region_Code</th>\n",
              "      <th>Previously_Insured</th>\n",
              "      <th>Vehicle_Damage</th>\n",
              "      <th>Annual_Premium</th>\n",
              "      <th>Policy_Sales_Channel</th>\n",
              "      <th>Vintage</th>\n",
              "      <th>&gt; 2 Years</th>\n",
              "      <th>1-2 Year</th>\n",
              "      <th>&lt; 1 Year</th>\n",
              "    </tr>\n",
              "  </thead>\n",
              "  <tbody>\n",
              "    <tr>\n",
              "      <th>0</th>\n",
              "      <td>1.0</td>\n",
              "      <td>0.660377</td>\n",
              "      <td>1.0</td>\n",
              "      <td>0.040000</td>\n",
              "      <td>1.0</td>\n",
              "      <td>0.0</td>\n",
              "      <td>0.514469</td>\n",
              "      <td>0.199483</td>\n",
              "      <td>0.830340</td>\n",
              "      <td>0.0</td>\n",
              "      <td>1.0</td>\n",
              "      <td>0.0</td>\n",
              "    </tr>\n",
              "    <tr>\n",
              "      <th>1</th>\n",
              "      <td>1.0</td>\n",
              "      <td>0.302888</td>\n",
              "      <td>1.0</td>\n",
              "      <td>0.079150</td>\n",
              "      <td>0.0</td>\n",
              "      <td>1.0</td>\n",
              "      <td>0.482469</td>\n",
              "      <td>0.028254</td>\n",
              "      <td>0.972147</td>\n",
              "      <td>0.0</td>\n",
              "      <td>0.0</td>\n",
              "      <td>1.0</td>\n",
              "    </tr>\n",
              "    <tr>\n",
              "      <th>2</th>\n",
              "      <td>0.0</td>\n",
              "      <td>0.096593</td>\n",
              "      <td>1.0</td>\n",
              "      <td>0.040000</td>\n",
              "      <td>1.0</td>\n",
              "      <td>0.0</td>\n",
              "      <td>0.507433</td>\n",
              "      <td>0.028254</td>\n",
              "      <td>0.830340</td>\n",
              "      <td>0.0</td>\n",
              "      <td>0.0</td>\n",
              "      <td>1.0</td>\n",
              "    </tr>\n",
              "    <tr>\n",
              "      <th>3</th>\n",
              "      <td>1.0</td>\n",
              "      <td>0.646956</td>\n",
              "      <td>1.0</td>\n",
              "      <td>0.187724</td>\n",
              "      <td>0.0</td>\n",
              "      <td>1.0</td>\n",
              "      <td>0.504804</td>\n",
              "      <td>0.190246</td>\n",
              "      <td>0.501713</td>\n",
              "      <td>0.0</td>\n",
              "      <td>1.0</td>\n",
              "      <td>0.0</td>\n",
              "    </tr>\n",
              "    <tr>\n",
              "      <th>4</th>\n",
              "      <td>0.0</td>\n",
              "      <td>0.126007</td>\n",
              "      <td>1.0</td>\n",
              "      <td>0.059212</td>\n",
              "      <td>1.0</td>\n",
              "      <td>0.0</td>\n",
              "      <td>0.465519</td>\n",
              "      <td>0.028254</td>\n",
              "      <td>0.796987</td>\n",
              "      <td>0.0</td>\n",
              "      <td>0.0</td>\n",
              "      <td>1.0</td>\n",
              "    </tr>\n",
              "    <tr>\n",
              "      <th>...</th>\n",
              "      <td>...</td>\n",
              "      <td>...</td>\n",
              "      <td>...</td>\n",
              "      <td>...</td>\n",
              "      <td>...</td>\n",
              "      <td>...</td>\n",
              "      <td>...</td>\n",
              "      <td>...</td>\n",
              "      <td>...</td>\n",
              "      <td>...</td>\n",
              "      <td>...</td>\n",
              "      <td>...</td>\n",
              "    </tr>\n",
              "    <tr>\n",
              "      <th>534849</th>\n",
              "      <td>1.0</td>\n",
              "      <td>0.619308</td>\n",
              "      <td>1.0</td>\n",
              "      <td>0.096761</td>\n",
              "      <td>0.0</td>\n",
              "      <td>1.0</td>\n",
              "      <td>0.453632</td>\n",
              "      <td>0.308744</td>\n",
              "      <td>0.959516</td>\n",
              "      <td>0.0</td>\n",
              "      <td>1.0</td>\n",
              "      <td>0.0</td>\n",
              "    </tr>\n",
              "    <tr>\n",
              "      <th>534850</th>\n",
              "      <td>1.0</td>\n",
              "      <td>0.366730</td>\n",
              "      <td>1.0</td>\n",
              "      <td>0.073512</td>\n",
              "      <td>0.0</td>\n",
              "      <td>1.0</td>\n",
              "      <td>0.490144</td>\n",
              "      <td>0.229386</td>\n",
              "      <td>0.852791</td>\n",
              "      <td>0.0</td>\n",
              "      <td>1.0</td>\n",
              "      <td>0.0</td>\n",
              "    </tr>\n",
              "    <tr>\n",
              "      <th>534851</th>\n",
              "      <td>0.0</td>\n",
              "      <td>0.484052</td>\n",
              "      <td>1.0</td>\n",
              "      <td>0.126357</td>\n",
              "      <td>0.0</td>\n",
              "      <td>1.0</td>\n",
              "      <td>0.409934</td>\n",
              "      <td>0.229691</td>\n",
              "      <td>0.299884</td>\n",
              "      <td>0.0</td>\n",
              "      <td>1.0</td>\n",
              "      <td>0.0</td>\n",
              "    </tr>\n",
              "    <tr>\n",
              "      <th>534852</th>\n",
              "      <td>1.0</td>\n",
              "      <td>0.444390</td>\n",
              "      <td>1.0</td>\n",
              "      <td>0.187724</td>\n",
              "      <td>0.0</td>\n",
              "      <td>1.0</td>\n",
              "      <td>0.548441</td>\n",
              "      <td>0.175655</td>\n",
              "      <td>0.767568</td>\n",
              "      <td>0.0</td>\n",
              "      <td>1.0</td>\n",
              "      <td>0.0</td>\n",
              "    </tr>\n",
              "    <tr>\n",
              "      <th>534853</th>\n",
              "      <td>0.0</td>\n",
              "      <td>0.481493</td>\n",
              "      <td>1.0</td>\n",
              "      <td>0.118314</td>\n",
              "      <td>0.0</td>\n",
              "      <td>1.0</td>\n",
              "      <td>0.527031</td>\n",
              "      <td>0.199483</td>\n",
              "      <td>0.700224</td>\n",
              "      <td>0.0</td>\n",
              "      <td>1.0</td>\n",
              "      <td>0.0</td>\n",
              "    </tr>\n",
              "  </tbody>\n",
              "</table>\n",
              "<p>534854 rows × 12 columns</p>\n",
              "</div>"
            ],
            "text/plain": [
              "        Gender       Age  Driving_License  ...  > 2 Years  1-2 Year  < 1 Year\n",
              "0          1.0  0.660377              1.0  ...        0.0       1.0       0.0\n",
              "1          1.0  0.302888              1.0  ...        0.0       0.0       1.0\n",
              "2          0.0  0.096593              1.0  ...        0.0       0.0       1.0\n",
              "3          1.0  0.646956              1.0  ...        0.0       1.0       0.0\n",
              "4          0.0  0.126007              1.0  ...        0.0       0.0       1.0\n",
              "...        ...       ...              ...  ...        ...       ...       ...\n",
              "534849     1.0  0.619308              1.0  ...        0.0       1.0       0.0\n",
              "534850     1.0  0.366730              1.0  ...        0.0       1.0       0.0\n",
              "534851     0.0  0.484052              1.0  ...        0.0       1.0       0.0\n",
              "534852     1.0  0.444390              1.0  ...        0.0       1.0       0.0\n",
              "534853     0.0  0.481493              1.0  ...        0.0       1.0       0.0\n",
              "\n",
              "[534854 rows x 12 columns]"
            ]
          },
          "metadata": {},
          "execution_count": 91
        }
      ]
    },
    {
      "cell_type": "code",
      "metadata": {
        "id": "4DEOdjMteaxv"
      },
      "source": [
        "features_spaces = X_smote_df.columns\n",
        "importances = classifier.best_estimator_.feature_importances_\n",
        "indices = np.argsort(importances)"
      ],
      "execution_count": 93,
      "outputs": []
    },
    {
      "cell_type": "code",
      "metadata": {
        "colab": {
          "base_uri": "https://localhost:8080/",
          "height": 295
        },
        "id": "TZxBb_LJfbJq",
        "outputId": "be5d67de-5374-4a5b-eb56-950ccabd1a6a"
      },
      "source": [
        "plt.title('Feature Importance')\n",
        "plt.barh(range(len(indices)), importances[indices], color='red', align='center')\n",
        "plt.yticks(range(len(indices)), [features_spaces[i] for i in indices])\n",
        "plt.xlabel('Relative Importance')\n",
        "\n",
        "plt.show()"
      ],
      "execution_count": 94,
      "outputs": [
        {
          "output_type": "display_data",
          "data": {
            "image/png": "[encoded data removed]",
            "text/plain": [
              "<Figure size 432x288 with 1 Axes>"
            ]
          },
          "metadata": {
            "needs_background": "light"
          }
        }
      ]
    },
    {
      "cell_type": "markdown",
      "metadata": {
        "id": "CfqykarWp-Ze"
      },
      "source": [
        "## CATBOOST ENCODER"
      ]
    },
    {
      "cell_type": "code",
      "metadata": {
        "id": "bDKpu1Efr3yA"
      },
      "source": [
        "df_copy2 = df.copy()\n",
        "df_copy2['Gender'] = np.where(df_copy2['Gender']=='Male',1,0)\n",
        "df_copy2.drop(columns = ['id'],inplace = True)\n",
        "df_copy2['> 2 Years'] = np.where(df_copy2['Vehicle_Age']=='> 2 Years',1,0)\n",
        "df_copy2['1-2 Year'] = np.where(df_copy2['Vehicle_Age']=='1-2 Year',1,0)\n",
        "df_copy2['< 1 Year'] = np.where(df_copy2['Vehicle_Age']=='< 1 Year',1,0)\n",
        "df_copy2.drop('Vehicle_Age',axis=1,inplace=True)\n",
        "df_copy2['Vehicle_Damage'] = df_copy2['Vehicle_Damage'].apply(lambda x:1 if x=='Yes' else 0)\n",
        "df_copy2['Age'] = np.log(df_copy2['Age'])\n",
        "df_copy2['Annual_Premium'] = np.log(df_copy2['Annual_Premium'])\n",
        "df_copy2['Vintage'] = np.log(df_copy2['Vintage'])\n",
        "\n",
        "X1 = df_copy2[features2]\n",
        "y1 = df_copy2['Response']\n",
        "from sklearn.model_selection import train_test_split \n",
        "X_train, X_test, y_train, y_test = train_test_split( X1,y1 , test_size = 0.2, random_state = 3)"
      ],
      "execution_count": 96,
      "outputs": []
    },
    {
      "cell_type": "code",
      "metadata": {
        "id": "ELNClLIKlz29"
      },
      "source": [
        "import category_encoders as ce\n",
        "encoder=ce.CatBoostEncoder(cols=['Region_Code','Policy_Sales_Channel'])\n",
        "encoded_values_array = encoder.fit_transform(X_train[['Region_Code','Policy_Sales_Channel']],y_train).values"
      ],
      "execution_count": 97,
      "outputs": []
    },
    {
      "cell_type": "code",
      "metadata": {
        "colab": {
          "base_uri": "https://localhost:8080/"
        },
        "id": "NujAOPyPqJJ1",
        "outputId": "ccbe61de-257c-455e-bd04-5dd493d60b55"
      },
      "source": [
        "X_train['Region_Code'] = encoded_values_array[:,0]\n",
        "X_train['Policy_Sales_Channel'] = encoded_values_array[:,1]"
      ],
      "execution_count": 98,
      "outputs": [
        {
          "output_type": "stream",
          "name": "stderr",
          "text": [
            "/usr/local/lib/python3.7/dist-packages/ipykernel_launcher.py:1: SettingWithCopyWarning: \n",
            "A value is trying to be set on a copy of a slice from a DataFrame.\n",
            "Try using .loc[row_indexer,col_indexer] = value instead\n",
            "\n",
            "See the caveats in the documentation: https://pandas.pydata.org/pandas-docs/stable/user_guide/indexing.html#returning-a-view-versus-a-copy\n",
            "  \"\"\"Entry point for launching an IPython kernel.\n",
            "/usr/local/lib/python3.7/dist-packages/ipykernel_launcher.py:2: SettingWithCopyWarning: \n",
            "A value is trying to be set on a copy of a slice from a DataFrame.\n",
            "Try using .loc[row_indexer,col_indexer] = value instead\n",
            "\n",
            "See the caveats in the documentation: https://pandas.pydata.org/pandas-docs/stable/user_guide/indexing.html#returning-a-view-versus-a-copy\n",
            "  \n"
          ]
        }
      ]
    },
    {
      "cell_type": "code",
      "metadata": {
        "colab": {
          "base_uri": "https://localhost:8080/"
        },
        "id": "q826St4aqdAe",
        "outputId": "001e03ca-b70d-41df-8a36-08b9dce932df"
      },
      "source": [
        "encoded_values_array_test = encoder.transform(X_test[['Region_Code','Policy_Sales_Channel']],y_test).values\n",
        "X_test['Region_Code'] = encoded_values_array_test[:,0]\n",
        "X_test['Policy_Sales_Channel'] = encoded_values_array_test[:,1]"
      ],
      "execution_count": 99,
      "outputs": [
        {
          "output_type": "stream",
          "name": "stderr",
          "text": [
            "/usr/local/lib/python3.7/dist-packages/ipykernel_launcher.py:2: SettingWithCopyWarning: \n",
            "A value is trying to be set on a copy of a slice from a DataFrame.\n",
            "Try using .loc[row_indexer,col_indexer] = value instead\n",
            "\n",
            "See the caveats in the documentation: https://pandas.pydata.org/pandas-docs/stable/user_guide/indexing.html#returning-a-view-versus-a-copy\n",
            "  \n",
            "/usr/local/lib/python3.7/dist-packages/ipykernel_launcher.py:3: SettingWithCopyWarning: \n",
            "A value is trying to be set on a copy of a slice from a DataFrame.\n",
            "Try using .loc[row_indexer,col_indexer] = value instead\n",
            "\n",
            "See the caveats in the documentation: https://pandas.pydata.org/pandas-docs/stable/user_guide/indexing.html#returning-a-view-versus-a-copy\n",
            "  This is separate from the ipykernel package so we can avoid doing imports until\n"
          ]
        }
      ]
    },
    {
      "cell_type": "code",
      "metadata": {
        "colab": {
          "base_uri": "https://localhost:8080/"
        },
        "id": "PFrrhHepqhRX",
        "outputId": "3ea442e8-ec52-4640-81ab-c56ca90c5bd6"
      },
      "source": [
        "from imblearn.over_sampling import SMOTE\n",
        "\n",
        "smote = SMOTE(random_state=8)\n",
        "\n",
        "X_smote, y_smote = smote.fit_resample(X_train.values, y_train.values)\n",
        "\n",
        "print('Original dataset shape', len(y_train))\n",
        "print('Resampled dataset shape', len(y_smote))"
      ],
      "execution_count": 100,
      "outputs": [
        {
          "output_type": "stream",
          "name": "stderr",
          "text": [
            "/usr/local/lib/python3.7/dist-packages/sklearn/utils/deprecation.py:87: FutureWarning: Function safe_indexing is deprecated; safe_indexing is deprecated in version 0.22 and will be removed in version 0.24.\n",
            "  warnings.warn(msg, category=FutureWarning)\n"
          ]
        },
        {
          "output_type": "stream",
          "name": "stdout",
          "text": [
            "Original dataset shape 304887\n",
            "Resampled dataset shape 534966\n"
          ]
        }
      ]
    },
    {
      "cell_type": "code",
      "metadata": {
        "id": "bvBcGAr_q3J_"
      },
      "source": [
        "from sklearn.preprocessing import MinMaxScaler\n",
        "scaler2 = MinMaxScaler()\n",
        "X_smote[:,[1,6,8]] = scaler2.fit_transform(X_smote[:,[1,6,8]])"
      ],
      "execution_count": 101,
      "outputs": []
    },
    {
      "cell_type": "code",
      "metadata": {
        "colab": {
          "base_uri": "https://localhost:8080/"
        },
        "id": "6kuV6F4hrG61",
        "outputId": "6fa44649-03bc-4f29-b619-0786ae117a81"
      },
      "source": [
        "X_test[['Age','Annual_Premium','Vintage']] = scaler2.transform(X_test[['Age','Annual_Premium','Vintage']])"
      ],
      "execution_count": 102,
      "outputs": [
        {
          "output_type": "stream",
          "name": "stderr",
          "text": [
            "/usr/local/lib/python3.7/dist-packages/ipykernel_launcher.py:1: SettingWithCopyWarning: \n",
            "A value is trying to be set on a copy of a slice from a DataFrame.\n",
            "Try using .loc[row_indexer,col_indexer] = value instead\n",
            "\n",
            "See the caveats in the documentation: https://pandas.pydata.org/pandas-docs/stable/user_guide/indexing.html#returning-a-view-versus-a-copy\n",
            "  \"\"\"Entry point for launching an IPython kernel.\n",
            "/usr/local/lib/python3.7/dist-packages/pandas/core/indexing.py:1734: SettingWithCopyWarning: \n",
            "A value is trying to be set on a copy of a slice from a DataFrame.\n",
            "Try using .loc[row_indexer,col_indexer] = value instead\n",
            "\n",
            "See the caveats in the documentation: https://pandas.pydata.org/pandas-docs/stable/user_guide/indexing.html#returning-a-view-versus-a-copy\n",
            "  isetter(loc, value[:, i].tolist())\n"
          ]
        }
      ]
    },
    {
      "cell_type": "code",
      "metadata": {
        "colab": {
          "base_uri": "https://localhost:8080/"
        },
        "id": "z97BQnp2rWal",
        "outputId": "8d13c4a7-edcf-4119-f599-e0fea0899567"
      },
      "source": [
        "from sklearn.linear_model import LogisticRegression\n",
        "clf = LogisticRegression(fit_intercept=True, max_iter=10000)\n",
        "clf.fit(X_smote, y_smote)\n",
        "\n",
        "train_class_preds = clf.predict(X_smote)\n",
        "test_class_preds = clf.predict(X_test.values)\n",
        "\n",
        "from sklearn.metrics import accuracy_score, confusion_matrix\n",
        "train_accuracy = accuracy_score(train_class_preds,y_smote)\n",
        "test_accuracy = accuracy_score(test_class_preds,y_test.values)\n",
        "\n",
        "print(\"The accuracy on train data is \", train_accuracy)\n",
        "print(\"The accuracy on test data is \", test_accuracy)\n",
        "\n",
        "print(metrics.classification_report(y_test.values,test_class_preds))"
      ],
      "execution_count": 103,
      "outputs": [
        {
          "output_type": "stream",
          "name": "stdout",
          "text": [
            "The accuracy on train data is  0.7894557784980728\n",
            "The accuracy on test data is  0.6850777990606387\n",
            "              precision    recall  f1-score   support\n",
            "\n",
            "           0       0.98      0.65      0.78     66916\n",
            "           1       0.27      0.92      0.42      9306\n",
            "\n",
            "    accuracy                           0.69     76222\n",
            "   macro avg       0.63      0.79      0.60     76222\n",
            "weighted avg       0.90      0.69      0.74     76222\n",
            "\n"
          ]
        }
      ]
    },
    {
      "cell_type": "code",
      "metadata": {
        "colab": {
          "base_uri": "https://localhost:8080/"
        },
        "id": "0S4xcyVXrbWW",
        "outputId": "05047392-2f8c-4256-a409-47082805d5df"
      },
      "source": [
        "# Test set\n",
        "from sklearn.metrics import roc_auc_score\n",
        "roc_auc_score(y_test.values,test_class_preds)"
      ],
      "execution_count": 104,
      "outputs": [
        {
          "output_type": "execute_result",
          "data": {
            "text/plain": [
              "0.7877522736146696"
            ]
          },
          "metadata": {},
          "execution_count": 104
        }
      ]
    },
    {
      "cell_type": "code",
      "metadata": {
        "colab": {
          "base_uri": "https://localhost:8080/"
        },
        "id": "rFIWcWlMrgE1",
        "outputId": "34c28413-fbfb-4869-b63e-85a4848e9b0c"
      },
      "source": [
        "# Train set\n",
        "from sklearn.metrics import roc_auc_score\n",
        "roc_auc_score(y_smote,train_class_preds)"
      ],
      "execution_count": 105,
      "outputs": [
        {
          "output_type": "execute_result",
          "data": {
            "text/plain": [
              "0.7894557784980728"
            ]
          },
          "metadata": {},
          "execution_count": 105
        }
      ]
    },
    {
      "cell_type": "code",
      "metadata": {
        "id": "xt0H10wDxC6k"
      },
      "source": [
        ""
      ],
      "execution_count": null,
      "outputs": []
    }
  ]
}
{
  "nbformat": 4,
  "nbformat_minor": 0,
  "metadata": {
    "colab": {
      "name": "HEALTH INSURANCE CROSS SELL PREDICTION_Modelling.ipynb",
      "provenance": [],
      "collapsed_sections": [],
      "include_colab_link": true
    },
    "kernelspec": {
      "name": "python3",
      "display_name": "Python 3"
    },
    "language_info": {
      "name": "python"
    }
  },
  "cells": [
    {
      "cell_type": "markdown",
      "metadata": {
        "id": "view-in-github",
        "colab_type": "text"
      },
      "source": [
        "<a href=\"https://colab.research.google.com/github/sanjogmish/Health-Insurance-Cross-Sell-Prediction/blob/main/HEALTH_INSURANCE_CROSS_SELL_PREDICTION_Modelling.ipynb\" target=\"_parent\"><img src=\"https://colab.research.google.com/assets/colab-badge.svg\" alt=\"Open In Colab\"/></a>"
      ]
    },
    {
      "cell_type": "markdown",
      "metadata": {
        "id": "LGcl5Bv9ed6u"
      },
      "source": [
        "# **Problem Statement**"
      ]
    },
    {
      "cell_type": "markdown",
      "metadata": {
        "id": "jJAmGx75jJk1"
      },
      "source": [
        "Our client is an Insurance company that has provided Health Insurance to its customers now they need your help in building a model to predict whether the policyholders (customers) from past year will also be interested in Vehicle Insurance provided by the company.\n",
        "\n",
        "An insurance policy is an arrangement by which a company undertakes to provide a guarantee of compensation for specified loss, damage, illness, or death in return for the payment of a specified premium. A premium is a sum of money that the customer needs to pay regularly to an insurance company for this guarantee.\n",
        "\n",
        "For example, you may pay a premium of Rs. 5000 each year for a health insurance cover of Rs. 200,000/- so that if, God forbid, you fall ill and need to be hospitalised in that year, the insurance provider company will bear the cost of hospitalisation etc. for upto Rs. 200,000. Now if you are wondering how can company bear such high hospitalisation cost when it charges a premium of only Rs. 5000/-, that is where the concept of probabilities comes in picture. For example, like you, there may be 100 customers who would be paying a premium of Rs. 5000 every year, but only a few of them (say 2-3) would get hospitalised that year and not everyone. This way everyone shares the risk of everyone else.\n",
        "\n",
        "Just like medical insurance, there is vehicle insurance where every year customer needs to pay a premium of certain amount to insurance provider company so that in case of unfortunate accident by the vehicle, the insurance provider company will provide a compensation (called ‘sum assured’) to the customer.\n",
        "\n",
        "Building a model to predict whether a customer would be interested in Vehicle Insurance is extremely helpful for the company because it can then accordingly plan its communication strategy to reach out to those customers and optimise its business model and revenue.\n",
        "\n",
        "Now, in order to predict, whether the customer would be interested in Vehicle insurance, you have information about demographics (gender, age, region code type), Vehicles (Vehicle Age, Damage), Policy (Premium, sourcing channel) etc."
      ]
    },
    {
      "cell_type": "markdown",
      "metadata": {
        "id": "AzGDqdC4fZ-b"
      },
      "source": [
        "# **Attribute Information**"
      ]
    },
    {
      "cell_type": "markdown",
      "metadata": {
        "id": "oEJxl68MjYbs"
      },
      "source": [
        "1. id :\tUnique ID for the customer\n",
        "\n",
        "2. Gender\t: Gender of the customer\n",
        "\n",
        "3. Age :\tAge of the customer\n",
        "\n",
        "4. Driving_License\t0 : Customer does not have DL, 1 : Customer already has DL\n",
        "\n",
        "5. Region_Code :\tUnique code for the region of the customer\n",
        "\n",
        "6. Previously_Insured\t: 1 : Customer already has Vehicle Insurance, 0 : Customer doesn't have Vehicle Insurance\n",
        "\n",
        "7. Vehicle_Age :\tAge of the Vehicle\n",
        "\n",
        "8. Vehicle_Damage\t :1 : Customer got his/her vehicle damaged in the past. 0 : Customer didn't get his/her vehicle damaged in the past.\n",
        "\n",
        "9. Annual_Premium\t: The amount customer needs to pay as premium in the year\n",
        "\n",
        "10. PolicySalesChannel :\tAnonymized Code for the channel of outreaching to the customer ie. Different Agents, Over Mail, Over Phone, In Person, etc.\n",
        "\n",
        "11. Vintage :\tNumber of Days, Customer has been associated with the company\n",
        "\n",
        "12. Response :\t1 : Customer is interested, 0 : Customer is not interested"
      ]
    },
    {
      "cell_type": "markdown",
      "metadata": {
        "id": "-Q6v03_ZvQHp"
      },
      "source": [
        "# NAIVE BAYES CLASSIFIER"
      ]
    },
    {
      "cell_type": "code",
      "metadata": {
        "colab": {
          "base_uri": "https://localhost:8080/"
        },
        "id": "4qJAklyKMlfW",
        "outputId": "9a7eb5f4-63aa-4199-a3db-7ff3fd421847"
      },
      "source": [
        "from google.colab import drive\n",
        "drive.mount('/content/drive')"
      ],
      "execution_count": 1,
      "outputs": [
        {
          "output_type": "stream",
          "name": "stdout",
          "text": [
            "Mounted at /content/drive\n"
          ]
        }
      ]
    },
    {
      "cell_type": "code",
      "metadata": {
        "id": "gwyxyU0INNP0"
      },
      "source": [
        "import pandas as pd\n",
        "import numpy as np"
      ],
      "execution_count": 3,
      "outputs": []
    },
    {
      "cell_type": "code",
      "metadata": {
        "id": "BxUdfXnEMmEq"
      },
      "source": [
        "X_train = pd.read_csv('/content/drive/MyDrive/Almabetter/Modules/files/X_train.csv')\n",
        "X_test = pd.read_csv('/content/drive/MyDrive/Almabetter/Modules/files/X_test.csv')\n",
        "y_train = pd.read_csv('/content/drive/MyDrive/Almabetter/Modules/files/y_train.csv')\n",
        "y_test = pd.read_csv('/content/drive/MyDrive/Almabetter/Modules/files/y_test.csv')"
      ],
      "execution_count": 15,
      "outputs": []
    },
    {
      "cell_type": "code",
      "metadata": {
        "colab": {
          "base_uri": "https://localhost:8080/",
          "height": 417
        },
        "id": "LWtrb_iWQdFM",
        "outputId": "48695028-8b68-4982-9405-655d77454d08"
      },
      "source": [
        "X_train"
      ],
      "execution_count": 16,
      "outputs": [
        {
          "output_type": "execute_result",
          "data": {
            "text/html": [
              "<div>\n",
              "<style scoped>\n",
              "    .dataframe tbody tr th:only-of-type {\n",
              "        vertical-align: middle;\n",
              "    }\n",
              "\n",
              "    .dataframe tbody tr th {\n",
              "        vertical-align: top;\n",
              "    }\n",
              "\n",
              "    .dataframe thead th {\n",
              "        text-align: right;\n",
              "    }\n",
              "</style>\n",
              "<table border=\"1\" class=\"dataframe\">\n",
              "  <thead>\n",
              "    <tr style=\"text-align: right;\">\n",
              "      <th></th>\n",
              "      <th>Unnamed: 0</th>\n",
              "      <th>0</th>\n",
              "      <th>1</th>\n",
              "      <th>2</th>\n",
              "      <th>3</th>\n",
              "      <th>4</th>\n",
              "    </tr>\n",
              "  </thead>\n",
              "  <tbody>\n",
              "    <tr>\n",
              "      <th>0</th>\n",
              "      <td>0</td>\n",
              "      <td>-3.634862</td>\n",
              "      <td>0.567972</td>\n",
              "      <td>0.683036</td>\n",
              "      <td>2.030557</td>\n",
              "      <td>-0.008673</td>\n",
              "    </tr>\n",
              "    <tr>\n",
              "      <th>1</th>\n",
              "      <td>1</td>\n",
              "      <td>-3.669644</td>\n",
              "      <td>0.722668</td>\n",
              "      <td>-1.291992</td>\n",
              "      <td>1.451597</td>\n",
              "      <td>-0.056891</td>\n",
              "    </tr>\n",
              "    <tr>\n",
              "      <th>2</th>\n",
              "      <td>2</td>\n",
              "      <td>-3.204086</td>\n",
              "      <td>-0.771222</td>\n",
              "      <td>0.450132</td>\n",
              "      <td>-0.168602</td>\n",
              "      <td>-0.195269</td>\n",
              "    </tr>\n",
              "    <tr>\n",
              "      <th>3</th>\n",
              "      <td>3</td>\n",
              "      <td>2.012598</td>\n",
              "      <td>0.270542</td>\n",
              "      <td>-0.763257</td>\n",
              "      <td>0.574901</td>\n",
              "      <td>0.198322</td>\n",
              "    </tr>\n",
              "    <tr>\n",
              "      <th>4</th>\n",
              "      <td>4</td>\n",
              "      <td>-3.134938</td>\n",
              "      <td>-1.337568</td>\n",
              "      <td>0.837789</td>\n",
              "      <td>1.575757</td>\n",
              "      <td>-0.115875</td>\n",
              "    </tr>\n",
              "    <tr>\n",
              "      <th>...</th>\n",
              "      <td>...</td>\n",
              "      <td>...</td>\n",
              "      <td>...</td>\n",
              "      <td>...</td>\n",
              "      <td>...</td>\n",
              "      <td>...</td>\n",
              "    </tr>\n",
              "    <tr>\n",
              "      <th>373710</th>\n",
              "      <td>373710</td>\n",
              "      <td>1.507338</td>\n",
              "      <td>0.269709</td>\n",
              "      <td>-0.244482</td>\n",
              "      <td>0.300098</td>\n",
              "      <td>-1.815194</td>\n",
              "    </tr>\n",
              "    <tr>\n",
              "      <th>373711</th>\n",
              "      <td>373711</td>\n",
              "      <td>2.761216</td>\n",
              "      <td>0.342603</td>\n",
              "      <td>-0.335227</td>\n",
              "      <td>0.640131</td>\n",
              "      <td>2.013998</td>\n",
              "    </tr>\n",
              "    <tr>\n",
              "      <th>373712</th>\n",
              "      <td>373712</td>\n",
              "      <td>2.599150</td>\n",
              "      <td>-1.794610</td>\n",
              "      <td>-0.449725</td>\n",
              "      <td>0.633736</td>\n",
              "      <td>0.095408</td>\n",
              "    </tr>\n",
              "    <tr>\n",
              "      <th>373713</th>\n",
              "      <td>373713</td>\n",
              "      <td>2.102576</td>\n",
              "      <td>0.985206</td>\n",
              "      <td>1.267618</td>\n",
              "      <td>-1.590183</td>\n",
              "      <td>-0.074555</td>\n",
              "    </tr>\n",
              "    <tr>\n",
              "      <th>373714</th>\n",
              "      <td>373714</td>\n",
              "      <td>2.127428</td>\n",
              "      <td>0.601105</td>\n",
              "      <td>-1.408730</td>\n",
              "      <td>-0.468192</td>\n",
              "      <td>0.040753</td>\n",
              "    </tr>\n",
              "  </tbody>\n",
              "</table>\n",
              "<p>373715 rows × 6 columns</p>\n",
              "</div>"
            ],
            "text/plain": [
              "        Unnamed: 0         0         1         2         3         4\n",
              "0                0 -3.634862  0.567972  0.683036  2.030557 -0.008673\n",
              "1                1 -3.669644  0.722668 -1.291992  1.451597 -0.056891\n",
              "2                2 -3.204086 -0.771222  0.450132 -0.168602 -0.195269\n",
              "3                3  2.012598  0.270542 -0.763257  0.574901  0.198322\n",
              "4                4 -3.134938 -1.337568  0.837789  1.575757 -0.115875\n",
              "...            ...       ...       ...       ...       ...       ...\n",
              "373710      373710  1.507338  0.269709 -0.244482  0.300098 -1.815194\n",
              "373711      373711  2.761216  0.342603 -0.335227  0.640131  2.013998\n",
              "373712      373712  2.599150 -1.794610 -0.449725  0.633736  0.095408\n",
              "373713      373713  2.102576  0.985206  1.267618 -1.590183 -0.074555\n",
              "373714      373714  2.127428  0.601105 -1.408730 -0.468192  0.040753\n",
              "\n",
              "[373715 rows x 6 columns]"
            ]
          },
          "metadata": {},
          "execution_count": 16
        }
      ]
    },
    {
      "cell_type": "code",
      "metadata": {
        "colab": {
          "base_uri": "https://localhost:8080/",
          "height": 417
        },
        "id": "XN6ARvfWRPQD",
        "outputId": "820dfe4d-24f4-4673-f4e4-9f1d3d24da2c"
      },
      "source": [
        "y_train"
      ],
      "execution_count": 17,
      "outputs": [
        {
          "output_type": "execute_result",
          "data": {
            "text/html": [
              "<div>\n",
              "<style scoped>\n",
              "    .dataframe tbody tr th:only-of-type {\n",
              "        vertical-align: middle;\n",
              "    }\n",
              "\n",
              "    .dataframe tbody tr th {\n",
              "        vertical-align: top;\n",
              "    }\n",
              "\n",
              "    .dataframe thead th {\n",
              "        text-align: right;\n",
              "    }\n",
              "</style>\n",
              "<table border=\"1\" class=\"dataframe\">\n",
              "  <thead>\n",
              "    <tr style=\"text-align: right;\">\n",
              "      <th></th>\n",
              "      <th>Unnamed: 0</th>\n",
              "      <th>0</th>\n",
              "    </tr>\n",
              "  </thead>\n",
              "  <tbody>\n",
              "    <tr>\n",
              "      <th>0</th>\n",
              "      <td>0</td>\n",
              "      <td>0</td>\n",
              "    </tr>\n",
              "    <tr>\n",
              "      <th>1</th>\n",
              "      <td>1</td>\n",
              "      <td>0</td>\n",
              "    </tr>\n",
              "    <tr>\n",
              "      <th>2</th>\n",
              "      <td>2</td>\n",
              "      <td>0</td>\n",
              "    </tr>\n",
              "    <tr>\n",
              "      <th>3</th>\n",
              "      <td>3</td>\n",
              "      <td>0</td>\n",
              "    </tr>\n",
              "    <tr>\n",
              "      <th>4</th>\n",
              "      <td>4</td>\n",
              "      <td>0</td>\n",
              "    </tr>\n",
              "    <tr>\n",
              "      <th>...</th>\n",
              "      <td>...</td>\n",
              "      <td>...</td>\n",
              "    </tr>\n",
              "    <tr>\n",
              "      <th>373710</th>\n",
              "      <td>373710</td>\n",
              "      <td>1</td>\n",
              "    </tr>\n",
              "    <tr>\n",
              "      <th>373711</th>\n",
              "      <td>373711</td>\n",
              "      <td>1</td>\n",
              "    </tr>\n",
              "    <tr>\n",
              "      <th>373712</th>\n",
              "      <td>373712</td>\n",
              "      <td>1</td>\n",
              "    </tr>\n",
              "    <tr>\n",
              "      <th>373713</th>\n",
              "      <td>373713</td>\n",
              "      <td>1</td>\n",
              "    </tr>\n",
              "    <tr>\n",
              "      <th>373714</th>\n",
              "      <td>373714</td>\n",
              "      <td>1</td>\n",
              "    </tr>\n",
              "  </tbody>\n",
              "</table>\n",
              "<p>373715 rows × 2 columns</p>\n",
              "</div>"
            ],
            "text/plain": [
              "        Unnamed: 0  0\n",
              "0                0  0\n",
              "1                1  0\n",
              "2                2  0\n",
              "3                3  0\n",
              "4                4  0\n",
              "...            ... ..\n",
              "373710      373710  1\n",
              "373711      373711  1\n",
              "373712      373712  1\n",
              "373713      373713  1\n",
              "373714      373714  1\n",
              "\n",
              "[373715 rows x 2 columns]"
            ]
          },
          "metadata": {},
          "execution_count": 17
        }
      ]
    },
    {
      "cell_type": "code",
      "metadata": {
        "id": "biJhJoplQ4Rz"
      },
      "source": [
        "X_train.drop('Unnamed: 0',axis=1,inplace =True)\n",
        "X_test.drop('Unnamed: 0',axis=1,inplace=True)\n",
        "y_train.drop('Unnamed: 0',axis=1,inplace=True)\n",
        "y_test.drop('Unnamed: 0',axis=1,inplace=True)"
      ],
      "execution_count": 18,
      "outputs": []
    },
    {
      "cell_type": "code",
      "metadata": {
        "colab": {
          "base_uri": "https://localhost:8080/",
          "height": 417
        },
        "id": "b2xK7-R8SAck",
        "outputId": "85889ed7-33d2-4c4c-e163-b8594ba92596"
      },
      "source": [
        "X_train"
      ],
      "execution_count": 19,
      "outputs": [
        {
          "output_type": "execute_result",
          "data": {
            "text/html": [
              "<div>\n",
              "<style scoped>\n",
              "    .dataframe tbody tr th:only-of-type {\n",
              "        vertical-align: middle;\n",
              "    }\n",
              "\n",
              "    .dataframe tbody tr th {\n",
              "        vertical-align: top;\n",
              "    }\n",
              "\n",
              "    .dataframe thead th {\n",
              "        text-align: right;\n",
              "    }\n",
              "</style>\n",
              "<table border=\"1\" class=\"dataframe\">\n",
              "  <thead>\n",
              "    <tr style=\"text-align: right;\">\n",
              "      <th></th>\n",
              "      <th>0</th>\n",
              "      <th>1</th>\n",
              "      <th>2</th>\n",
              "      <th>3</th>\n",
              "      <th>4</th>\n",
              "    </tr>\n",
              "  </thead>\n",
              "  <tbody>\n",
              "    <tr>\n",
              "      <th>0</th>\n",
              "      <td>-3.634862</td>\n",
              "      <td>0.567972</td>\n",
              "      <td>0.683036</td>\n",
              "      <td>2.030557</td>\n",
              "      <td>-0.008673</td>\n",
              "    </tr>\n",
              "    <tr>\n",
              "      <th>1</th>\n",
              "      <td>-3.669644</td>\n",
              "      <td>0.722668</td>\n",
              "      <td>-1.291992</td>\n",
              "      <td>1.451597</td>\n",
              "      <td>-0.056891</td>\n",
              "    </tr>\n",
              "    <tr>\n",
              "      <th>2</th>\n",
              "      <td>-3.204086</td>\n",
              "      <td>-0.771222</td>\n",
              "      <td>0.450132</td>\n",
              "      <td>-0.168602</td>\n",
              "      <td>-0.195269</td>\n",
              "    </tr>\n",
              "    <tr>\n",
              "      <th>3</th>\n",
              "      <td>2.012598</td>\n",
              "      <td>0.270542</td>\n",
              "      <td>-0.763257</td>\n",
              "      <td>0.574901</td>\n",
              "      <td>0.198322</td>\n",
              "    </tr>\n",
              "    <tr>\n",
              "      <th>4</th>\n",
              "      <td>-3.134938</td>\n",
              "      <td>-1.337568</td>\n",
              "      <td>0.837789</td>\n",
              "      <td>1.575757</td>\n",
              "      <td>-0.115875</td>\n",
              "    </tr>\n",
              "    <tr>\n",
              "      <th>...</th>\n",
              "      <td>...</td>\n",
              "      <td>...</td>\n",
              "      <td>...</td>\n",
              "      <td>...</td>\n",
              "      <td>...</td>\n",
              "    </tr>\n",
              "    <tr>\n",
              "      <th>373710</th>\n",
              "      <td>1.507338</td>\n",
              "      <td>0.269709</td>\n",
              "      <td>-0.244482</td>\n",
              "      <td>0.300098</td>\n",
              "      <td>-1.815194</td>\n",
              "    </tr>\n",
              "    <tr>\n",
              "      <th>373711</th>\n",
              "      <td>2.761216</td>\n",
              "      <td>0.342603</td>\n",
              "      <td>-0.335227</td>\n",
              "      <td>0.640131</td>\n",
              "      <td>2.013998</td>\n",
              "    </tr>\n",
              "    <tr>\n",
              "      <th>373712</th>\n",
              "      <td>2.599150</td>\n",
              "      <td>-1.794610</td>\n",
              "      <td>-0.449725</td>\n",
              "      <td>0.633736</td>\n",
              "      <td>0.095408</td>\n",
              "    </tr>\n",
              "    <tr>\n",
              "      <th>373713</th>\n",
              "      <td>2.102576</td>\n",
              "      <td>0.985206</td>\n",
              "      <td>1.267618</td>\n",
              "      <td>-1.590183</td>\n",
              "      <td>-0.074555</td>\n",
              "    </tr>\n",
              "    <tr>\n",
              "      <th>373714</th>\n",
              "      <td>2.127428</td>\n",
              "      <td>0.601105</td>\n",
              "      <td>-1.408730</td>\n",
              "      <td>-0.468192</td>\n",
              "      <td>0.040753</td>\n",
              "    </tr>\n",
              "  </tbody>\n",
              "</table>\n",
              "<p>373715 rows × 5 columns</p>\n",
              "</div>"
            ],
            "text/plain": [
              "               0         1         2         3         4\n",
              "0      -3.634862  0.567972  0.683036  2.030557 -0.008673\n",
              "1      -3.669644  0.722668 -1.291992  1.451597 -0.056891\n",
              "2      -3.204086 -0.771222  0.450132 -0.168602 -0.195269\n",
              "3       2.012598  0.270542 -0.763257  0.574901  0.198322\n",
              "4      -3.134938 -1.337568  0.837789  1.575757 -0.115875\n",
              "...          ...       ...       ...       ...       ...\n",
              "373710  1.507338  0.269709 -0.244482  0.300098 -1.815194\n",
              "373711  2.761216  0.342603 -0.335227  0.640131  2.013998\n",
              "373712  2.599150 -1.794610 -0.449725  0.633736  0.095408\n",
              "373713  2.102576  0.985206  1.267618 -1.590183 -0.074555\n",
              "373714  2.127428  0.601105 -1.408730 -0.468192  0.040753\n",
              "\n",
              "[373715 rows x 5 columns]"
            ]
          },
          "metadata": {},
          "execution_count": 19
        }
      ]
    },
    {
      "cell_type": "code",
      "metadata": {
        "colab": {
          "base_uri": "https://localhost:8080/",
          "height": 417
        },
        "id": "hVj6ulhPSILs",
        "outputId": "7414d520-997a-4e30-ec64-2dd90fda45d1"
      },
      "source": [
        "y_train"
      ],
      "execution_count": 20,
      "outputs": [
        {
          "output_type": "execute_result",
          "data": {
            "text/html": [
              "<div>\n",
              "<style scoped>\n",
              "    .dataframe tbody tr th:only-of-type {\n",
              "        vertical-align: middle;\n",
              "    }\n",
              "\n",
              "    .dataframe tbody tr th {\n",
              "        vertical-align: top;\n",
              "    }\n",
              "\n",
              "    .dataframe thead th {\n",
              "        text-align: right;\n",
              "    }\n",
              "</style>\n",
              "<table border=\"1\" class=\"dataframe\">\n",
              "  <thead>\n",
              "    <tr style=\"text-align: right;\">\n",
              "      <th></th>\n",
              "      <th>0</th>\n",
              "    </tr>\n",
              "  </thead>\n",
              "  <tbody>\n",
              "    <tr>\n",
              "      <th>0</th>\n",
              "      <td>0</td>\n",
              "    </tr>\n",
              "    <tr>\n",
              "      <th>1</th>\n",
              "      <td>0</td>\n",
              "    </tr>\n",
              "    <tr>\n",
              "      <th>2</th>\n",
              "      <td>0</td>\n",
              "    </tr>\n",
              "    <tr>\n",
              "      <th>3</th>\n",
              "      <td>0</td>\n",
              "    </tr>\n",
              "    <tr>\n",
              "      <th>4</th>\n",
              "      <td>0</td>\n",
              "    </tr>\n",
              "    <tr>\n",
              "      <th>...</th>\n",
              "      <td>...</td>\n",
              "    </tr>\n",
              "    <tr>\n",
              "      <th>373710</th>\n",
              "      <td>1</td>\n",
              "    </tr>\n",
              "    <tr>\n",
              "      <th>373711</th>\n",
              "      <td>1</td>\n",
              "    </tr>\n",
              "    <tr>\n",
              "      <th>373712</th>\n",
              "      <td>1</td>\n",
              "    </tr>\n",
              "    <tr>\n",
              "      <th>373713</th>\n",
              "      <td>1</td>\n",
              "    </tr>\n",
              "    <tr>\n",
              "      <th>373714</th>\n",
              "      <td>1</td>\n",
              "    </tr>\n",
              "  </tbody>\n",
              "</table>\n",
              "<p>373715 rows × 1 columns</p>\n",
              "</div>"
            ],
            "text/plain": [
              "        0\n",
              "0       0\n",
              "1       0\n",
              "2       0\n",
              "3       0\n",
              "4       0\n",
              "...    ..\n",
              "373710  1\n",
              "373711  1\n",
              "373712  1\n",
              "373713  1\n",
              "373714  1\n",
              "\n",
              "[373715 rows x 1 columns]"
            ]
          },
          "metadata": {},
          "execution_count": 20
        }
      ]
    },
    {
      "cell_type": "code",
      "metadata": {
        "colab": {
          "base_uri": "https://localhost:8080/"
        },
        "id": "EAdHqZ7JSsZU",
        "outputId": "9b8b508e-4007-467d-a559-17094c978ad1"
      },
      "source": [
        "y_train.values.reshape(-1)"
      ],
      "execution_count": 25,
      "outputs": [
        {
          "output_type": "execute_result",
          "data": {
            "text/plain": [
              "array([0, 0, 0, ..., 1, 1, 1])"
            ]
          },
          "metadata": {},
          "execution_count": 25
        }
      ]
    },
    {
      "cell_type": "code",
      "metadata": {
        "id": "Eekg3rq2NL0P"
      },
      "source": [
        "from sklearn.naive_bayes import GaussianNB\n",
        "gaussian_estimator = GaussianNB().fit(X_train.values,y_train.values.reshape(-1))"
      ],
      "execution_count": 116,
      "outputs": []
    },
    {
      "cell_type": "code",
      "metadata": {
        "id": "qwq7f4kLVEqV"
      },
      "source": [
        "from sklearn.metrics import accuracy_score, confusion_matrix,recall_score,precision_score,log_loss,f1_score,roc_auc_score,classification_report"
      ],
      "execution_count": 117,
      "outputs": []
    },
    {
      "cell_type": "code",
      "metadata": {
        "id": "pYfwrvEjvzcX"
      },
      "source": [
        "import matplotlib.pyplot as plt\n",
        "import seaborn as sns"
      ],
      "execution_count": 118,
      "outputs": []
    },
    {
      "cell_type": "code",
      "metadata": {
        "id": "ckrESDnWYEH6"
      },
      "source": [
        "def get_metric(model):\n",
        "\n",
        "    train_preds = model.predict(X_train.values)\n",
        "    test_preds = model.predict(X_test.values)\n",
        "\n",
        "    print(\"The classification report for training is \\n\")\n",
        "    print(classification_report(y_train.values.reshape(-1),train_preds),\"\\n\")\n",
        "    \n",
        "    print(\"The classification report for testing is \\n\")\n",
        "    print(classification_report(y_test.values.reshape(-1),test_preds),\"\\n\")\n",
        "    \n",
        "    \n",
        "    metrics = [roc_auc_score,accuracy_score,recall_score,precision_score,log_loss,f1_score]\n",
        "    metric_name = ['Roc Auc','Accuracy','Recall','Precision','Log loss','F1 score']\n",
        "    \n",
        "    zipped_list = []\n",
        "    for i in metrics:\n",
        "        tr = round(i(y_train.values.reshape(-1),train_preds),2)\n",
        "        ts = round(i(y_test.values.reshape(-1),test_preds),2)\n",
        "        zipped_list.append((tr,ts))\n",
        "    metric_df = pd.DataFrame(zipped_list,index=metric_name,columns=['Train','Test'])\n",
        "\n",
        "    for i in [confusion_matrix(y_train.values.reshape(-1),train_preds) , confusion_matrix(y_test.values.reshape(-1),test_preds)]:\n",
        "      print('Confusion Matrix for train set \\n',i,'\\n')\n",
        "    \n",
        "    true_dict = pd.Series(y_test.values.reshape(-1)).value_counts().to_dict()\n",
        "    pred_dict = pd.Series(test_preds).value_counts().to_dict()\n",
        "\n",
        "    tmp_df = pd.DataFrame(zip(true_dict.values(),pred_dict.values()),columns = ['Actual','Predicted'],index=[0,1])\n",
        "    tmp_df = tmp_df.div(tmp_df.sum(axis=0), axis=1)\n",
        "    tmp_df.plot(kind='bar', rot=0, xlabel='Response',ylabel='Percentages', figsize=(14, 6))\n",
        "#    plt.ylim((0, 100))\n",
        "    \n",
        "    \n",
        "    return metric_df"
      ],
      "execution_count": 123,
      "outputs": []
    },
    {
      "cell_type": "code",
      "metadata": {
        "colab": {
          "base_uri": "https://localhost:8080/",
          "height": 1000
        },
        "id": "8j6Iy4GBjPJp",
        "outputId": "41299002-6a2f-43cb-e7f6-99b59b4ce37b"
      },
      "source": [
        "get_metric(gaussian_estimator)"
      ],
      "execution_count": 124,
      "outputs": [
        {
          "output_type": "stream",
          "name": "stdout",
          "text": [
            "The classification report for training is \n",
            "\n",
            "              precision    recall  f1-score   support\n",
            "\n",
            "           0       0.80      0.58      0.67    183758\n",
            "           1       0.68      0.86      0.76    189957\n",
            "\n",
            "    accuracy                           0.72    373715\n",
            "   macro avg       0.74      0.72      0.72    373715\n",
            "weighted avg       0.74      0.72      0.72    373715\n",
            " \n",
            "\n",
            "The classification report for testing is \n",
            "\n",
            "              precision    recall  f1-score   support\n",
            "\n",
            "           0       0.96      0.47      0.63     65137\n",
            "           1       0.18      0.84      0.30      9021\n",
            "\n",
            "    accuracy                           0.52     74158\n",
            "   macro avg       0.57      0.66      0.47     74158\n",
            "weighted avg       0.86      0.52      0.59     74158\n",
            " \n",
            "\n",
            "Confusion Matrix for train set \n",
            " [[106832  76926]\n",
            " [ 27096 162861]] \n",
            "\n",
            "Confusion Matrix for train set \n",
            " [[30833 34304]\n",
            " [ 1401  7620]] \n",
            "\n"
          ]
        },
        {
          "output_type": "execute_result",
          "data": {
            "text/html": [
              "<div>\n",
              "<style scoped>\n",
              "    .dataframe tbody tr th:only-of-type {\n",
              "        vertical-align: middle;\n",
              "    }\n",
              "\n",
              "    .dataframe tbody tr th {\n",
              "        vertical-align: top;\n",
              "    }\n",
              "\n",
              "    .dataframe thead th {\n",
              "        text-align: right;\n",
              "    }\n",
              "</style>\n",
              "<table border=\"1\" class=\"dataframe\">\n",
              "  <thead>\n",
              "    <tr style=\"text-align: right;\">\n",
              "      <th></th>\n",
              "      <th>Train</th>\n",
              "      <th>Test</th>\n",
              "    </tr>\n",
              "  </thead>\n",
              "  <tbody>\n",
              "    <tr>\n",
              "      <th>Roc Auc</th>\n",
              "      <td>0.72</td>\n",
              "      <td>0.66</td>\n",
              "    </tr>\n",
              "    <tr>\n",
              "      <th>Accuracy</th>\n",
              "      <td>0.72</td>\n",
              "      <td>0.52</td>\n",
              "    </tr>\n",
              "    <tr>\n",
              "      <th>Recall</th>\n",
              "      <td>0.86</td>\n",
              "      <td>0.84</td>\n",
              "    </tr>\n",
              "    <tr>\n",
              "      <th>Precision</th>\n",
              "      <td>0.68</td>\n",
              "      <td>0.18</td>\n",
              "    </tr>\n",
              "    <tr>\n",
              "      <th>Log loss</th>\n",
              "      <td>9.61</td>\n",
              "      <td>16.63</td>\n",
              "    </tr>\n",
              "    <tr>\n",
              "      <th>F1 score</th>\n",
              "      <td>0.76</td>\n",
              "      <td>0.30</td>\n",
              "    </tr>\n",
              "  </tbody>\n",
              "</table>\n",
              "</div>"
            ],
            "text/plain": [
              "           Train   Test\n",
              "Roc Auc     0.72   0.66\n",
              "Accuracy    0.72   0.52\n",
              "Recall      0.86   0.84\n",
              "Precision   0.68   0.18\n",
              "Log loss    9.61  16.63\n",
              "F1 score    0.76   0.30"
            ]
          },
          "metadata": {},
          "execution_count": 124
        },
        {
          "output_type": "display_data",
          "data": {
            "image/png": "[encoded data removed]",
            "text/plain": [
              "<Figure size 1008x432 with 1 Axes>"
            ]
          },
          "metadata": {
            "needs_background": "light"
          }
        }
      ]
    },
    {
      "cell_type": "markdown",
      "metadata": {
        "id": "FSDMr7R8vXA4"
      },
      "source": [
        "# LOGISTIC REGRESSION"
      ]
    },
    {
      "cell_type": "code",
      "metadata": {
        "colab": {
          "base_uri": "https://localhost:8080/"
        },
        "id": "DLqtp_gJsQWo",
        "outputId": "ee885647-1c82-45e0-c50a-d77e902f0459"
      },
      "source": [
        "from sklearn.linear_model import LogisticRegression\n",
        "clf = LogisticRegression(fit_intercept=True, max_iter=10000)\n",
        "clf.fit(X_train.values,y_train.values.reshape(-1))"
      ],
      "execution_count": 125,
      "outputs": [
        {
          "output_type": "execute_result",
          "data": {
            "text/plain": [
              "LogisticRegression(C=1.0, class_weight=None, dual=False, fit_intercept=True,\n",
              "                   intercept_scaling=1, l1_ratio=None, max_iter=10000,\n",
              "                   multi_class='auto', n_jobs=None, penalty='l2',\n",
              "                   random_state=None, solver='lbfgs', tol=0.0001, verbose=0,\n",
              "                   warm_start=False)"
            ]
          },
          "metadata": {},
          "execution_count": 125
        }
      ]
    },
    {
      "cell_type": "code",
      "metadata": {
        "colab": {
          "base_uri": "https://localhost:8080/",
          "height": 1000
        },
        "id": "kosqZE1_087e",
        "outputId": "6665762c-6a60-46c4-9216-3661a8ce9976"
      },
      "source": [
        "get_metric(clf)"
      ],
      "execution_count": 126,
      "outputs": [
        {
          "output_type": "stream",
          "name": "stdout",
          "text": [
            "The classification report for training is \n",
            "\n",
            "              precision    recall  f1-score   support\n",
            "\n",
            "           0       0.79      0.59      0.68    183758\n",
            "           1       0.68      0.85      0.76    189957\n",
            "\n",
            "    accuracy                           0.72    373715\n",
            "   macro avg       0.74      0.72      0.72    373715\n",
            "weighted avg       0.74      0.72      0.72    373715\n",
            " \n",
            "\n",
            "The classification report for testing is \n",
            "\n",
            "              precision    recall  f1-score   support\n",
            "\n",
            "           0       0.96      0.48      0.64     65137\n",
            "           1       0.18      0.84      0.30      9021\n",
            "\n",
            "    accuracy                           0.52     74158\n",
            "   macro avg       0.57      0.66      0.47     74158\n",
            "weighted avg       0.86      0.52      0.60     74158\n",
            " \n",
            "\n",
            "Confusion Matrix for train set \n",
            " [[108248  75510]\n",
            " [ 28003 161954]] \n",
            "\n",
            "Confusion Matrix for train set \n",
            " [[31315 33822]\n",
            " [ 1451  7570]] \n",
            "\n"
          ]
        },
        {
          "output_type": "execute_result",
          "data": {
            "text/html": [
              "<div>\n",
              "<style scoped>\n",
              "    .dataframe tbody tr th:only-of-type {\n",
              "        vertical-align: middle;\n",
              "    }\n",
              "\n",
              "    .dataframe tbody tr th {\n",
              "        vertical-align: top;\n",
              "    }\n",
              "\n",
              "    .dataframe thead th {\n",
              "        text-align: right;\n",
              "    }\n",
              "</style>\n",
              "<table border=\"1\" class=\"dataframe\">\n",
              "  <thead>\n",
              "    <tr style=\"text-align: right;\">\n",
              "      <th></th>\n",
              "      <th>Train</th>\n",
              "      <th>Test</th>\n",
              "    </tr>\n",
              "  </thead>\n",
              "  <tbody>\n",
              "    <tr>\n",
              "      <th>Roc Auc</th>\n",
              "      <td>0.72</td>\n",
              "      <td>0.66</td>\n",
              "    </tr>\n",
              "    <tr>\n",
              "      <th>Accuracy</th>\n",
              "      <td>0.72</td>\n",
              "      <td>0.52</td>\n",
              "    </tr>\n",
              "    <tr>\n",
              "      <th>Recall</th>\n",
              "      <td>0.85</td>\n",
              "      <td>0.84</td>\n",
              "    </tr>\n",
              "    <tr>\n",
              "      <th>Precision</th>\n",
              "      <td>0.68</td>\n",
              "      <td>0.18</td>\n",
              "    </tr>\n",
              "    <tr>\n",
              "      <th>Log loss</th>\n",
              "      <td>9.57</td>\n",
              "      <td>16.43</td>\n",
              "    </tr>\n",
              "    <tr>\n",
              "      <th>F1 score</th>\n",
              "      <td>0.76</td>\n",
              "      <td>0.30</td>\n",
              "    </tr>\n",
              "  </tbody>\n",
              "</table>\n",
              "</div>"
            ],
            "text/plain": [
              "           Train   Test\n",
              "Roc Auc     0.72   0.66\n",
              "Accuracy    0.72   0.52\n",
              "Recall      0.85   0.84\n",
              "Precision   0.68   0.18\n",
              "Log loss    9.57  16.43\n",
              "F1 score    0.76   0.30"
            ]
          },
          "metadata": {},
          "execution_count": 126
        },
        {
          "output_type": "display_data",
          "data": {
            "image/png": "[encoded data removed]",
            "text/plain": [
              "<Figure size 1008x432 with 1 Axes>"
            ]
          },
          "metadata": {
            "needs_background": "light"
          }
        }
      ]
    },
    {
      "cell_type": "code",
      "metadata": {
        "id": "ifDyhc0U2Evu"
      },
      "source": [
        "from sklearn.linear_model import LogisticRegressionCV\n",
        "from sklearn.model_selection import cross_validate"
      ],
      "execution_count": 127,
      "outputs": []
    },
    {
      "cell_type": "code",
      "metadata": {
        "colab": {
          "base_uri": "https://localhost:8080/"
        },
        "id": "zYtbA_mh3FBp",
        "outputId": "1d7cfc82-608b-4e62-ee61-4daa980a9baf"
      },
      "source": [
        "logistic = LogisticRegression()\n",
        "scoring = ['accuracy']\n",
        "scores = cross_validate(logistic,X_train, y_train, scoring = scoring, cv = 5, return_train_score=True,return_estimator=True,verbose = 10)"
      ],
      "execution_count": 129,
      "outputs": [
        {
          "output_type": "stream",
          "name": "stderr",
          "text": [
            "[Parallel(n_jobs=1)]: Using backend SequentialBackend with 1 concurrent workers.\n",
            "/usr/local/lib/python3.7/dist-packages/sklearn/utils/validation.py:760: DataConversionWarning: A column-vector y was passed when a 1d array was expected. Please change the shape of y to (n_samples, ), for example using ravel().\n",
            "  y = column_or_1d(y, warn=True)\n"
          ]
        },
        {
          "output_type": "stream",
          "name": "stdout",
          "text": [
            "[CV]  ................................................................\n",
            "[CV] ............. , accuracy=(train=0.723, test=0.722), total=   0.6s\n",
            "[CV]  ................................................................\n"
          ]
        },
        {
          "output_type": "stream",
          "name": "stderr",
          "text": [
            "[Parallel(n_jobs=1)]: Done   1 out of   1 | elapsed:    0.7s remaining:    0.0s\n",
            "/usr/local/lib/python3.7/dist-packages/sklearn/utils/validation.py:760: DataConversionWarning: A column-vector y was passed when a 1d array was expected. Please change the shape of y to (n_samples, ), for example using ravel().\n",
            "  y = column_or_1d(y, warn=True)\n"
          ]
        },
        {
          "output_type": "stream",
          "name": "stdout",
          "text": [
            "[CV] ............. , accuracy=(train=0.722, test=0.725), total=   0.6s\n",
            "[CV]  ................................................................\n"
          ]
        },
        {
          "output_type": "stream",
          "name": "stderr",
          "text": [
            "[Parallel(n_jobs=1)]: Done   2 out of   2 | elapsed:    1.4s remaining:    0.0s\n",
            "/usr/local/lib/python3.7/dist-packages/sklearn/utils/validation.py:760: DataConversionWarning: A column-vector y was passed when a 1d array was expected. Please change the shape of y to (n_samples, ), for example using ravel().\n",
            "  y = column_or_1d(y, warn=True)\n"
          ]
        },
        {
          "output_type": "stream",
          "name": "stdout",
          "text": [
            "[CV] ............. , accuracy=(train=0.723, test=0.722), total=   0.6s\n",
            "[CV]  ................................................................\n"
          ]
        },
        {
          "output_type": "stream",
          "name": "stderr",
          "text": [
            "[Parallel(n_jobs=1)]: Done   3 out of   3 | elapsed:    2.0s remaining:    0.0s\n",
            "/usr/local/lib/python3.7/dist-packages/sklearn/utils/validation.py:760: DataConversionWarning: A column-vector y was passed when a 1d array was expected. Please change the shape of y to (n_samples, ), for example using ravel().\n",
            "  y = column_or_1d(y, warn=True)\n"
          ]
        },
        {
          "output_type": "stream",
          "name": "stdout",
          "text": [
            "[CV] ............. , accuracy=(train=0.723, test=0.722), total=   0.6s\n",
            "[CV]  ................................................................\n"
          ]
        },
        {
          "output_type": "stream",
          "name": "stderr",
          "text": [
            "[Parallel(n_jobs=1)]: Done   4 out of   4 | elapsed:    2.7s remaining:    0.0s\n",
            "/usr/local/lib/python3.7/dist-packages/sklearn/utils/validation.py:760: DataConversionWarning: A column-vector y was passed when a 1d array was expected. Please change the shape of y to (n_samples, ), for example using ravel().\n",
            "  y = column_or_1d(y, warn=True)\n"
          ]
        },
        {
          "output_type": "stream",
          "name": "stdout",
          "text": [
            "[CV] ............. , accuracy=(train=0.723, test=0.723), total=   0.6s\n"
          ]
        },
        {
          "output_type": "stream",
          "name": "stderr",
          "text": [
            "[Parallel(n_jobs=1)]: Done   5 out of   5 | elapsed:    3.3s remaining:    0.0s\n",
            "[Parallel(n_jobs=1)]: Done   5 out of   5 | elapsed:    3.3s finished\n"
          ]
        }
      ]
    },
    {
      "cell_type": "code",
      "metadata": {
        "colab": {
          "base_uri": "https://localhost:8080/"
        },
        "id": "rNKFfmRc3pJ_",
        "outputId": "678a2d8a-c155-4814-a513-47e95c1cc16b"
      },
      "source": [
        "scores['train_accuracy']"
      ],
      "execution_count": 130,
      "outputs": [
        {
          "output_type": "execute_result",
          "data": {
            "text/plain": [
              "array([0.72346909, 0.72240544, 0.72312792, 0.72310116, 0.72298409])"
            ]
          },
          "metadata": {},
          "execution_count": 130
        }
      ]
    },
    {
      "cell_type": "code",
      "metadata": {
        "colab": {
          "base_uri": "https://localhost:8080/"
        },
        "id": "eNzCXM-83xAt",
        "outputId": "bf0f5176-7431-463b-92c4-d12f0ba6e22b"
      },
      "source": [
        "scores['test_accuracy']"
      ],
      "execution_count": 131,
      "outputs": [
        {
          "output_type": "execute_result",
          "data": {
            "text/plain": [
              "array([0.72247568, 0.72497759, 0.72175321, 0.7224623 , 0.72322492])"
            ]
          },
          "metadata": {},
          "execution_count": 131
        }
      ]
    },
    {
      "cell_type": "code",
      "metadata": {
        "colab": {
          "base_uri": "https://localhost:8080/"
        },
        "id": "rI5B-eD13y1C",
        "outputId": "b3ac2a97-7075-4562-dbb4-5af4bdbf42ea"
      },
      "source": [
        "for model in scores['estimator']:\n",
        "    print(model.coef_)"
      ],
      "execution_count": 132,
      "outputs": [
        {
          "output_type": "stream",
          "name": "stdout",
          "text": [
            "[[ 0.39581981 -0.1081677  -0.00307609 -0.01806656 -0.01967801]]\n",
            "[[ 0.39341959 -0.11418869 -0.00589238  0.00241537 -0.01673801]]\n",
            "[[ 3.95516468e-01 -1.14755136e-01 -2.98113357e-03  1.77154510e-04\n",
            "  -1.64461871e-02]]\n",
            "[[ 0.39565679 -0.1155086  -0.00616604  0.00181305 -0.01859318]]\n",
            "[[ 0.39535828 -0.11283596 -0.00609895  0.00199659 -0.01856393]]\n"
          ]
        }
      ]
    },
    {
      "cell_type": "code",
      "metadata": {
        "id": "YN2_9Gmj34PQ"
      },
      "source": [
        ""
      ],
      "execution_count": null,
      "outputs": []
    }
  ]
}
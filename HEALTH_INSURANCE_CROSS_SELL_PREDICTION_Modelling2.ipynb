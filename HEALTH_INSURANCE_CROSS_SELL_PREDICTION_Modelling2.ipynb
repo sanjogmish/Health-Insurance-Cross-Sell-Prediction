{
  "nbformat": 4,
  "nbformat_minor": 0,
  "metadata": {
    "colab": {
      "name": "HEALTH INSURANCE CROSS SELL PREDICTION_Modelling2.ipynb",
      "provenance": [],
      "collapsed_sections": [],
      "include_colab_link": true
    },
    "kernelspec": {
      "name": "python3",
      "display_name": "Python 3"
    },
    "language_info": {
      "name": "python"
    }
  },
  "cells": [
    {
      "cell_type": "markdown",
      "metadata": {
        "id": "view-in-github",
        "colab_type": "text"
      },
      "source": [
        "<a href=\"https://colab.research.google.com/github/sanjogmish/Health-Insurance-Cross-Sell-Prediction/blob/main/HEALTH_INSURANCE_CROSS_SELL_PREDICTION_Modelling2.ipynb\" target=\"_parent\"><img src=\"https://colab.research.google.com/assets/colab-badge.svg\" alt=\"Open In Colab\"/></a>"
      ]
    },
    {
      "cell_type": "markdown",
      "metadata": {
        "id": "LGcl5Bv9ed6u"
      },
      "source": [
        "# **Problem Statement**"
      ]
    },
    {
      "cell_type": "markdown",
      "metadata": {
        "id": "jJAmGx75jJk1"
      },
      "source": [
        "Our client is an Insurance company that has provided Health Insurance to its customers now they need your help in building a model to predict whether the policyholders (customers) from past year will also be interested in Vehicle Insurance provided by the company.\n",
        "\n",
        "An insurance policy is an arrangement by which a company undertakes to provide a guarantee of compensation for specified loss, damage, illness, or death in return for the payment of a specified premium. A premium is a sum of money that the customer needs to pay regularly to an insurance company for this guarantee.\n",
        "\n",
        "For example, you may pay a premium of Rs. 5000 each year for a health insurance cover of Rs. 200,000/- so that if, God forbid, you fall ill and need to be hospitalised in that year, the insurance provider company will bear the cost of hospitalisation etc. for upto Rs. 200,000. Now if you are wondering how can company bear such high hospitalisation cost when it charges a premium of only Rs. 5000/-, that is where the concept of probabilities comes in picture. For example, like you, there may be 100 customers who would be paying a premium of Rs. 5000 every year, but only a few of them (say 2-3) would get hospitalised that year and not everyone. This way everyone shares the risk of everyone else.\n",
        "\n",
        "Just like medical insurance, there is vehicle insurance where every year customer needs to pay a premium of certain amount to insurance provider company so that in case of unfortunate accident by the vehicle, the insurance provider company will provide a compensation (called ‘sum assured’) to the customer.\n",
        "\n",
        "Building a model to predict whether a customer would be interested in Vehicle Insurance is extremely helpful for the company because it can then accordingly plan its communication strategy to reach out to those customers and optimise its business model and revenue.\n",
        "\n",
        "Now, in order to predict, whether the customer would be interested in Vehicle insurance, you have information about demographics (gender, age, region code type), Vehicles (Vehicle Age, Damage), Policy (Premium, sourcing channel) etc."
      ]
    },
    {
      "cell_type": "markdown",
      "metadata": {
        "id": "AzGDqdC4fZ-b"
      },
      "source": [
        "# **Attribute Information**"
      ]
    },
    {
      "cell_type": "markdown",
      "metadata": {
        "id": "oEJxl68MjYbs"
      },
      "source": [
        "1. id :\tUnique ID for the customer\n",
        "\n",
        "2. Gender\t: Gender of the customer\n",
        "\n",
        "3. Age :\tAge of the customer\n",
        "\n",
        "4. Driving_License\t0 : Customer does not have DL, 1 : Customer already has DL\n",
        "\n",
        "5. Region_Code :\tUnique code for the region of the customer\n",
        "\n",
        "6. Previously_Insured\t: 1 : Customer already has Vehicle Insurance, 0 : Customer doesn't have Vehicle Insurance\n",
        "\n",
        "7. Vehicle_Age :\tAge of the Vehicle\n",
        "\n",
        "8. Vehicle_Damage\t :1 : Customer got his/her vehicle damaged in the past. 0 : Customer didn't get his/her vehicle damaged in the past.\n",
        "\n",
        "9. Annual_Premium\t: The amount customer needs to pay as premium in the year\n",
        "\n",
        "10. PolicySalesChannel :\tAnonymized Code for the channel of outreaching to the customer ie. Different Agents, Over Mail, Over Phone, In Person, etc.\n",
        "\n",
        "11. Vintage :\tNumber of Days, Customer has been associated with the company\n",
        "\n",
        "12. Response :\t1 : Customer is interested, 0 : Customer is not interested"
      ]
    },
    {
      "cell_type": "markdown",
      "metadata": {
        "id": "-Q6v03_ZvQHp"
      },
      "source": [
        "# NAIVE BAYES CLASSIFIER"
      ]
    },
    {
      "cell_type": "code",
      "metadata": {
        "colab": {
          "base_uri": "https://localhost:8080/"
        },
        "id": "4qJAklyKMlfW",
        "outputId": "273253aa-3d13-4cdd-852c-3bbecb01aa69"
      },
      "source": [
        "from google.colab import drive\n",
        "drive.mount('/content/drive')"
      ],
      "execution_count": 1,
      "outputs": [
        {
          "output_type": "stream",
          "name": "stdout",
          "text": [
            "Mounted at /content/drive\n"
          ]
        }
      ]
    },
    {
      "cell_type": "code",
      "metadata": {
        "id": "gwyxyU0INNP0"
      },
      "source": [
        "import pandas as pd\n",
        "import numpy as np"
      ],
      "execution_count": 2,
      "outputs": []
    },
    {
      "cell_type": "code",
      "metadata": {
        "id": "BxUdfXnEMmEq"
      },
      "source": [
        "X_train_df = pd.read_csv('/content/drive/MyDrive/Almabetter/Modules/files/X_train_df')\n",
        "X_test_df = pd.read_csv('/content/drive/MyDrive/Almabetter/Modules/files/X_test_df')\n",
        "y_train_series = pd.read_csv('/content/drive/MyDrive/Almabetter/Modules/files/y_train_series')\n",
        "y_test_series = pd.read_csv('/content/drive/MyDrive/Almabetter/Modules/files/y_test_series')"
      ],
      "execution_count": 3,
      "outputs": []
    },
    {
      "cell_type": "code",
      "metadata": {
        "colab": {
          "base_uri": "https://localhost:8080/",
          "height": 417
        },
        "id": "LWtrb_iWQdFM",
        "outputId": "b16fa3a0-974e-442b-fa09-411a4002f652"
      },
      "source": [
        "X_train_df"
      ],
      "execution_count": 4,
      "outputs": [
        {
          "output_type": "execute_result",
          "data": {
            "text/html": [
              "<div>\n",
              "<style scoped>\n",
              "    .dataframe tbody tr th:only-of-type {\n",
              "        vertical-align: middle;\n",
              "    }\n",
              "\n",
              "    .dataframe tbody tr th {\n",
              "        vertical-align: top;\n",
              "    }\n",
              "\n",
              "    .dataframe thead th {\n",
              "        text-align: right;\n",
              "    }\n",
              "</style>\n",
              "<table border=\"1\" class=\"dataframe\">\n",
              "  <thead>\n",
              "    <tr style=\"text-align: right;\">\n",
              "      <th></th>\n",
              "      <th>Unnamed: 0</th>\n",
              "      <th>Gender</th>\n",
              "      <th>Age</th>\n",
              "      <th>Driving_License</th>\n",
              "      <th>Region_Code</th>\n",
              "      <th>Previously_Insured</th>\n",
              "      <th>Vehicle_Damage</th>\n",
              "      <th>Annual_Premium</th>\n",
              "      <th>Policy_Sales_Channel</th>\n",
              "      <th>Vintage</th>\n",
              "      <th>&gt; 2 Years</th>\n",
              "      <th>1-2 Year</th>\n",
              "      <th>&lt; 1 Year</th>\n",
              "    </tr>\n",
              "  </thead>\n",
              "  <tbody>\n",
              "    <tr>\n",
              "      <th>0</th>\n",
              "      <td>0</td>\n",
              "      <td>1.0</td>\n",
              "      <td>0.660377</td>\n",
              "      <td>1.0</td>\n",
              "      <td>0.040000</td>\n",
              "      <td>1.0</td>\n",
              "      <td>0.0</td>\n",
              "      <td>0.514469</td>\n",
              "      <td>0.199483</td>\n",
              "      <td>0.830340</td>\n",
              "      <td>0.0</td>\n",
              "      <td>1.0</td>\n",
              "      <td>0.0</td>\n",
              "    </tr>\n",
              "    <tr>\n",
              "      <th>1</th>\n",
              "      <td>1</td>\n",
              "      <td>1.0</td>\n",
              "      <td>0.302888</td>\n",
              "      <td>1.0</td>\n",
              "      <td>0.079150</td>\n",
              "      <td>0.0</td>\n",
              "      <td>1.0</td>\n",
              "      <td>0.482469</td>\n",
              "      <td>0.028254</td>\n",
              "      <td>0.972147</td>\n",
              "      <td>0.0</td>\n",
              "      <td>0.0</td>\n",
              "      <td>1.0</td>\n",
              "    </tr>\n",
              "    <tr>\n",
              "      <th>2</th>\n",
              "      <td>2</td>\n",
              "      <td>0.0</td>\n",
              "      <td>0.096593</td>\n",
              "      <td>1.0</td>\n",
              "      <td>0.040000</td>\n",
              "      <td>1.0</td>\n",
              "      <td>0.0</td>\n",
              "      <td>0.507433</td>\n",
              "      <td>0.028254</td>\n",
              "      <td>0.830340</td>\n",
              "      <td>0.0</td>\n",
              "      <td>0.0</td>\n",
              "      <td>1.0</td>\n",
              "    </tr>\n",
              "    <tr>\n",
              "      <th>3</th>\n",
              "      <td>3</td>\n",
              "      <td>1.0</td>\n",
              "      <td>0.646956</td>\n",
              "      <td>1.0</td>\n",
              "      <td>0.187724</td>\n",
              "      <td>0.0</td>\n",
              "      <td>1.0</td>\n",
              "      <td>0.504804</td>\n",
              "      <td>0.190246</td>\n",
              "      <td>0.501713</td>\n",
              "      <td>0.0</td>\n",
              "      <td>1.0</td>\n",
              "      <td>0.0</td>\n",
              "    </tr>\n",
              "    <tr>\n",
              "      <th>4</th>\n",
              "      <td>4</td>\n",
              "      <td>0.0</td>\n",
              "      <td>0.126007</td>\n",
              "      <td>1.0</td>\n",
              "      <td>0.059212</td>\n",
              "      <td>1.0</td>\n",
              "      <td>0.0</td>\n",
              "      <td>0.465519</td>\n",
              "      <td>0.028254</td>\n",
              "      <td>0.796987</td>\n",
              "      <td>0.0</td>\n",
              "      <td>0.0</td>\n",
              "      <td>1.0</td>\n",
              "    </tr>\n",
              "    <tr>\n",
              "      <th>...</th>\n",
              "      <td>...</td>\n",
              "      <td>...</td>\n",
              "      <td>...</td>\n",
              "      <td>...</td>\n",
              "      <td>...</td>\n",
              "      <td>...</td>\n",
              "      <td>...</td>\n",
              "      <td>...</td>\n",
              "      <td>...</td>\n",
              "      <td>...</td>\n",
              "      <td>...</td>\n",
              "      <td>...</td>\n",
              "      <td>...</td>\n",
              "    </tr>\n",
              "    <tr>\n",
              "      <th>534849</th>\n",
              "      <td>534849</td>\n",
              "      <td>1.0</td>\n",
              "      <td>0.619308</td>\n",
              "      <td>1.0</td>\n",
              "      <td>0.096761</td>\n",
              "      <td>0.0</td>\n",
              "      <td>1.0</td>\n",
              "      <td>0.453632</td>\n",
              "      <td>0.308744</td>\n",
              "      <td>0.959516</td>\n",
              "      <td>0.0</td>\n",
              "      <td>1.0</td>\n",
              "      <td>0.0</td>\n",
              "    </tr>\n",
              "    <tr>\n",
              "      <th>534850</th>\n",
              "      <td>534850</td>\n",
              "      <td>1.0</td>\n",
              "      <td>0.366730</td>\n",
              "      <td>1.0</td>\n",
              "      <td>0.073512</td>\n",
              "      <td>0.0</td>\n",
              "      <td>1.0</td>\n",
              "      <td>0.490144</td>\n",
              "      <td>0.229386</td>\n",
              "      <td>0.852791</td>\n",
              "      <td>0.0</td>\n",
              "      <td>1.0</td>\n",
              "      <td>0.0</td>\n",
              "    </tr>\n",
              "    <tr>\n",
              "      <th>534851</th>\n",
              "      <td>534851</td>\n",
              "      <td>0.0</td>\n",
              "      <td>0.484052</td>\n",
              "      <td>1.0</td>\n",
              "      <td>0.126357</td>\n",
              "      <td>0.0</td>\n",
              "      <td>1.0</td>\n",
              "      <td>0.409934</td>\n",
              "      <td>0.229691</td>\n",
              "      <td>0.299884</td>\n",
              "      <td>0.0</td>\n",
              "      <td>1.0</td>\n",
              "      <td>0.0</td>\n",
              "    </tr>\n",
              "    <tr>\n",
              "      <th>534852</th>\n",
              "      <td>534852</td>\n",
              "      <td>1.0</td>\n",
              "      <td>0.444390</td>\n",
              "      <td>1.0</td>\n",
              "      <td>0.187724</td>\n",
              "      <td>0.0</td>\n",
              "      <td>1.0</td>\n",
              "      <td>0.548441</td>\n",
              "      <td>0.175655</td>\n",
              "      <td>0.767568</td>\n",
              "      <td>0.0</td>\n",
              "      <td>1.0</td>\n",
              "      <td>0.0</td>\n",
              "    </tr>\n",
              "    <tr>\n",
              "      <th>534853</th>\n",
              "      <td>534853</td>\n",
              "      <td>0.0</td>\n",
              "      <td>0.481493</td>\n",
              "      <td>1.0</td>\n",
              "      <td>0.118314</td>\n",
              "      <td>0.0</td>\n",
              "      <td>1.0</td>\n",
              "      <td>0.527031</td>\n",
              "      <td>0.199483</td>\n",
              "      <td>0.700224</td>\n",
              "      <td>0.0</td>\n",
              "      <td>1.0</td>\n",
              "      <td>0.0</td>\n",
              "    </tr>\n",
              "  </tbody>\n",
              "</table>\n",
              "<p>534854 rows × 13 columns</p>\n",
              "</div>"
            ],
            "text/plain": [
              "        Unnamed: 0  Gender       Age  ...  > 2 Years  1-2 Year  < 1 Year\n",
              "0                0     1.0  0.660377  ...        0.0       1.0       0.0\n",
              "1                1     1.0  0.302888  ...        0.0       0.0       1.0\n",
              "2                2     0.0  0.096593  ...        0.0       0.0       1.0\n",
              "3                3     1.0  0.646956  ...        0.0       1.0       0.0\n",
              "4                4     0.0  0.126007  ...        0.0       0.0       1.0\n",
              "...            ...     ...       ...  ...        ...       ...       ...\n",
              "534849      534849     1.0  0.619308  ...        0.0       1.0       0.0\n",
              "534850      534850     1.0  0.366730  ...        0.0       1.0       0.0\n",
              "534851      534851     0.0  0.484052  ...        0.0       1.0       0.0\n",
              "534852      534852     1.0  0.444390  ...        0.0       1.0       0.0\n",
              "534853      534853     0.0  0.481493  ...        0.0       1.0       0.0\n",
              "\n",
              "[534854 rows x 13 columns]"
            ]
          },
          "metadata": {},
          "execution_count": 4
        }
      ]
    },
    {
      "cell_type": "code",
      "metadata": {
        "colab": {
          "base_uri": "https://localhost:8080/",
          "height": 417
        },
        "id": "XN6ARvfWRPQD",
        "outputId": "e926a5eb-7f79-4034-a790-402398b3ce0d"
      },
      "source": [
        "y_train_series"
      ],
      "execution_count": 5,
      "outputs": [
        {
          "output_type": "execute_result",
          "data": {
            "text/html": [
              "<div>\n",
              "<style scoped>\n",
              "    .dataframe tbody tr th:only-of-type {\n",
              "        vertical-align: middle;\n",
              "    }\n",
              "\n",
              "    .dataframe tbody tr th {\n",
              "        vertical-align: top;\n",
              "    }\n",
              "\n",
              "    .dataframe thead th {\n",
              "        text-align: right;\n",
              "    }\n",
              "</style>\n",
              "<table border=\"1\" class=\"dataframe\">\n",
              "  <thead>\n",
              "    <tr style=\"text-align: right;\">\n",
              "      <th></th>\n",
              "      <th>Unnamed: 0</th>\n",
              "      <th>Response</th>\n",
              "    </tr>\n",
              "  </thead>\n",
              "  <tbody>\n",
              "    <tr>\n",
              "      <th>0</th>\n",
              "      <td>0</td>\n",
              "      <td>0</td>\n",
              "    </tr>\n",
              "    <tr>\n",
              "      <th>1</th>\n",
              "      <td>1</td>\n",
              "      <td>0</td>\n",
              "    </tr>\n",
              "    <tr>\n",
              "      <th>2</th>\n",
              "      <td>2</td>\n",
              "      <td>0</td>\n",
              "    </tr>\n",
              "    <tr>\n",
              "      <th>3</th>\n",
              "      <td>3</td>\n",
              "      <td>0</td>\n",
              "    </tr>\n",
              "    <tr>\n",
              "      <th>4</th>\n",
              "      <td>4</td>\n",
              "      <td>0</td>\n",
              "    </tr>\n",
              "    <tr>\n",
              "      <th>...</th>\n",
              "      <td>...</td>\n",
              "      <td>...</td>\n",
              "    </tr>\n",
              "    <tr>\n",
              "      <th>534849</th>\n",
              "      <td>534849</td>\n",
              "      <td>1</td>\n",
              "    </tr>\n",
              "    <tr>\n",
              "      <th>534850</th>\n",
              "      <td>534850</td>\n",
              "      <td>1</td>\n",
              "    </tr>\n",
              "    <tr>\n",
              "      <th>534851</th>\n",
              "      <td>534851</td>\n",
              "      <td>1</td>\n",
              "    </tr>\n",
              "    <tr>\n",
              "      <th>534852</th>\n",
              "      <td>534852</td>\n",
              "      <td>1</td>\n",
              "    </tr>\n",
              "    <tr>\n",
              "      <th>534853</th>\n",
              "      <td>534853</td>\n",
              "      <td>1</td>\n",
              "    </tr>\n",
              "  </tbody>\n",
              "</table>\n",
              "<p>534854 rows × 2 columns</p>\n",
              "</div>"
            ],
            "text/plain": [
              "        Unnamed: 0  Response\n",
              "0                0         0\n",
              "1                1         0\n",
              "2                2         0\n",
              "3                3         0\n",
              "4                4         0\n",
              "...            ...       ...\n",
              "534849      534849         1\n",
              "534850      534850         1\n",
              "534851      534851         1\n",
              "534852      534852         1\n",
              "534853      534853         1\n",
              "\n",
              "[534854 rows x 2 columns]"
            ]
          },
          "metadata": {},
          "execution_count": 5
        }
      ]
    },
    {
      "cell_type": "code",
      "metadata": {
        "id": "biJhJoplQ4Rz"
      },
      "source": [
        "X_train_df.drop('Unnamed: 0',axis=1,inplace =True)\n",
        "X_test_df.drop('Unnamed: 0',axis=1,inplace=True)\n",
        "y_train_series.drop('Unnamed: 0',axis=1,inplace=True)\n",
        "y_test_series.drop('Unnamed: 0',axis=1,inplace=True)"
      ],
      "execution_count": 6,
      "outputs": []
    },
    {
      "cell_type": "code",
      "metadata": {
        "colab": {
          "base_uri": "https://localhost:8080/",
          "height": 417
        },
        "id": "b2xK7-R8SAck",
        "outputId": "246b6acf-17d5-46b5-e503-f08104cbeae6"
      },
      "source": [
        "X_train_df"
      ],
      "execution_count": 7,
      "outputs": [
        {
          "output_type": "execute_result",
          "data": {
            "text/html": [
              "<div>\n",
              "<style scoped>\n",
              "    .dataframe tbody tr th:only-of-type {\n",
              "        vertical-align: middle;\n",
              "    }\n",
              "\n",
              "    .dataframe tbody tr th {\n",
              "        vertical-align: top;\n",
              "    }\n",
              "\n",
              "    .dataframe thead th {\n",
              "        text-align: right;\n",
              "    }\n",
              "</style>\n",
              "<table border=\"1\" class=\"dataframe\">\n",
              "  <thead>\n",
              "    <tr style=\"text-align: right;\">\n",
              "      <th></th>\n",
              "      <th>Gender</th>\n",
              "      <th>Age</th>\n",
              "      <th>Driving_License</th>\n",
              "      <th>Region_Code</th>\n",
              "      <th>Previously_Insured</th>\n",
              "      <th>Vehicle_Damage</th>\n",
              "      <th>Annual_Premium</th>\n",
              "      <th>Policy_Sales_Channel</th>\n",
              "      <th>Vintage</th>\n",
              "      <th>&gt; 2 Years</th>\n",
              "      <th>1-2 Year</th>\n",
              "      <th>&lt; 1 Year</th>\n",
              "    </tr>\n",
              "  </thead>\n",
              "  <tbody>\n",
              "    <tr>\n",
              "      <th>0</th>\n",
              "      <td>1.0</td>\n",
              "      <td>0.660377</td>\n",
              "      <td>1.0</td>\n",
              "      <td>0.040000</td>\n",
              "      <td>1.0</td>\n",
              "      <td>0.0</td>\n",
              "      <td>0.514469</td>\n",
              "      <td>0.199483</td>\n",
              "      <td>0.830340</td>\n",
              "      <td>0.0</td>\n",
              "      <td>1.0</td>\n",
              "      <td>0.0</td>\n",
              "    </tr>\n",
              "    <tr>\n",
              "      <th>1</th>\n",
              "      <td>1.0</td>\n",
              "      <td>0.302888</td>\n",
              "      <td>1.0</td>\n",
              "      <td>0.079150</td>\n",
              "      <td>0.0</td>\n",
              "      <td>1.0</td>\n",
              "      <td>0.482469</td>\n",
              "      <td>0.028254</td>\n",
              "      <td>0.972147</td>\n",
              "      <td>0.0</td>\n",
              "      <td>0.0</td>\n",
              "      <td>1.0</td>\n",
              "    </tr>\n",
              "    <tr>\n",
              "      <th>2</th>\n",
              "      <td>0.0</td>\n",
              "      <td>0.096593</td>\n",
              "      <td>1.0</td>\n",
              "      <td>0.040000</td>\n",
              "      <td>1.0</td>\n",
              "      <td>0.0</td>\n",
              "      <td>0.507433</td>\n",
              "      <td>0.028254</td>\n",
              "      <td>0.830340</td>\n",
              "      <td>0.0</td>\n",
              "      <td>0.0</td>\n",
              "      <td>1.0</td>\n",
              "    </tr>\n",
              "    <tr>\n",
              "      <th>3</th>\n",
              "      <td>1.0</td>\n",
              "      <td>0.646956</td>\n",
              "      <td>1.0</td>\n",
              "      <td>0.187724</td>\n",
              "      <td>0.0</td>\n",
              "      <td>1.0</td>\n",
              "      <td>0.504804</td>\n",
              "      <td>0.190246</td>\n",
              "      <td>0.501713</td>\n",
              "      <td>0.0</td>\n",
              "      <td>1.0</td>\n",
              "      <td>0.0</td>\n",
              "    </tr>\n",
              "    <tr>\n",
              "      <th>4</th>\n",
              "      <td>0.0</td>\n",
              "      <td>0.126007</td>\n",
              "      <td>1.0</td>\n",
              "      <td>0.059212</td>\n",
              "      <td>1.0</td>\n",
              "      <td>0.0</td>\n",
              "      <td>0.465519</td>\n",
              "      <td>0.028254</td>\n",
              "      <td>0.796987</td>\n",
              "      <td>0.0</td>\n",
              "      <td>0.0</td>\n",
              "      <td>1.0</td>\n",
              "    </tr>\n",
              "    <tr>\n",
              "      <th>...</th>\n",
              "      <td>...</td>\n",
              "      <td>...</td>\n",
              "      <td>...</td>\n",
              "      <td>...</td>\n",
              "      <td>...</td>\n",
              "      <td>...</td>\n",
              "      <td>...</td>\n",
              "      <td>...</td>\n",
              "      <td>...</td>\n",
              "      <td>...</td>\n",
              "      <td>...</td>\n",
              "      <td>...</td>\n",
              "    </tr>\n",
              "    <tr>\n",
              "      <th>534849</th>\n",
              "      <td>1.0</td>\n",
              "      <td>0.619308</td>\n",
              "      <td>1.0</td>\n",
              "      <td>0.096761</td>\n",
              "      <td>0.0</td>\n",
              "      <td>1.0</td>\n",
              "      <td>0.453632</td>\n",
              "      <td>0.308744</td>\n",
              "      <td>0.959516</td>\n",
              "      <td>0.0</td>\n",
              "      <td>1.0</td>\n",
              "      <td>0.0</td>\n",
              "    </tr>\n",
              "    <tr>\n",
              "      <th>534850</th>\n",
              "      <td>1.0</td>\n",
              "      <td>0.366730</td>\n",
              "      <td>1.0</td>\n",
              "      <td>0.073512</td>\n",
              "      <td>0.0</td>\n",
              "      <td>1.0</td>\n",
              "      <td>0.490144</td>\n",
              "      <td>0.229386</td>\n",
              "      <td>0.852791</td>\n",
              "      <td>0.0</td>\n",
              "      <td>1.0</td>\n",
              "      <td>0.0</td>\n",
              "    </tr>\n",
              "    <tr>\n",
              "      <th>534851</th>\n",
              "      <td>0.0</td>\n",
              "      <td>0.484052</td>\n",
              "      <td>1.0</td>\n",
              "      <td>0.126357</td>\n",
              "      <td>0.0</td>\n",
              "      <td>1.0</td>\n",
              "      <td>0.409934</td>\n",
              "      <td>0.229691</td>\n",
              "      <td>0.299884</td>\n",
              "      <td>0.0</td>\n",
              "      <td>1.0</td>\n",
              "      <td>0.0</td>\n",
              "    </tr>\n",
              "    <tr>\n",
              "      <th>534852</th>\n",
              "      <td>1.0</td>\n",
              "      <td>0.444390</td>\n",
              "      <td>1.0</td>\n",
              "      <td>0.187724</td>\n",
              "      <td>0.0</td>\n",
              "      <td>1.0</td>\n",
              "      <td>0.548441</td>\n",
              "      <td>0.175655</td>\n",
              "      <td>0.767568</td>\n",
              "      <td>0.0</td>\n",
              "      <td>1.0</td>\n",
              "      <td>0.0</td>\n",
              "    </tr>\n",
              "    <tr>\n",
              "      <th>534853</th>\n",
              "      <td>0.0</td>\n",
              "      <td>0.481493</td>\n",
              "      <td>1.0</td>\n",
              "      <td>0.118314</td>\n",
              "      <td>0.0</td>\n",
              "      <td>1.0</td>\n",
              "      <td>0.527031</td>\n",
              "      <td>0.199483</td>\n",
              "      <td>0.700224</td>\n",
              "      <td>0.0</td>\n",
              "      <td>1.0</td>\n",
              "      <td>0.0</td>\n",
              "    </tr>\n",
              "  </tbody>\n",
              "</table>\n",
              "<p>534854 rows × 12 columns</p>\n",
              "</div>"
            ],
            "text/plain": [
              "        Gender       Age  Driving_License  ...  > 2 Years  1-2 Year  < 1 Year\n",
              "0          1.0  0.660377              1.0  ...        0.0       1.0       0.0\n",
              "1          1.0  0.302888              1.0  ...        0.0       0.0       1.0\n",
              "2          0.0  0.096593              1.0  ...        0.0       0.0       1.0\n",
              "3          1.0  0.646956              1.0  ...        0.0       1.0       0.0\n",
              "4          0.0  0.126007              1.0  ...        0.0       0.0       1.0\n",
              "...        ...       ...              ...  ...        ...       ...       ...\n",
              "534849     1.0  0.619308              1.0  ...        0.0       1.0       0.0\n",
              "534850     1.0  0.366730              1.0  ...        0.0       1.0       0.0\n",
              "534851     0.0  0.484052              1.0  ...        0.0       1.0       0.0\n",
              "534852     1.0  0.444390              1.0  ...        0.0       1.0       0.0\n",
              "534853     0.0  0.481493              1.0  ...        0.0       1.0       0.0\n",
              "\n",
              "[534854 rows x 12 columns]"
            ]
          },
          "metadata": {},
          "execution_count": 7
        }
      ]
    },
    {
      "cell_type": "code",
      "metadata": {
        "colab": {
          "base_uri": "https://localhost:8080/",
          "height": 417
        },
        "id": "hVj6ulhPSILs",
        "outputId": "fc43438e-74ef-4932-81c2-cf7edd8f1681"
      },
      "source": [
        "y_train_series"
      ],
      "execution_count": 8,
      "outputs": [
        {
          "output_type": "execute_result",
          "data": {
            "text/html": [
              "<div>\n",
              "<style scoped>\n",
              "    .dataframe tbody tr th:only-of-type {\n",
              "        vertical-align: middle;\n",
              "    }\n",
              "\n",
              "    .dataframe tbody tr th {\n",
              "        vertical-align: top;\n",
              "    }\n",
              "\n",
              "    .dataframe thead th {\n",
              "        text-align: right;\n",
              "    }\n",
              "</style>\n",
              "<table border=\"1\" class=\"dataframe\">\n",
              "  <thead>\n",
              "    <tr style=\"text-align: right;\">\n",
              "      <th></th>\n",
              "      <th>Response</th>\n",
              "    </tr>\n",
              "  </thead>\n",
              "  <tbody>\n",
              "    <tr>\n",
              "      <th>0</th>\n",
              "      <td>0</td>\n",
              "    </tr>\n",
              "    <tr>\n",
              "      <th>1</th>\n",
              "      <td>0</td>\n",
              "    </tr>\n",
              "    <tr>\n",
              "      <th>2</th>\n",
              "      <td>0</td>\n",
              "    </tr>\n",
              "    <tr>\n",
              "      <th>3</th>\n",
              "      <td>0</td>\n",
              "    </tr>\n",
              "    <tr>\n",
              "      <th>4</th>\n",
              "      <td>0</td>\n",
              "    </tr>\n",
              "    <tr>\n",
              "      <th>...</th>\n",
              "      <td>...</td>\n",
              "    </tr>\n",
              "    <tr>\n",
              "      <th>534849</th>\n",
              "      <td>1</td>\n",
              "    </tr>\n",
              "    <tr>\n",
              "      <th>534850</th>\n",
              "      <td>1</td>\n",
              "    </tr>\n",
              "    <tr>\n",
              "      <th>534851</th>\n",
              "      <td>1</td>\n",
              "    </tr>\n",
              "    <tr>\n",
              "      <th>534852</th>\n",
              "      <td>1</td>\n",
              "    </tr>\n",
              "    <tr>\n",
              "      <th>534853</th>\n",
              "      <td>1</td>\n",
              "    </tr>\n",
              "  </tbody>\n",
              "</table>\n",
              "<p>534854 rows × 1 columns</p>\n",
              "</div>"
            ],
            "text/plain": [
              "        Response\n",
              "0              0\n",
              "1              0\n",
              "2              0\n",
              "3              0\n",
              "4              0\n",
              "...          ...\n",
              "534849         1\n",
              "534850         1\n",
              "534851         1\n",
              "534852         1\n",
              "534853         1\n",
              "\n",
              "[534854 rows x 1 columns]"
            ]
          },
          "metadata": {},
          "execution_count": 8
        }
      ]
    },
    {
      "cell_type": "code",
      "metadata": {
        "colab": {
          "base_uri": "https://localhost:8080/"
        },
        "id": "EAdHqZ7JSsZU",
        "outputId": "12aa633e-f687-424d-ff9d-2cf988fed847"
      },
      "source": [
        "y_train_series.values.reshape(-1)"
      ],
      "execution_count": 9,
      "outputs": [
        {
          "output_type": "execute_result",
          "data": {
            "text/plain": [
              "array([0, 0, 0, ..., 1, 1, 1])"
            ]
          },
          "metadata": {},
          "execution_count": 9
        }
      ]
    },
    {
      "cell_type": "code",
      "metadata": {
        "id": "Eekg3rq2NL0P"
      },
      "source": [
        "from sklearn.naive_bayes import GaussianNB\n",
        "gaussian_estimator = GaussianNB().fit(X_train_df.values,y_train_series.values.reshape(-1))"
      ],
      "execution_count": 10,
      "outputs": []
    },
    {
      "cell_type": "code",
      "metadata": {
        "id": "qwq7f4kLVEqV"
      },
      "source": [
        "from sklearn.metrics import accuracy_score, confusion_matrix,recall_score,precision_score,log_loss,f1_score,roc_auc_score,classification_report"
      ],
      "execution_count": 11,
      "outputs": []
    },
    {
      "cell_type": "code",
      "metadata": {
        "id": "pYfwrvEjvzcX"
      },
      "source": [
        "import matplotlib.pyplot as plt\n",
        "import seaborn as sns"
      ],
      "execution_count": 12,
      "outputs": []
    },
    {
      "cell_type": "code",
      "metadata": {
        "id": "ckrESDnWYEH6"
      },
      "source": [
        "def get_metric(model):\n",
        "\n",
        "    train_preds = model.predict(X_train_df.values)\n",
        "    test_preds = model.predict(X_test_df.values)\n",
        "\n",
        "    print(\"The classification report for training is \\n\")\n",
        "    print(classification_report(y_train_series.values.reshape(-1),train_preds),\"\\n\")\n",
        "    \n",
        "    print(\"The classification report for testing is \\n\")\n",
        "    print(classification_report(y_test_series.values.reshape(-1),test_preds),\"\\n\")\n",
        "    \n",
        "    \n",
        "    metrics = [roc_auc_score,accuracy_score,recall_score,precision_score,log_loss,f1_score]\n",
        "    metric_name = ['Roc Auc','Accuracy','Recall','Precision','Log loss','F1 score']\n",
        "    \n",
        "    zipped_list = []\n",
        "    for i in metrics:\n",
        "        tr = round(i(y_train_series.values.reshape(-1),train_preds),2)\n",
        "        ts = round(i(y_test_series.values.reshape(-1),test_preds),2)\n",
        "        zipped_list.append((tr,ts))\n",
        "    metric_df = pd.DataFrame(zipped_list,index=metric_name,columns=['Train','Test'])\n",
        "\n",
        "    for i in [confusion_matrix(y_train_series.values.reshape(-1),train_preds) , confusion_matrix(y_test_series.values.reshape(-1),test_preds)]:\n",
        "      print('Confusion Matrix for train set \\n',i,'\\n')\n",
        "    \n",
        "    true_dict = pd.Series(y_test_series.values.reshape(-1)).value_counts().to_dict()\n",
        "    pred_dict = pd.Series(test_preds).value_counts().to_dict()\n",
        "\n",
        "    tmp_df = pd.DataFrame(zip(true_dict.values(),pred_dict.values()),columns = ['Actual','Predicted'],index=[0,1])\n",
        "    tmp_df = tmp_df.div(tmp_df.sum(axis=0), axis=1)\n",
        "    tmp_df.plot(kind='bar', rot=0, xlabel='Response',ylabel='Percentages', figsize=(14, 6))\n",
        "#    plt.ylim((0, 100))\n",
        "    \n",
        "    \n",
        "    return metric_df"
      ],
      "execution_count": 13,
      "outputs": []
    },
    {
      "cell_type": "code",
      "metadata": {
        "colab": {
          "base_uri": "https://localhost:8080/",
          "height": 1000
        },
        "id": "8j6Iy4GBjPJp",
        "outputId": "48e87c1b-b3b5-4854-8a38-68d96841482e"
      },
      "source": [
        "get_metric(gaussian_estimator)"
      ],
      "execution_count": 14,
      "outputs": [
        {
          "output_type": "stream",
          "name": "stdout",
          "text": [
            "The classification report for training is \n",
            "\n",
            "              precision    recall  f1-score   support\n",
            "\n",
            "           0       0.87      0.69      0.77    267427\n",
            "           1       0.74      0.90      0.81    267427\n",
            "\n",
            "    accuracy                           0.79    534854\n",
            "   macro avg       0.80      0.79      0.79    534854\n",
            "weighted avg       0.80      0.79      0.79    534854\n",
            " \n",
            "\n",
            "The classification report for testing is \n",
            "\n",
            "              precision    recall  f1-score   support\n",
            "\n",
            "           0       0.98      0.69      0.81     66972\n",
            "           1       0.28      0.89      0.43      9250\n",
            "\n",
            "    accuracy                           0.71     76222\n",
            "   macro avg       0.63      0.79      0.62     76222\n",
            "weighted avg       0.89      0.71      0.76     76222\n",
            " \n",
            "\n",
            "Confusion Matrix for train set \n",
            " [[183260  84167]\n",
            " [ 27757 239670]] \n",
            "\n",
            "Confusion Matrix for train set \n",
            " [[45891 21081]\n",
            " [ 1006  8244]] \n",
            "\n"
          ]
        },
        {
          "output_type": "execute_result",
          "data": {
            "text/html": [
              "<div>\n",
              "<style scoped>\n",
              "    .dataframe tbody tr th:only-of-type {\n",
              "        vertical-align: middle;\n",
              "    }\n",
              "\n",
              "    .dataframe tbody tr th {\n",
              "        vertical-align: top;\n",
              "    }\n",
              "\n",
              "    .dataframe thead th {\n",
              "        text-align: right;\n",
              "    }\n",
              "</style>\n",
              "<table border=\"1\" class=\"dataframe\">\n",
              "  <thead>\n",
              "    <tr style=\"text-align: right;\">\n",
              "      <th></th>\n",
              "      <th>Train</th>\n",
              "      <th>Test</th>\n",
              "    </tr>\n",
              "  </thead>\n",
              "  <tbody>\n",
              "    <tr>\n",
              "      <th>Roc Auc</th>\n",
              "      <td>0.79</td>\n",
              "      <td>0.79</td>\n",
              "    </tr>\n",
              "    <tr>\n",
              "      <th>Accuracy</th>\n",
              "      <td>0.79</td>\n",
              "      <td>0.71</td>\n",
              "    </tr>\n",
              "    <tr>\n",
              "      <th>Recall</th>\n",
              "      <td>0.90</td>\n",
              "      <td>0.89</td>\n",
              "    </tr>\n",
              "    <tr>\n",
              "      <th>Precision</th>\n",
              "      <td>0.74</td>\n",
              "      <td>0.28</td>\n",
              "    </tr>\n",
              "    <tr>\n",
              "      <th>Log loss</th>\n",
              "      <td>7.23</td>\n",
              "      <td>10.01</td>\n",
              "    </tr>\n",
              "    <tr>\n",
              "      <th>F1 score</th>\n",
              "      <td>0.81</td>\n",
              "      <td>0.43</td>\n",
              "    </tr>\n",
              "  </tbody>\n",
              "</table>\n",
              "</div>"
            ],
            "text/plain": [
              "           Train   Test\n",
              "Roc Auc     0.79   0.79\n",
              "Accuracy    0.79   0.71\n",
              "Recall      0.90   0.89\n",
              "Precision   0.74   0.28\n",
              "Log loss    7.23  10.01\n",
              "F1 score    0.81   0.43"
            ]
          },
          "metadata": {},
          "execution_count": 14
        },
        {
          "output_type": "display_data",
          "data": {
            "image/png": "[encoded data removed]",
            "text/plain": [
              "<Figure size 1008x432 with 1 Axes>"
            ]
          },
          "metadata": {
            "needs_background": "light"
          }
        }
      ]
    },
    {
      "cell_type": "code",
      "metadata": {
        "id": "lMSny92m9oi0"
      },
      "source": [
        "from sklearn.model_selection import cross_validate"
      ],
      "execution_count": 16,
      "outputs": []
    },
    {
      "cell_type": "code",
      "metadata": {
        "colab": {
          "base_uri": "https://localhost:8080/"
        },
        "id": "03UFby0C8gpz",
        "outputId": "a7afb527-ab14-4cd6-a6b3-eca36cecd1e5"
      },
      "source": [
        "gaussian =  GaussianNB()\n",
        "scoring = ['accuracy']\n",
        "scores = cross_validate(gaussian,X_train_df, y_train_series, scoring = scoring, cv = 5, return_train_score=True,return_estimator=True,verbose = 10)"
      ],
      "execution_count": 17,
      "outputs": [
        {
          "output_type": "stream",
          "name": "stderr",
          "text": [
            "[Parallel(n_jobs=1)]: Using backend SequentialBackend with 1 concurrent workers.\n",
            "/usr/local/lib/python3.7/dist-packages/sklearn/naive_bayes.py:206: DataConversionWarning: A column-vector y was passed when a 1d array was expected. Please change the shape of y to (n_samples, ), for example using ravel().\n",
            "  y = column_or_1d(y, warn=True)\n"
          ]
        },
        {
          "output_type": "stream",
          "name": "stdout",
          "text": [
            "[CV]  ................................................................\n",
            "[CV] ............. , accuracy=(train=0.791, test=0.790), total=   0.2s\n",
            "[CV]  ................................................................\n"
          ]
        },
        {
          "output_type": "stream",
          "name": "stderr",
          "text": [
            "[Parallel(n_jobs=1)]: Done   1 out of   1 | elapsed:    0.4s remaining:    0.0s\n",
            "/usr/local/lib/python3.7/dist-packages/sklearn/naive_bayes.py:206: DataConversionWarning: A column-vector y was passed when a 1d array was expected. Please change the shape of y to (n_samples, ), for example using ravel().\n",
            "  y = column_or_1d(y, warn=True)\n"
          ]
        },
        {
          "output_type": "stream",
          "name": "stdout",
          "text": [
            "[CV] ............. , accuracy=(train=0.791, test=0.792), total=   0.2s\n",
            "[CV]  ................................................................\n"
          ]
        },
        {
          "output_type": "stream",
          "name": "stderr",
          "text": [
            "[Parallel(n_jobs=1)]: Done   2 out of   2 | elapsed:    0.7s remaining:    0.0s\n",
            "/usr/local/lib/python3.7/dist-packages/sklearn/naive_bayes.py:206: DataConversionWarning: A column-vector y was passed when a 1d array was expected. Please change the shape of y to (n_samples, ), for example using ravel().\n",
            "  y = column_or_1d(y, warn=True)\n"
          ]
        },
        {
          "output_type": "stream",
          "name": "stdout",
          "text": [
            "[CV] ............. , accuracy=(train=0.791, test=0.791), total=   0.2s\n",
            "[CV]  ................................................................\n"
          ]
        },
        {
          "output_type": "stream",
          "name": "stderr",
          "text": [
            "[Parallel(n_jobs=1)]: Done   3 out of   3 | elapsed:    1.1s remaining:    0.0s\n",
            "/usr/local/lib/python3.7/dist-packages/sklearn/naive_bayes.py:206: DataConversionWarning: A column-vector y was passed when a 1d array was expected. Please change the shape of y to (n_samples, ), for example using ravel().\n",
            "  y = column_or_1d(y, warn=True)\n"
          ]
        },
        {
          "output_type": "stream",
          "name": "stdout",
          "text": [
            "[CV] ............. , accuracy=(train=0.791, test=0.789), total=   0.2s\n",
            "[CV]  ................................................................\n"
          ]
        },
        {
          "output_type": "stream",
          "name": "stderr",
          "text": [
            "[Parallel(n_jobs=1)]: Done   4 out of   4 | elapsed:    1.5s remaining:    0.0s\n",
            "/usr/local/lib/python3.7/dist-packages/sklearn/naive_bayes.py:206: DataConversionWarning: A column-vector y was passed when a 1d array was expected. Please change the shape of y to (n_samples, ), for example using ravel().\n",
            "  y = column_or_1d(y, warn=True)\n"
          ]
        },
        {
          "output_type": "stream",
          "name": "stdout",
          "text": [
            "[CV] ............. , accuracy=(train=0.790, test=0.792), total=   0.2s\n"
          ]
        },
        {
          "output_type": "stream",
          "name": "stderr",
          "text": [
            "[Parallel(n_jobs=1)]: Done   5 out of   5 | elapsed:    1.8s remaining:    0.0s\n",
            "[Parallel(n_jobs=1)]: Done   5 out of   5 | elapsed:    1.8s finished\n"
          ]
        }
      ]
    },
    {
      "cell_type": "code",
      "metadata": {
        "colab": {
          "base_uri": "https://localhost:8080/"
        },
        "id": "ykpRDovJ82OF",
        "outputId": "11f62921-6cab-4748-97f5-3c77ce27d620"
      },
      "source": [
        "scores['train_accuracy']"
      ],
      "execution_count": 18,
      "outputs": [
        {
          "output_type": "execute_result",
          "data": {
            "text/plain": [
              "array([0.79093117, 0.79050348, 0.79079561, 0.79103166, 0.79043853])"
            ]
          },
          "metadata": {},
          "execution_count": 18
        }
      ]
    },
    {
      "cell_type": "code",
      "metadata": {
        "colab": {
          "base_uri": "https://localhost:8080/"
        },
        "id": "SBXQ2caI87XT",
        "outputId": "411802b4-7ca4-4683-cc03-3c25b0bec6d8"
      },
      "source": [
        "scores['test_accuracy']"
      ],
      "execution_count": 19,
      "outputs": [
        {
          "output_type": "execute_result",
          "data": {
            "text/plain": [
              "array([0.7900272 , 0.79167251, 0.79056941, 0.78943826, 0.79201645])"
            ]
          },
          "metadata": {},
          "execution_count": 19
        }
      ]
    },
    {
      "cell_type": "markdown",
      "metadata": {
        "id": "FSDMr7R8vXA4"
      },
      "source": [
        "# LOGISTIC REGRESSION"
      ]
    },
    {
      "cell_type": "code",
      "metadata": {
        "colab": {
          "base_uri": "https://localhost:8080/"
        },
        "id": "DLqtp_gJsQWo",
        "outputId": "18b275f9-e63c-4c25-8f95-0ea81408cef5"
      },
      "source": [
        "from sklearn.linear_model import LogisticRegression\n",
        "clf = LogisticRegression(fit_intercept=True, max_iter=10000)\n",
        "clf.fit(X_train_df.values,y_train_series.values.reshape(-1))"
      ],
      "execution_count": 20,
      "outputs": [
        {
          "output_type": "execute_result",
          "data": {
            "text/plain": [
              "LogisticRegression(C=1.0, class_weight=None, dual=False, fit_intercept=True,\n",
              "                   intercept_scaling=1, l1_ratio=None, max_iter=10000,\n",
              "                   multi_class='auto', n_jobs=None, penalty='l2',\n",
              "                   random_state=None, solver='lbfgs', tol=0.0001, verbose=0,\n",
              "                   warm_start=False)"
            ]
          },
          "metadata": {},
          "execution_count": 20
        }
      ]
    },
    {
      "cell_type": "code",
      "metadata": {
        "colab": {
          "base_uri": "https://localhost:8080/",
          "height": 1000
        },
        "id": "kosqZE1_087e",
        "outputId": "8a3cc0ae-e1d3-40a0-df86-2c6986ee37c9"
      },
      "source": [
        "get_metric(clf)"
      ],
      "execution_count": 21,
      "outputs": [
        {
          "output_type": "stream",
          "name": "stdout",
          "text": [
            "The classification report for training is \n",
            "\n",
            "              precision    recall  f1-score   support\n",
            "\n",
            "           0       0.90      0.66      0.76    267427\n",
            "           1       0.73      0.92      0.82    267427\n",
            "\n",
            "    accuracy                           0.79    534854\n",
            "   macro avg       0.81      0.79      0.79    534854\n",
            "weighted avg       0.81      0.79      0.79    534854\n",
            " \n",
            "\n",
            "The classification report for testing is \n",
            "\n",
            "              precision    recall  f1-score   support\n",
            "\n",
            "           0       0.98      0.66      0.79     66972\n",
            "           1       0.27      0.92      0.42      9250\n",
            "\n",
            "    accuracy                           0.69     76222\n",
            "   macro avg       0.63      0.79      0.61     76222\n",
            "weighted avg       0.90      0.69      0.75     76222\n",
            " \n",
            "\n",
            "Confusion Matrix for train set \n",
            " [[176921  90506]\n",
            " [ 20466 246961]] \n",
            "\n",
            "Confusion Matrix for train set \n",
            " [[44330 22642]\n",
            " [  778  8472]] \n",
            "\n"
          ]
        },
        {
          "output_type": "execute_result",
          "data": {
            "text/html": [
              "<div>\n",
              "<style scoped>\n",
              "    .dataframe tbody tr th:only-of-type {\n",
              "        vertical-align: middle;\n",
              "    }\n",
              "\n",
              "    .dataframe tbody tr th {\n",
              "        vertical-align: top;\n",
              "    }\n",
              "\n",
              "    .dataframe thead th {\n",
              "        text-align: right;\n",
              "    }\n",
              "</style>\n",
              "<table border=\"1\" class=\"dataframe\">\n",
              "  <thead>\n",
              "    <tr style=\"text-align: right;\">\n",
              "      <th></th>\n",
              "      <th>Train</th>\n",
              "      <th>Test</th>\n",
              "    </tr>\n",
              "  </thead>\n",
              "  <tbody>\n",
              "    <tr>\n",
              "      <th>Roc Auc</th>\n",
              "      <td>0.79</td>\n",
              "      <td>0.79</td>\n",
              "    </tr>\n",
              "    <tr>\n",
              "      <th>Accuracy</th>\n",
              "      <td>0.79</td>\n",
              "      <td>0.69</td>\n",
              "    </tr>\n",
              "    <tr>\n",
              "      <th>Recall</th>\n",
              "      <td>0.92</td>\n",
              "      <td>0.92</td>\n",
              "    </tr>\n",
              "    <tr>\n",
              "      <th>Precision</th>\n",
              "      <td>0.73</td>\n",
              "      <td>0.27</td>\n",
              "    </tr>\n",
              "    <tr>\n",
              "      <th>Log loss</th>\n",
              "      <td>7.17</td>\n",
              "      <td>10.61</td>\n",
              "    </tr>\n",
              "    <tr>\n",
              "      <th>F1 score</th>\n",
              "      <td>0.82</td>\n",
              "      <td>0.42</td>\n",
              "    </tr>\n",
              "  </tbody>\n",
              "</table>\n",
              "</div>"
            ],
            "text/plain": [
              "           Train   Test\n",
              "Roc Auc     0.79   0.79\n",
              "Accuracy    0.79   0.69\n",
              "Recall      0.92   0.92\n",
              "Precision   0.73   0.27\n",
              "Log loss    7.17  10.61\n",
              "F1 score    0.82   0.42"
            ]
          },
          "metadata": {},
          "execution_count": 21
        },
        {
          "output_type": "display_data",
          "data": {
            "image/png": "[encoded data removed]",
            "text/plain": [
              "<Figure size 1008x432 with 1 Axes>"
            ]
          },
          "metadata": {
            "needs_background": "light"
          }
        }
      ]
    },
    {
      "cell_type": "code",
      "metadata": {
        "id": "ifDyhc0U2Evu"
      },
      "source": [
        "from sklearn.linear_model import LogisticRegressionCV"
      ],
      "execution_count": 22,
      "outputs": []
    },
    {
      "cell_type": "code",
      "metadata": {
        "colab": {
          "base_uri": "https://localhost:8080/"
        },
        "id": "zYtbA_mh3FBp",
        "outputId": "4175df47-afca-4d80-ab4d-c808de7169da"
      },
      "source": [
        "logistic = LogisticRegression()\n",
        "scoring = ['accuracy']\n",
        "scores = cross_validate(logistic,X_train_df, y_train_series, scoring = scoring, cv = 5, return_train_score=True,return_estimator=True,verbose = 10)"
      ],
      "execution_count": 23,
      "outputs": [
        {
          "output_type": "stream",
          "name": "stderr",
          "text": [
            "[Parallel(n_jobs=1)]: Using backend SequentialBackend with 1 concurrent workers.\n",
            "/usr/local/lib/python3.7/dist-packages/sklearn/utils/validation.py:760: DataConversionWarning: A column-vector y was passed when a 1d array was expected. Please change the shape of y to (n_samples, ), for example using ravel().\n",
            "  y = column_or_1d(y, warn=True)\n"
          ]
        },
        {
          "output_type": "stream",
          "name": "stdout",
          "text": [
            "[CV]  ................................................................\n"
          ]
        },
        {
          "output_type": "stream",
          "name": "stderr",
          "text": [
            "/usr/local/lib/python3.7/dist-packages/sklearn/linear_model/_logistic.py:940: ConvergenceWarning: lbfgs failed to converge (status=1):\n",
            "STOP: TOTAL NO. of ITERATIONS REACHED LIMIT.\n",
            "\n",
            "Increase the number of iterations (max_iter) or scale the data as shown in:\n",
            "    https://scikit-learn.org/stable/modules/preprocessing.html\n",
            "Please also refer to the documentation for alternative solver options:\n",
            "    https://scikit-learn.org/stable/modules/linear_model.html#logistic-regression\n",
            "  extra_warning_msg=_LOGISTIC_SOLVER_CONVERGENCE_MSG)\n",
            "[Parallel(n_jobs=1)]: Done   1 out of   1 | elapsed:    8.2s remaining:    0.0s\n",
            "/usr/local/lib/python3.7/dist-packages/sklearn/utils/validation.py:760: DataConversionWarning: A column-vector y was passed when a 1d array was expected. Please change the shape of y to (n_samples, ), for example using ravel().\n",
            "  y = column_or_1d(y, warn=True)\n"
          ]
        },
        {
          "output_type": "stream",
          "name": "stdout",
          "text": [
            "[CV] ............. , accuracy=(train=0.793, test=0.791), total=   8.0s\n",
            "[CV]  ................................................................\n",
            "[CV] ............. , accuracy=(train=0.792, test=0.793), total=   6.9s\n",
            "[CV]  ................................................................\n"
          ]
        },
        {
          "output_type": "stream",
          "name": "stderr",
          "text": [
            "[Parallel(n_jobs=1)]: Done   2 out of   2 | elapsed:   15.2s remaining:    0.0s\n",
            "/usr/local/lib/python3.7/dist-packages/sklearn/utils/validation.py:760: DataConversionWarning: A column-vector y was passed when a 1d array was expected. Please change the shape of y to (n_samples, ), for example using ravel().\n",
            "  y = column_or_1d(y, warn=True)\n"
          ]
        },
        {
          "output_type": "stream",
          "name": "stdout",
          "text": [
            "[CV] ............. , accuracy=(train=0.792, test=0.793), total=   7.4s\n",
            "[CV]  ................................................................\n"
          ]
        },
        {
          "output_type": "stream",
          "name": "stderr",
          "text": [
            "[Parallel(n_jobs=1)]: Done   3 out of   3 | elapsed:   22.7s remaining:    0.0s\n",
            "/usr/local/lib/python3.7/dist-packages/sklearn/utils/validation.py:760: DataConversionWarning: A column-vector y was passed when a 1d array was expected. Please change the shape of y to (n_samples, ), for example using ravel().\n",
            "  y = column_or_1d(y, warn=True)\n"
          ]
        },
        {
          "output_type": "stream",
          "name": "stdout",
          "text": [
            "[CV] ............. , accuracy=(train=0.793, test=0.791), total=   6.5s\n",
            "[CV]  ................................................................\n"
          ]
        },
        {
          "output_type": "stream",
          "name": "stderr",
          "text": [
            "[Parallel(n_jobs=1)]: Done   4 out of   4 | elapsed:   29.3s remaining:    0.0s\n",
            "/usr/local/lib/python3.7/dist-packages/sklearn/utils/validation.py:760: DataConversionWarning: A column-vector y was passed when a 1d array was expected. Please change the shape of y to (n_samples, ), for example using ravel().\n",
            "  y = column_or_1d(y, warn=True)\n"
          ]
        },
        {
          "output_type": "stream",
          "name": "stdout",
          "text": [
            "[CV] ............. , accuracy=(train=0.792, test=0.794), total=   7.6s\n"
          ]
        },
        {
          "output_type": "stream",
          "name": "stderr",
          "text": [
            "[Parallel(n_jobs=1)]: Done   5 out of   5 | elapsed:   37.0s remaining:    0.0s\n",
            "[Parallel(n_jobs=1)]: Done   5 out of   5 | elapsed:   37.0s finished\n"
          ]
        }
      ]
    },
    {
      "cell_type": "code",
      "metadata": {
        "colab": {
          "base_uri": "https://localhost:8080/"
        },
        "id": "rNKFfmRc3pJ_",
        "outputId": "20b98d47-b5bf-40d0-a2bd-b21c2052d9ad"
      },
      "source": [
        "scores['train_accuracy']"
      ],
      "execution_count": 24,
      "outputs": [
        {
          "output_type": "execute_result",
          "data": {
            "text/plain": [
              "array([0.79297144, 0.79237549, 0.79229369, 0.79275176, 0.79206046])"
            ]
          },
          "metadata": {},
          "execution_count": 24
        }
      ]
    },
    {
      "cell_type": "code",
      "metadata": {
        "colab": {
          "base_uri": "https://localhost:8080/"
        },
        "id": "eNzCXM-83xAt",
        "outputId": "c28f8e92-13bf-433e-e061-5c9aa714a404"
      },
      "source": [
        "scores['test_accuracy']"
      ],
      "execution_count": 25,
      "outputs": [
        {
          "output_type": "execute_result",
          "data": {
            "text/plain": [
              "array([0.79084051, 0.79343   , 0.79318694, 0.79103682, 0.7941105 ])"
            ]
          },
          "metadata": {},
          "execution_count": 25
        }
      ]
    },
    {
      "cell_type": "code",
      "metadata": {
        "colab": {
          "base_uri": "https://localhost:8080/"
        },
        "id": "rI5B-eD13y1C",
        "outputId": "444a77d2-a47b-4e53-9705-a88c5a8dcd81"
      },
      "source": [
        "for model in scores['estimator']:\n",
        "    print(model.coef_)"
      ],
      "execution_count": 26,
      "outputs": [
        {
          "output_type": "stream",
          "name": "stdout",
          "text": [
            "[[ 1.09135753e-01 -1.25389958e+00  1.53777327e+00  3.06289984e+00\n",
            "  -3.95459612e+00  1.92561875e+00  2.88601962e-01  6.89773087e+00\n",
            "   3.95771951e-03 -6.49733644e-01 -8.03546990e-01 -1.15165065e+00]]\n",
            "[[ 0.1213904  -1.2310376   1.44458362  2.99184586 -3.96764407  1.91815834\n",
            "   0.2964332   6.64611961 -0.02512392 -0.64337111 -0.80184785 -1.16930671]]\n",
            "[[ 1.13901173e-01 -1.27744596e+00  1.50148303e+00  3.10683226e+00\n",
            "  -3.92571884e+00  1.91596703e+00  3.03127316e-01  6.70630021e+00\n",
            "   7.96742495e-04 -6.74627813e-01 -8.15077180e-01 -1.20083002e+00]]\n",
            "[[ 1.07333086e-01 -1.24275687e+00  1.41244008e+00  2.95309106e+00\n",
            "  -3.96565406e+00  1.93972634e+00  3.01230192e-01  6.67901366e+00\n",
            "   2.53246660e-03 -6.47791295e-01 -8.00393885e-01 -1.18342333e+00]]\n",
            "[[ 0.11522363 -1.28873367  1.53578669  3.11905236 -3.9428186   1.92025255\n",
            "   0.29058482  6.69183639 -0.01022116 -0.67724527 -0.8135238  -1.2031081 ]]\n"
          ]
        }
      ]
    },
    {
      "cell_type": "markdown",
      "metadata": {
        "id": "rXe7rT40y1nv"
      },
      "source": [
        "# **PCA**"
      ]
    },
    {
      "cell_type": "code",
      "metadata": {
        "id": "dFsvFczrRNQl"
      },
      "source": [
        "from sklearn.decomposition import PCA\n",
        "pca = PCA(n_components=6)"
      ],
      "execution_count": 27,
      "outputs": []
    },
    {
      "cell_type": "code",
      "metadata": {
        "id": "BLsyTaiX1plJ"
      },
      "source": [
        "X_train_df_pca = pca.fit_transform(X_train_df)"
      ],
      "execution_count": 28,
      "outputs": []
    },
    {
      "cell_type": "code",
      "metadata": {
        "colab": {
          "base_uri": "https://localhost:8080/"
        },
        "id": "ExL2HIdy_IB3",
        "outputId": "c5d668f4-1307-4912-a15f-be2c0099d6ad"
      },
      "source": [
        "pca.explained_variance_"
      ],
      "execution_count": 29,
      "outputs": [
        {
          "output_type": "execute_result",
          "data": {
            "text/plain": [
              "array([0.58947989, 0.25719386, 0.23670546, 0.09438684, 0.05163556,\n",
              "       0.03696365])"
            ]
          },
          "metadata": {},
          "execution_count": 29
        }
      ]
    },
    {
      "cell_type": "code",
      "metadata": {
        "colab": {
          "base_uri": "https://localhost:8080/"
        },
        "id": "6KNOVn6E-q1m",
        "outputId": "3cbf1af6-94ad-4eb6-9dc4-1a08bca1326f"
      },
      "source": [
        "X_train_df_pca"
      ],
      "execution_count": 30,
      "outputs": [
        {
          "output_type": "execute_result",
          "data": {
            "text/plain": [
              "array([[ 0.13045799,  1.17404548, -0.319504  ,  0.15399003, -0.091098  ,\n",
              "         0.10574189],\n",
              "       [ 0.43767722, -0.7784621 , -0.59236124, -0.23038139, -0.23262824,\n",
              "         0.09572201],\n",
              "       [ 1.48534352,  0.17405261,  0.37261872,  0.00543135, -0.09003617,\n",
              "         0.09101421],\n",
              "       ...,\n",
              "       [-0.52513124, -0.08049783,  0.66206633, -0.08694445,  0.43858554,\n",
              "         0.01750155],\n",
              "       [-0.66466191,  0.03609501, -0.31821951, -0.14984423, -0.02997298,\n",
              "         0.1572941 ],\n",
              "       [-0.52031602, -0.08203579,  0.66123995, -0.08127333,  0.03819602,\n",
              "         0.13313949]])"
            ]
          },
          "metadata": {},
          "execution_count": 30
        }
      ]
    },
    {
      "cell_type": "code",
      "metadata": {
        "id": "aRxQwv7E2Fu1"
      },
      "source": [
        "X_test_df_pca = pca.transform(X_test_df)"
      ],
      "execution_count": 31,
      "outputs": []
    },
    {
      "cell_type": "code",
      "metadata": {
        "id": "edU1QiT42Kyo"
      },
      "source": [
        "from sklearn.naive_bayes import GaussianNB\n",
        "gaussian_estimator = GaussianNB().fit(X_train_df_pca,y_train_series.values.reshape(-1))"
      ],
      "execution_count": 32,
      "outputs": []
    },
    {
      "cell_type": "code",
      "metadata": {
        "id": "AiuoK4DC2g6L"
      },
      "source": [
        "def get_metric(model):\n",
        "\n",
        "    train_preds = model.predict(X_train_df_pca)\n",
        "    test_preds = model.predict(X_test_df_pca)\n",
        "\n",
        "    print(\"The classification report for training is \\n\")\n",
        "    print(classification_report(y_train_series.values.reshape(-1),train_preds),\"\\n\")\n",
        "    \n",
        "    print(\"The classification report for testing is \\n\")\n",
        "    print(classification_report(y_test_series.values.reshape(-1),test_preds),\"\\n\")\n",
        "    \n",
        "    \n",
        "    metrics = [roc_auc_score,accuracy_score,recall_score,precision_score,log_loss,f1_score]\n",
        "    metric_name = ['Roc Auc','Accuracy','Recall','Precision','Log loss','F1 score']\n",
        "    \n",
        "    zipped_list = []\n",
        "    for i in metrics:\n",
        "        tr = round(i(y_train_series.values.reshape(-1),train_preds),2)\n",
        "        ts = round(i(y_test_series.values.reshape(-1),test_preds),2)\n",
        "        zipped_list.append((tr,ts))\n",
        "    metric_df = pd.DataFrame(zipped_list,index=metric_name,columns=['Train','Test'])\n",
        "\n",
        "    for i in [confusion_matrix(y_train_series.values.reshape(-1),train_preds) , confusion_matrix(y_test_series.values.reshape(-1),test_preds)]:\n",
        "      print('Confusion Matrix for train set \\n',i,'\\n')\n",
        "    \n",
        "    true_dict = pd.Series(y_test_series.values.reshape(-1)).value_counts().to_dict()\n",
        "    pred_dict = pd.Series(test_preds).value_counts().to_dict()\n",
        "\n",
        "    tmp_df = pd.DataFrame(zip(true_dict.values(),pred_dict.values()),columns = ['Actual','Predicted'],index=[0,1])\n",
        "    tmp_df = tmp_df.div(tmp_df.sum(axis=0), axis=1)\n",
        "    tmp_df.plot(kind='bar', rot=0, xlabel='Response',ylabel='Percentages', figsize=(14, 6))\n",
        "#    plt.ylim((0, 100))\n",
        "    \n",
        "    \n",
        "    return metric_df"
      ],
      "execution_count": 33,
      "outputs": []
    },
    {
      "cell_type": "code",
      "metadata": {
        "colab": {
          "base_uri": "https://localhost:8080/",
          "height": 1000
        },
        "id": "nEvWx1fO3LP2",
        "outputId": "85c8e30a-b723-49d5-ee32-cda6c3799fa4"
      },
      "source": [
        "get_metric(gaussian_estimator)"
      ],
      "execution_count": 34,
      "outputs": [
        {
          "output_type": "stream",
          "name": "stdout",
          "text": [
            "The classification report for training is \n",
            "\n",
            "              precision    recall  f1-score   support\n",
            "\n",
            "           0       0.81      0.70      0.75    267427\n",
            "           1       0.74      0.83      0.78    267427\n",
            "\n",
            "    accuracy                           0.77    534854\n",
            "   macro avg       0.77      0.77      0.77    534854\n",
            "weighted avg       0.77      0.77      0.77    534854\n",
            " \n",
            "\n",
            "The classification report for testing is \n",
            "\n",
            "              precision    recall  f1-score   support\n",
            "\n",
            "           0       0.97      0.70      0.81     66972\n",
            "           1       0.28      0.83      0.42      9250\n",
            "\n",
            "    accuracy                           0.72     76222\n",
            "   macro avg       0.62      0.77      0.62     76222\n",
            "weighted avg       0.88      0.72      0.77     76222\n",
            " \n",
            "\n",
            "Confusion Matrix for train set \n",
            " [[187883  79544]\n",
            " [ 44987 222440]] \n",
            "\n",
            "Confusion Matrix for train set \n",
            " [[47037 19935]\n",
            " [ 1565  7685]] \n",
            "\n"
          ]
        },
        {
          "output_type": "execute_result",
          "data": {
            "text/html": [
              "<div>\n",
              "<style scoped>\n",
              "    .dataframe tbody tr th:only-of-type {\n",
              "        vertical-align: middle;\n",
              "    }\n",
              "\n",
              "    .dataframe tbody tr th {\n",
              "        vertical-align: top;\n",
              "    }\n",
              "\n",
              "    .dataframe thead th {\n",
              "        text-align: right;\n",
              "    }\n",
              "</style>\n",
              "<table border=\"1\" class=\"dataframe\">\n",
              "  <thead>\n",
              "    <tr style=\"text-align: right;\">\n",
              "      <th></th>\n",
              "      <th>Train</th>\n",
              "      <th>Test</th>\n",
              "    </tr>\n",
              "  </thead>\n",
              "  <tbody>\n",
              "    <tr>\n",
              "      <th>Roc Auc</th>\n",
              "      <td>0.77</td>\n",
              "      <td>0.77</td>\n",
              "    </tr>\n",
              "    <tr>\n",
              "      <th>Accuracy</th>\n",
              "      <td>0.77</td>\n",
              "      <td>0.72</td>\n",
              "    </tr>\n",
              "    <tr>\n",
              "      <th>Recall</th>\n",
              "      <td>0.83</td>\n",
              "      <td>0.83</td>\n",
              "    </tr>\n",
              "    <tr>\n",
              "      <th>Precision</th>\n",
              "      <td>0.74</td>\n",
              "      <td>0.28</td>\n",
              "    </tr>\n",
              "    <tr>\n",
              "      <th>Log loss</th>\n",
              "      <td>8.04</td>\n",
              "      <td>9.74</td>\n",
              "    </tr>\n",
              "    <tr>\n",
              "      <th>F1 score</th>\n",
              "      <td>0.78</td>\n",
              "      <td>0.42</td>\n",
              "    </tr>\n",
              "  </tbody>\n",
              "</table>\n",
              "</div>"
            ],
            "text/plain": [
              "           Train  Test\n",
              "Roc Auc     0.77  0.77\n",
              "Accuracy    0.77  0.72\n",
              "Recall      0.83  0.83\n",
              "Precision   0.74  0.28\n",
              "Log loss    8.04  9.74\n",
              "F1 score    0.78  0.42"
            ]
          },
          "metadata": {},
          "execution_count": 34
        },
        {
          "output_type": "display_data",
          "data": {
            "image/png": "[encoded data removed]",
            "text/plain": [
              "<Figure size 1008x432 with 1 Axes>"
            ]
          },
          "metadata": {
            "needs_background": "light"
          }
        }
      ]
    },
    {
      "cell_type": "code",
      "metadata": {
        "colab": {
          "base_uri": "https://localhost:8080/"
        },
        "id": "CDHRg1nu3QmD",
        "outputId": "a8437c0c-379c-422f-e6f0-e2c9f0be818e"
      },
      "source": [
        "from sklearn.linear_model import LogisticRegression\n",
        "clf = LogisticRegression(fit_intercept=True, max_iter=10000)\n",
        "clf.fit(X_train_df_pca,y_train_series.values.reshape(-1))"
      ],
      "execution_count": 35,
      "outputs": [
        {
          "output_type": "execute_result",
          "data": {
            "text/plain": [
              "LogisticRegression(C=1.0, class_weight=None, dual=False, fit_intercept=True,\n",
              "                   intercept_scaling=1, l1_ratio=None, max_iter=10000,\n",
              "                   multi_class='auto', n_jobs=None, penalty='l2',\n",
              "                   random_state=None, solver='lbfgs', tol=0.0001, verbose=0,\n",
              "                   warm_start=False)"
            ]
          },
          "metadata": {},
          "execution_count": 35
        }
      ]
    },
    {
      "cell_type": "code",
      "metadata": {
        "colab": {
          "base_uri": "https://localhost:8080/",
          "height": 1000
        },
        "id": "aXaCVL9_32jy",
        "outputId": "b8ddb259-d518-446f-a80b-6b8a9e1df08e"
      },
      "source": [
        "get_metric(clf)"
      ],
      "execution_count": 36,
      "outputs": [
        {
          "output_type": "stream",
          "name": "stdout",
          "text": [
            "The classification report for training is \n",
            "\n",
            "              precision    recall  f1-score   support\n",
            "\n",
            "           0       0.96      0.59      0.73    267427\n",
            "           1       0.70      0.98      0.82    267427\n",
            "\n",
            "    accuracy                           0.78    534854\n",
            "   macro avg       0.83      0.78      0.78    534854\n",
            "weighted avg       0.83      0.78      0.78    534854\n",
            " \n",
            "\n",
            "The classification report for testing is \n",
            "\n",
            "              precision    recall  f1-score   support\n",
            "\n",
            "           0       0.99      0.59      0.74     66972\n",
            "           1       0.25      0.98      0.39      9250\n",
            "\n",
            "    accuracy                           0.64     76222\n",
            "   macro avg       0.62      0.78      0.57     76222\n",
            "weighted avg       0.90      0.64      0.70     76222\n",
            " \n",
            "\n",
            "Confusion Matrix for train set \n",
            " [[158010 109417]\n",
            " [  6073 261354]] \n",
            "\n",
            "Confusion Matrix for train set \n",
            " [[39540 27432]\n",
            " [  223  9027]] \n",
            "\n"
          ]
        },
        {
          "output_type": "execute_result",
          "data": {
            "text/html": [
              "<div>\n",
              "<style scoped>\n",
              "    .dataframe tbody tr th:only-of-type {\n",
              "        vertical-align: middle;\n",
              "    }\n",
              "\n",
              "    .dataframe tbody tr th {\n",
              "        vertical-align: top;\n",
              "    }\n",
              "\n",
              "    .dataframe thead th {\n",
              "        text-align: right;\n",
              "    }\n",
              "</style>\n",
              "<table border=\"1\" class=\"dataframe\">\n",
              "  <thead>\n",
              "    <tr style=\"text-align: right;\">\n",
              "      <th></th>\n",
              "      <th>Train</th>\n",
              "      <th>Test</th>\n",
              "    </tr>\n",
              "  </thead>\n",
              "  <tbody>\n",
              "    <tr>\n",
              "      <th>Roc Auc</th>\n",
              "      <td>0.78</td>\n",
              "      <td>0.78</td>\n",
              "    </tr>\n",
              "    <tr>\n",
              "      <th>Accuracy</th>\n",
              "      <td>0.78</td>\n",
              "      <td>0.64</td>\n",
              "    </tr>\n",
              "    <tr>\n",
              "      <th>Recall</th>\n",
              "      <td>0.98</td>\n",
              "      <td>0.98</td>\n",
              "    </tr>\n",
              "    <tr>\n",
              "      <th>Precision</th>\n",
              "      <td>0.70</td>\n",
              "      <td>0.25</td>\n",
              "    </tr>\n",
              "    <tr>\n",
              "      <th>Log loss</th>\n",
              "      <td>7.46</td>\n",
              "      <td>12.53</td>\n",
              "    </tr>\n",
              "    <tr>\n",
              "      <th>F1 score</th>\n",
              "      <td>0.82</td>\n",
              "      <td>0.39</td>\n",
              "    </tr>\n",
              "  </tbody>\n",
              "</table>\n",
              "</div>"
            ],
            "text/plain": [
              "           Train   Test\n",
              "Roc Auc     0.78   0.78\n",
              "Accuracy    0.78   0.64\n",
              "Recall      0.98   0.98\n",
              "Precision   0.70   0.25\n",
              "Log loss    7.46  12.53\n",
              "F1 score    0.82   0.39"
            ]
          },
          "metadata": {},
          "execution_count": 36
        },
        {
          "output_type": "display_data",
          "data": {
            "image/png": "[encoded data removed]",
            "text/plain": [
              "<Figure size 1008x432 with 1 Axes>"
            ]
          },
          "metadata": {
            "needs_background": "light"
          }
        }
      ]
    },
    {
      "cell_type": "code",
      "metadata": {
        "colab": {
          "base_uri": "https://localhost:8080/"
        },
        "id": "jsvxHyXn3898",
        "outputId": "8ffe2601-7204-42b2-c4aa-a08e6a1a1ecb"
      },
      "source": [
        "logistic = LogisticRegression()\n",
        "scoring = ['accuracy']\n",
        "scores = cross_validate(logistic,X_train_df_pca, y_train_series, scoring = scoring, cv = 5, return_train_score=True,return_estimator=True,verbose = 10)"
      ],
      "execution_count": 37,
      "outputs": [
        {
          "output_type": "stream",
          "name": "stderr",
          "text": [
            "[Parallel(n_jobs=1)]: Using backend SequentialBackend with 1 concurrent workers.\n",
            "/usr/local/lib/python3.7/dist-packages/sklearn/utils/validation.py:760: DataConversionWarning: A column-vector y was passed when a 1d array was expected. Please change the shape of y to (n_samples, ), for example using ravel().\n",
            "  y = column_or_1d(y, warn=True)\n"
          ]
        },
        {
          "output_type": "stream",
          "name": "stdout",
          "text": [
            "[CV]  ................................................................\n",
            "[CV] ............. , accuracy=(train=0.784, test=0.784), total=   1.1s\n",
            "[CV]  ................................................................\n"
          ]
        },
        {
          "output_type": "stream",
          "name": "stderr",
          "text": [
            "[Parallel(n_jobs=1)]: Done   1 out of   1 | elapsed:    1.3s remaining:    0.0s\n",
            "/usr/local/lib/python3.7/dist-packages/sklearn/utils/validation.py:760: DataConversionWarning: A column-vector y was passed when a 1d array was expected. Please change the shape of y to (n_samples, ), for example using ravel().\n",
            "  y = column_or_1d(y, warn=True)\n"
          ]
        },
        {
          "output_type": "stream",
          "name": "stdout",
          "text": [
            "[CV] ............. , accuracy=(train=0.784, test=0.784), total=   1.2s\n",
            "[CV]  ................................................................\n"
          ]
        },
        {
          "output_type": "stream",
          "name": "stderr",
          "text": [
            "[Parallel(n_jobs=1)]: Done   2 out of   2 | elapsed:    2.6s remaining:    0.0s\n",
            "/usr/local/lib/python3.7/dist-packages/sklearn/utils/validation.py:760: DataConversionWarning: A column-vector y was passed when a 1d array was expected. Please change the shape of y to (n_samples, ), for example using ravel().\n",
            "  y = column_or_1d(y, warn=True)\n"
          ]
        },
        {
          "output_type": "stream",
          "name": "stdout",
          "text": [
            "[CV] ............. , accuracy=(train=0.784, test=0.785), total=   1.2s\n",
            "[CV]  ................................................................\n"
          ]
        },
        {
          "output_type": "stream",
          "name": "stderr",
          "text": [
            "[Parallel(n_jobs=1)]: Done   3 out of   3 | elapsed:    3.8s remaining:    0.0s\n",
            "/usr/local/lib/python3.7/dist-packages/sklearn/utils/validation.py:760: DataConversionWarning: A column-vector y was passed when a 1d array was expected. Please change the shape of y to (n_samples, ), for example using ravel().\n",
            "  y = column_or_1d(y, warn=True)\n"
          ]
        },
        {
          "output_type": "stream",
          "name": "stdout",
          "text": [
            "[CV] ............. , accuracy=(train=0.785, test=0.782), total=   1.1s\n",
            "[CV]  ................................................................\n"
          ]
        },
        {
          "output_type": "stream",
          "name": "stderr",
          "text": [
            "[Parallel(n_jobs=1)]: Done   4 out of   4 | elapsed:    5.1s remaining:    0.0s\n",
            "/usr/local/lib/python3.7/dist-packages/sklearn/utils/validation.py:760: DataConversionWarning: A column-vector y was passed when a 1d array was expected. Please change the shape of y to (n_samples, ), for example using ravel().\n",
            "  y = column_or_1d(y, warn=True)\n"
          ]
        },
        {
          "output_type": "stream",
          "name": "stdout",
          "text": [
            "[CV] ............. , accuracy=(train=0.784, test=0.785), total=   1.1s\n"
          ]
        },
        {
          "output_type": "stream",
          "name": "stderr",
          "text": [
            "[Parallel(n_jobs=1)]: Done   5 out of   5 | elapsed:    6.3s remaining:    0.0s\n",
            "[Parallel(n_jobs=1)]: Done   5 out of   5 | elapsed:    6.3s finished\n"
          ]
        }
      ]
    },
    {
      "cell_type": "code",
      "metadata": {
        "colab": {
          "base_uri": "https://localhost:8080/"
        },
        "id": "bmPPfAOL4Nx_",
        "outputId": "f306bbaa-d459-4a98-c8c8-c2de689ccbd7"
      },
      "source": [
        "scores['train_accuracy']"
      ],
      "execution_count": 38,
      "outputs": [
        {
          "output_type": "execute_result",
          "data": {
            "text/plain": [
              "array([0.78412557, 0.78398768, 0.78395029, 0.78452988, 0.78376616])"
            ]
          },
          "metadata": {},
          "execution_count": 38
        }
      ]
    },
    {
      "cell_type": "code",
      "metadata": {
        "colab": {
          "base_uri": "https://localhost:8080/"
        },
        "id": "meK53Whn4U0H",
        "outputId": "5575f2a4-2bf8-43b8-cd65-5e06f182acd2"
      },
      "source": [
        "scores['test_accuracy']"
      ],
      "execution_count": 39,
      "outputs": [
        {
          "output_type": "execute_result",
          "data": {
            "text/plain": [
              "array([0.78385731, 0.78440886, 0.78455843, 0.78224005, 0.78529494])"
            ]
          },
          "metadata": {},
          "execution_count": 39
        }
      ]
    },
    {
      "cell_type": "code",
      "metadata": {
        "colab": {
          "base_uri": "https://localhost:8080/"
        },
        "id": "U8GLekU84XAv",
        "outputId": "4c662ae7-5613-4420-e0c4-3b8f40c7afc5"
      },
      "source": [
        "for model in scores['estimator']:\n",
        "    print(model.coef_)"
      ],
      "execution_count": 40,
      "outputs": [
        {
          "output_type": "stream",
          "name": "stdout",
          "text": [
            "[[-2.64596574 -2.73424171 -0.00824278 -0.36270498 -0.00913569  0.09213549]]\n",
            "[[-2.64096456 -2.7315934  -0.01989768 -0.36042262  0.0174577   0.10253883]]\n",
            "[[-2.63635843 -2.71544811 -0.01115575 -0.37073087 -0.00471031  0.11333554]]\n",
            "[[-2.6574838  -2.74244613 -0.00686886 -0.36236641 -0.00973438  0.1062983 ]]\n",
            "[[-2.64048121 -2.72362094 -0.01062074 -0.37876287  0.00456784  0.09633559]]\n"
          ]
        }
      ]
    },
    {
      "cell_type": "code",
      "metadata": {
        "id": "zYpu6xCh4b46"
      },
      "source": [
        ""
      ],
      "execution_count": 40,
      "outputs": []
    }
  ]
}